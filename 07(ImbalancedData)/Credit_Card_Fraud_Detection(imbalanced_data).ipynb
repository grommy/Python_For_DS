{
 "cells": [
  {
   "cell_type": "markdown",
   "metadata": {},
   "source": [
    "# Credit Card Fraud Prediction with XGBoost\n",
    "_**Using Gradient Boosted Trees to Predict Fraudulent Transactions**_\n",
    "\n",
    "---"
   ]
  },
  {
   "cell_type": "markdown",
   "metadata": {},
   "source": [
    "## Contents\n",
    "\n",
    "1. [Background](#Background)\n",
    "1. [Setup](#Setup)\n",
    "1. [Data](#Data)\n",
    "1. [Imbalanced data problem](#Imbalanced_data_problem)\n",
    "1. [Host](#Host)\n",
    "  1. [Evaluate](#Evaluate)"
   ]
  },
  {
   "cell_type": "markdown",
   "metadata": {},
   "source": [
    "## Background\n",
    "\n",
    "\n",
    "\n",
    "Identifying Credit Card Fraudulent transaction is crucial to the banking business to protect their customers from fraud. Identifying fraud transactions is not an easy task and it can consume a lot of auditors time to identify those transactions and it can delay the purchasing of whatever items the card holder wants to purchase.\n",
    "\n",
    "In this notebook, I will demonstrate how to build an binary classification model to predict whether a specific credit card transaction is genuine of fraud. I will use Sagemaker's implementation of XGBoost algorithm.\n",
    "\n",
    "---\n",
    "## Machine Learning Process\n",
    "\n",
    "<img src=\"pics/MLProcess.png\">\n",
    "\n",
    "\n",
    "## Decision Trees and XGBoost\n",
    "\n",
    "<img src=\"pics/decision_trees2.png\" width=\"700\" height=\"700\">\n",
    "<img src=\"pics/decision_trees.png\" width=\"700\" height=\"700\">\n"
   ]
  },
  {
   "cell_type": "code",
   "execution_count": 1,
   "metadata": {},
   "outputs": [],
   "source": [
    "import pandas as pd\n",
    "import numpy as np\n",
    "import matplotlib.pyplot as plt\n",
    "import seaborn as sns\n",
    "\n",
    "pd.options.display.float_format = '{:.3f}'.format\n",
    "# pd.set_option('display.max_columns', 500)"
   ]
  },
  {
   "cell_type": "markdown",
   "metadata": {},
   "source": [
    "---\n",
    "## Data\n",
    "\n",
    "\n",
    "The datasets contains transactions made by credit cards in September 2013 by european cardholders. This dataset presents transactions that occurred in two days, where we have 492 frauds out of 284,807 transactions. The dataset is highly unbalanced, the positive class (frauds) account for 0.172% of all transactions.\n",
    "\n",
    "The dataset we use is publicly available at https://www.kaggle.com/mlg-ulb/creditcardfraud\n",
    "\n",
    "The dataset has been collected and analysed during a research collaboration of Worldline and the Machine Learning Group (http://mlg.ulb.ac.be) of ULB (Université Libre de Bruxelles) on big data mining and fraud detection. More details on current and past projects on related topics are available on http://mlg.ulb.ac.be/BruFence and http://mlg.ulb.ac.be/ARTML\n",
    "\n",
    "Please cite: Andrea Dal Pozzolo, Olivier Caelen, Reid A. Johnson and Gianluca Bontempi. Calibrating Probability with Undersampling for Unbalanced Classification. In Symposium on Computational Intelligence and Data Mining (CIDM), IEEE, 2015"
   ]
  },
  {
   "cell_type": "code",
   "execution_count": 4,
   "metadata": {},
   "outputs": [
    {
     "name": "stdout",
     "output_type": "stream",
     "text": [
      "credit_filtered.csv gm_2008_region.csv  mnist_digits.csv\r\n",
      "creditcard.csv      \u001b[31mkc_house_data.csv\u001b[m\u001b[m   \u001b[31mtelecom_churn.csv\u001b[m\u001b[m\r\n"
     ]
    }
   ],
   "source": [
    "!ls ../data"
   ]
  },
  {
   "cell_type": "code",
   "execution_count": 5,
   "metadata": {},
   "outputs": [
    {
     "data": {
      "text/html": [
       "<div>\n",
       "<style scoped>\n",
       "    .dataframe tbody tr th:only-of-type {\n",
       "        vertical-align: middle;\n",
       "    }\n",
       "\n",
       "    .dataframe tbody tr th {\n",
       "        vertical-align: top;\n",
       "    }\n",
       "\n",
       "    .dataframe thead th {\n",
       "        text-align: right;\n",
       "    }\n",
       "</style>\n",
       "<table border=\"1\" class=\"dataframe\">\n",
       "  <thead>\n",
       "    <tr style=\"text-align: right;\">\n",
       "      <th></th>\n",
       "      <th>V1</th>\n",
       "      <th>V2</th>\n",
       "      <th>V3</th>\n",
       "      <th>V4</th>\n",
       "      <th>V5</th>\n",
       "      <th>V6</th>\n",
       "      <th>V7</th>\n",
       "      <th>V8</th>\n",
       "      <th>V9</th>\n",
       "      <th>V10</th>\n",
       "      <th>...</th>\n",
       "      <th>V22</th>\n",
       "      <th>V23</th>\n",
       "      <th>V24</th>\n",
       "      <th>V25</th>\n",
       "      <th>V26</th>\n",
       "      <th>V27</th>\n",
       "      <th>V28</th>\n",
       "      <th>Class</th>\n",
       "      <th>amnt</th>\n",
       "      <th>tm</th>\n",
       "    </tr>\n",
       "  </thead>\n",
       "  <tbody>\n",
       "    <tr>\n",
       "      <th>0</th>\n",
       "      <td>-1.360</td>\n",
       "      <td>-0.073</td>\n",
       "      <td>2.536</td>\n",
       "      <td>1.378</td>\n",
       "      <td>-0.338</td>\n",
       "      <td>0.462</td>\n",
       "      <td>0.240</td>\n",
       "      <td>0.099</td>\n",
       "      <td>0.364</td>\n",
       "      <td>0.091</td>\n",
       "      <td>...</td>\n",
       "      <td>0.278</td>\n",
       "      <td>-0.110</td>\n",
       "      <td>0.067</td>\n",
       "      <td>0.129</td>\n",
       "      <td>-0.189</td>\n",
       "      <td>0.134</td>\n",
       "      <td>-0.021</td>\n",
       "      <td>0</td>\n",
       "      <td>1.783</td>\n",
       "      <td>-0.995</td>\n",
       "    </tr>\n",
       "    <tr>\n",
       "      <th>1</th>\n",
       "      <td>1.192</td>\n",
       "      <td>0.266</td>\n",
       "      <td>0.166</td>\n",
       "      <td>0.448</td>\n",
       "      <td>0.060</td>\n",
       "      <td>-0.082</td>\n",
       "      <td>-0.079</td>\n",
       "      <td>0.085</td>\n",
       "      <td>-0.255</td>\n",
       "      <td>-0.167</td>\n",
       "      <td>...</td>\n",
       "      <td>-0.639</td>\n",
       "      <td>0.101</td>\n",
       "      <td>-0.340</td>\n",
       "      <td>0.167</td>\n",
       "      <td>0.126</td>\n",
       "      <td>-0.009</td>\n",
       "      <td>0.015</td>\n",
       "      <td>0</td>\n",
       "      <td>-0.270</td>\n",
       "      <td>-0.995</td>\n",
       "    </tr>\n",
       "    <tr>\n",
       "      <th>2</th>\n",
       "      <td>-1.358</td>\n",
       "      <td>-1.340</td>\n",
       "      <td>1.773</td>\n",
       "      <td>0.380</td>\n",
       "      <td>-0.503</td>\n",
       "      <td>1.800</td>\n",
       "      <td>0.791</td>\n",
       "      <td>0.248</td>\n",
       "      <td>-1.515</td>\n",
       "      <td>0.208</td>\n",
       "      <td>...</td>\n",
       "      <td>0.772</td>\n",
       "      <td>0.909</td>\n",
       "      <td>-0.689</td>\n",
       "      <td>-0.328</td>\n",
       "      <td>-0.139</td>\n",
       "      <td>-0.055</td>\n",
       "      <td>-0.060</td>\n",
       "      <td>0</td>\n",
       "      <td>4.984</td>\n",
       "      <td>-0.995</td>\n",
       "    </tr>\n",
       "    <tr>\n",
       "      <th>3</th>\n",
       "      <td>-0.966</td>\n",
       "      <td>-0.185</td>\n",
       "      <td>1.793</td>\n",
       "      <td>-0.863</td>\n",
       "      <td>-0.010</td>\n",
       "      <td>1.247</td>\n",
       "      <td>0.238</td>\n",
       "      <td>0.377</td>\n",
       "      <td>-1.387</td>\n",
       "      <td>-0.055</td>\n",
       "      <td>...</td>\n",
       "      <td>0.005</td>\n",
       "      <td>-0.190</td>\n",
       "      <td>-1.176</td>\n",
       "      <td>0.647</td>\n",
       "      <td>-0.222</td>\n",
       "      <td>0.063</td>\n",
       "      <td>0.061</td>\n",
       "      <td>0</td>\n",
       "      <td>1.418</td>\n",
       "      <td>-0.995</td>\n",
       "    </tr>\n",
       "    <tr>\n",
       "      <th>4</th>\n",
       "      <td>-1.158</td>\n",
       "      <td>0.878</td>\n",
       "      <td>1.549</td>\n",
       "      <td>0.403</td>\n",
       "      <td>-0.407</td>\n",
       "      <td>0.096</td>\n",
       "      <td>0.593</td>\n",
       "      <td>-0.271</td>\n",
       "      <td>0.818</td>\n",
       "      <td>0.753</td>\n",
       "      <td>...</td>\n",
       "      <td>0.798</td>\n",
       "      <td>-0.137</td>\n",
       "      <td>0.141</td>\n",
       "      <td>-0.206</td>\n",
       "      <td>0.502</td>\n",
       "      <td>0.219</td>\n",
       "      <td>0.215</td>\n",
       "      <td>0</td>\n",
       "      <td>0.671</td>\n",
       "      <td>-0.995</td>\n",
       "    </tr>\n",
       "  </tbody>\n",
       "</table>\n",
       "<p>5 rows × 31 columns</p>\n",
       "</div>"
      ],
      "text/plain": [
       "      V1     V2    V3     V4     V5     V6     V7     V8     V9    V10  ...  \\\n",
       "0 -1.360 -0.073 2.536  1.378 -0.338  0.462  0.240  0.099  0.364  0.091  ...   \n",
       "1  1.192  0.266 0.166  0.448  0.060 -0.082 -0.079  0.085 -0.255 -0.167  ...   \n",
       "2 -1.358 -1.340 1.773  0.380 -0.503  1.800  0.791  0.248 -1.515  0.208  ...   \n",
       "3 -0.966 -0.185 1.793 -0.863 -0.010  1.247  0.238  0.377 -1.387 -0.055  ...   \n",
       "4 -1.158  0.878 1.549  0.403 -0.407  0.096  0.593 -0.271  0.818  0.753  ...   \n",
       "\n",
       "     V22    V23    V24    V25    V26    V27    V28  Class   amnt     tm  \n",
       "0  0.278 -0.110  0.067  0.129 -0.189  0.134 -0.021      0  1.783 -0.995  \n",
       "1 -0.639  0.101 -0.340  0.167  0.126 -0.009  0.015      0 -0.270 -0.995  \n",
       "2  0.772  0.909 -0.689 -0.328 -0.139 -0.055 -0.060      0  4.984 -0.995  \n",
       "3  0.005 -0.190 -1.176  0.647 -0.222  0.063  0.061      0  1.418 -0.995  \n",
       "4  0.798 -0.137  0.141 -0.206  0.502  0.219  0.215      0  0.671 -0.995  \n",
       "\n",
       "[5 rows x 31 columns]"
      ]
     },
     "execution_count": 5,
     "metadata": {},
     "output_type": "execute_result"
    }
   ],
   "source": [
    "import pandas as pd\n",
    "\n",
    "credit_df = pd.read_csv('../data/credit_filtered.csv')\n",
    "credit_df.head()"
   ]
  },
  {
   "cell_type": "markdown",
   "metadata": {},
   "source": [
    "# Exploratory Data Analysis\n",
    "\n",
    "<img src=\"pics/MLProcess2.png\" width=\"200\" height=\"200\">\n",
    "\n",
    "### 1- Get The Dataframe Summary\n",
    "\n",
    "Looks like the ```Time``` and ```Amount``` features need scaling"
   ]
  },
  {
   "cell_type": "code",
   "execution_count": 6,
   "metadata": {},
   "outputs": [
    {
     "data": {
      "text/html": [
       "<div>\n",
       "<style scoped>\n",
       "    .dataframe tbody tr th:only-of-type {\n",
       "        vertical-align: middle;\n",
       "    }\n",
       "\n",
       "    .dataframe tbody tr th {\n",
       "        vertical-align: top;\n",
       "    }\n",
       "\n",
       "    .dataframe thead th {\n",
       "        text-align: right;\n",
       "    }\n",
       "</style>\n",
       "<table border=\"1\" class=\"dataframe\">\n",
       "  <thead>\n",
       "    <tr style=\"text-align: right;\">\n",
       "      <th></th>\n",
       "      <th>V1</th>\n",
       "      <th>V2</th>\n",
       "      <th>V3</th>\n",
       "      <th>V4</th>\n",
       "      <th>V5</th>\n",
       "      <th>V6</th>\n",
       "      <th>V7</th>\n",
       "      <th>V8</th>\n",
       "      <th>V9</th>\n",
       "      <th>V10</th>\n",
       "      <th>...</th>\n",
       "      <th>V22</th>\n",
       "      <th>V23</th>\n",
       "      <th>V24</th>\n",
       "      <th>V25</th>\n",
       "      <th>V26</th>\n",
       "      <th>V27</th>\n",
       "      <th>V28</th>\n",
       "      <th>Class</th>\n",
       "      <th>amnt</th>\n",
       "      <th>tm</th>\n",
       "    </tr>\n",
       "  </thead>\n",
       "  <tbody>\n",
       "    <tr>\n",
       "      <th>count</th>\n",
       "      <td>271143.000</td>\n",
       "      <td>271143.000</td>\n",
       "      <td>271143.000</td>\n",
       "      <td>271143.000</td>\n",
       "      <td>271143.000</td>\n",
       "      <td>271143.000</td>\n",
       "      <td>271143.000</td>\n",
       "      <td>271143.000</td>\n",
       "      <td>271143.000</td>\n",
       "      <td>271143.000</td>\n",
       "      <td>...</td>\n",
       "      <td>271143.000</td>\n",
       "      <td>271143.000</td>\n",
       "      <td>271143.000</td>\n",
       "      <td>271143.000</td>\n",
       "      <td>271143.000</td>\n",
       "      <td>271143.000</td>\n",
       "      <td>271143.000</td>\n",
       "      <td>271143.000</td>\n",
       "      <td>271143.000</td>\n",
       "      <td>271143.000</td>\n",
       "    </tr>\n",
       "    <tr>\n",
       "      <th>mean</th>\n",
       "      <td>0.230</td>\n",
       "      <td>0.033</td>\n",
       "      <td>0.079</td>\n",
       "      <td>-0.014</td>\n",
       "      <td>0.011</td>\n",
       "      <td>-0.018</td>\n",
       "      <td>0.014</td>\n",
       "      <td>0.065</td>\n",
       "      <td>-0.036</td>\n",
       "      <td>-0.051</td>\n",
       "      <td>...</td>\n",
       "      <td>0.004</td>\n",
       "      <td>-0.005</td>\n",
       "      <td>-0.001</td>\n",
       "      <td>-0.002</td>\n",
       "      <td>0.000</td>\n",
       "      <td>-0.001</td>\n",
       "      <td>0.005</td>\n",
       "      <td>0.002</td>\n",
       "      <td>0.706</td>\n",
       "      <td>0.118</td>\n",
       "    </tr>\n",
       "    <tr>\n",
       "      <th>std</th>\n",
       "      <td>1.473</td>\n",
       "      <td>1.101</td>\n",
       "      <td>1.374</td>\n",
       "      <td>1.360</td>\n",
       "      <td>1.090</td>\n",
       "      <td>1.199</td>\n",
       "      <td>0.900</td>\n",
       "      <td>0.703</td>\n",
       "      <td>1.012</td>\n",
       "      <td>0.863</td>\n",
       "      <td>...</td>\n",
       "      <td>0.690</td>\n",
       "      <td>0.315</td>\n",
       "      <td>0.601</td>\n",
       "      <td>0.492</td>\n",
       "      <td>0.479</td>\n",
       "      <td>0.253</td>\n",
       "      <td>0.161</td>\n",
       "      <td>0.043</td>\n",
       "      <td>1.997</td>\n",
       "      <td>0.558</td>\n",
       "    </tr>\n",
       "    <tr>\n",
       "      <th>min</th>\n",
       "      <td>-30.552</td>\n",
       "      <td>-8.402</td>\n",
       "      <td>-31.104</td>\n",
       "      <td>-5.601</td>\n",
       "      <td>-22.106</td>\n",
       "      <td>-6.406</td>\n",
       "      <td>-43.557</td>\n",
       "      <td>-41.044</td>\n",
       "      <td>-13.434</td>\n",
       "      <td>-24.588</td>\n",
       "      <td>...</td>\n",
       "      <td>-8.887</td>\n",
       "      <td>-19.254</td>\n",
       "      <td>-2.837</td>\n",
       "      <td>-4.782</td>\n",
       "      <td>-1.653</td>\n",
       "      <td>-7.263</td>\n",
       "      <td>-2.513</td>\n",
       "      <td>0.000</td>\n",
       "      <td>-0.307</td>\n",
       "      <td>-0.995</td>\n",
       "    </tr>\n",
       "    <tr>\n",
       "      <th>25%</th>\n",
       "      <td>-0.806</td>\n",
       "      <td>-0.573</td>\n",
       "      <td>-0.802</td>\n",
       "      <td>-0.835</td>\n",
       "      <td>-0.666</td>\n",
       "      <td>-0.760</td>\n",
       "      <td>-0.528</td>\n",
       "      <td>-0.193</td>\n",
       "      <td>-0.641</td>\n",
       "      <td>-0.529</td>\n",
       "      <td>...</td>\n",
       "      <td>-0.536</td>\n",
       "      <td>-0.159</td>\n",
       "      <td>-0.354</td>\n",
       "      <td>-0.315</td>\n",
       "      <td>-0.325</td>\n",
       "      <td>-0.068</td>\n",
       "      <td>-0.050</td>\n",
       "      <td>0.000</td>\n",
       "      <td>-0.228</td>\n",
       "      <td>-0.359</td>\n",
       "    </tr>\n",
       "    <tr>\n",
       "      <th>50%</th>\n",
       "      <td>0.141</td>\n",
       "      <td>0.060</td>\n",
       "      <td>0.218</td>\n",
       "      <td>-0.018</td>\n",
       "      <td>-0.052</td>\n",
       "      <td>-0.281</td>\n",
       "      <td>0.044</td>\n",
       "      <td>0.027</td>\n",
       "      <td>-0.060</td>\n",
       "      <td>-0.100</td>\n",
       "      <td>...</td>\n",
       "      <td>0.007</td>\n",
       "      <td>-0.013</td>\n",
       "      <td>0.040</td>\n",
       "      <td>0.013</td>\n",
       "      <td>-0.051</td>\n",
       "      <td>0.001</td>\n",
       "      <td>0.011</td>\n",
       "      <td>0.000</td>\n",
       "      <td>-0.007</td>\n",
       "      <td>-0.002</td>\n",
       "    </tr>\n",
       "    <tr>\n",
       "      <th>75%</th>\n",
       "      <td>1.356</td>\n",
       "      <td>0.766</td>\n",
       "      <td>1.047</td>\n",
       "      <td>0.721</td>\n",
       "      <td>0.592</td>\n",
       "      <td>0.357</td>\n",
       "      <td>0.556</td>\n",
       "      <td>0.321</td>\n",
       "      <td>0.567</td>\n",
       "      <td>0.407</td>\n",
       "      <td>...</td>\n",
       "      <td>0.522</td>\n",
       "      <td>0.138</td>\n",
       "      <td>0.435</td>\n",
       "      <td>0.344</td>\n",
       "      <td>0.238</td>\n",
       "      <td>0.084</td>\n",
       "      <td>0.073</td>\n",
       "      <td>0.000</td>\n",
       "      <td>0.728</td>\n",
       "      <td>0.641</td>\n",
       "    </tr>\n",
       "    <tr>\n",
       "      <th>max</th>\n",
       "      <td>2.455</td>\n",
       "      <td>22.058</td>\n",
       "      <td>4.188</td>\n",
       "      <td>12.115</td>\n",
       "      <td>11.095</td>\n",
       "      <td>7.479</td>\n",
       "      <td>6.398</td>\n",
       "      <td>20.007</td>\n",
       "      <td>5.451</td>\n",
       "      <td>6.615</td>\n",
       "      <td>...</td>\n",
       "      <td>8.362</td>\n",
       "      <td>5.466</td>\n",
       "      <td>4.023</td>\n",
       "      <td>2.792</td>\n",
       "      <td>3.517</td>\n",
       "      <td>3.052</td>\n",
       "      <td>2.618</td>\n",
       "      <td>1.000</td>\n",
       "      <td>29.398</td>\n",
       "      <td>1.035</td>\n",
       "    </tr>\n",
       "  </tbody>\n",
       "</table>\n",
       "<p>8 rows × 31 columns</p>\n",
       "</div>"
      ],
      "text/plain": [
       "              V1         V2         V3         V4         V5         V6  \\\n",
       "count 271143.000 271143.000 271143.000 271143.000 271143.000 271143.000   \n",
       "mean       0.230      0.033      0.079     -0.014      0.011     -0.018   \n",
       "std        1.473      1.101      1.374      1.360      1.090      1.199   \n",
       "min      -30.552     -8.402    -31.104     -5.601    -22.106     -6.406   \n",
       "25%       -0.806     -0.573     -0.802     -0.835     -0.666     -0.760   \n",
       "50%        0.141      0.060      0.218     -0.018     -0.052     -0.281   \n",
       "75%        1.356      0.766      1.047      0.721      0.592      0.357   \n",
       "max        2.455     22.058      4.188     12.115     11.095      7.479   \n",
       "\n",
       "              V7         V8         V9        V10  ...        V22        V23  \\\n",
       "count 271143.000 271143.000 271143.000 271143.000  ... 271143.000 271143.000   \n",
       "mean       0.014      0.065     -0.036     -0.051  ...      0.004     -0.005   \n",
       "std        0.900      0.703      1.012      0.863  ...      0.690      0.315   \n",
       "min      -43.557    -41.044    -13.434    -24.588  ...     -8.887    -19.254   \n",
       "25%       -0.528     -0.193     -0.641     -0.529  ...     -0.536     -0.159   \n",
       "50%        0.044      0.027     -0.060     -0.100  ...      0.007     -0.013   \n",
       "75%        0.556      0.321      0.567      0.407  ...      0.522      0.138   \n",
       "max        6.398     20.007      5.451      6.615  ...      8.362      5.466   \n",
       "\n",
       "             V24        V25        V26        V27        V28      Class  \\\n",
       "count 271143.000 271143.000 271143.000 271143.000 271143.000 271143.000   \n",
       "mean      -0.001     -0.002      0.000     -0.001      0.005      0.002   \n",
       "std        0.601      0.492      0.479      0.253      0.161      0.043   \n",
       "min       -2.837     -4.782     -1.653     -7.263     -2.513      0.000   \n",
       "25%       -0.354     -0.315     -0.325     -0.068     -0.050      0.000   \n",
       "50%        0.040      0.013     -0.051      0.001      0.011      0.000   \n",
       "75%        0.435      0.344      0.238      0.084      0.073      0.000   \n",
       "max        4.023      2.792      3.517      3.052      2.618      1.000   \n",
       "\n",
       "            amnt         tm  \n",
       "count 271143.000 271143.000  \n",
       "mean       0.706      0.118  \n",
       "std        1.997      0.558  \n",
       "min       -0.307     -0.995  \n",
       "25%       -0.228     -0.359  \n",
       "50%       -0.007     -0.002  \n",
       "75%        0.728      0.641  \n",
       "max       29.398      1.035  \n",
       "\n",
       "[8 rows x 31 columns]"
      ]
     },
     "execution_count": 6,
     "metadata": {},
     "output_type": "execute_result"
    }
   ],
   "source": [
    "# Summarize the credit_df dataframe after scaling\n",
    "credit_df.describe()"
   ]
  },
  {
   "cell_type": "markdown",
   "metadata": {},
   "source": [
    "### 2- Checking The Balance of The Data\n",
    "\n",
    "Notice how imbalanced is our original dataset! Most of the transactions are non-fraud. If we use this dataframe as the base for our predictive models and analysis we might get a lot of errors and our algorithms will probably overfit since it will \"assume\" that most transactions are not fraud. But we don't want our model to assume, we want our model to detect patterns that give signs of fraud!"
   ]
  },
  {
   "cell_type": "code",
   "execution_count": 7,
   "metadata": {},
   "outputs": [
    {
     "name": "stdout",
     "output_type": "stream",
     "text": [
      "The number of Non-Frauds are: 270651 which is  99.82 % of the dataset\n",
      "The number of Frauds are: 492 which is  0.18 % of the dataset\n"
     ]
    }
   ],
   "source": [
    "print('The number of Non-Frauds are: ' + str(credit_df['Class'].value_counts()[0]) + ' which is ', round(credit_df['Class'].value_counts()[0]/len(credit_df) * 100,2), '% of the dataset')\n",
    "print('The number of Frauds are: ' + str(credit_df['Class'].value_counts()[1]) + ' which is ', round(credit_df['Class'].value_counts()[1]/len(credit_df) * 100,2), '% of the dataset')\n"
   ]
  },
  {
   "cell_type": "markdown",
   "metadata": {},
   "source": [
    "#### Plot the Class Distribution"
   ]
  },
  {
   "cell_type": "code",
   "execution_count": 8,
   "metadata": {},
   "outputs": [
    {
     "data": {
      "image/png": "[encoded data removed]",
      "text/plain": [
       "<Figure size 288x288 with 1 Axes>"
      ]
     },
     "metadata": {
      "needs_background": "light"
     },
     "output_type": "display_data"
    }
   ],
   "source": [
    "plt.figure(figsize=(4, 4))\n",
    "sns.countplot('Class', data=credit_df);"
   ]
  },
  {
   "cell_type": "markdown",
   "metadata": {},
   "source": [
    "### 3- Checking Missing Data\n",
    "\n",
    "If there are any missing data in our dataset, we need to deal with them before training. Data Imputation is a critical step in the Feature Engineering phase."
   ]
  },
  {
   "cell_type": "code",
   "execution_count": 9,
   "metadata": {},
   "outputs": [
    {
     "data": {
      "text/plain": [
       "False"
      ]
     },
     "execution_count": 9,
     "metadata": {},
     "output_type": "execute_result"
    }
   ],
   "source": [
    "credit_df.isna().sum().any()"
   ]
  },
  {
   "cell_type": "markdown",
   "metadata": {},
   "source": [
    "### 3- Feature Correlation\n",
    "\n",
    "A correlation matrix is a way to show the correlation between different variables in a dataset. Each cell in the table shows the correlation between two variables. A correlation matrix is used to summarize data and find what , as an input into a more advanced analysis\n",
    "\n",
    "**Positive Correlation means:** As feature X increases, feature Y increases and vice versa.\n",
    "\n",
    "**Negative Correlation means:** As feature X go in one direction (Increase), feature Y goes in the other direction (Decrease)\n",
    "\n",
    "Let's plot the first correlation matrix for the imbalanced data."
   ]
  },
  {
   "cell_type": "code",
   "execution_count": 10,
   "metadata": {},
   "outputs": [
    {
     "data": {
      "image/png": "[encoded data removed]",
      "text/plain": [
       "<Figure size 1440x720 with 2 Axes>"
      ]
     },
     "metadata": {
      "needs_background": "light"
     },
     "output_type": "display_data"
    }
   ],
   "source": [
    "# Sample figsize in inches\n",
    "fig, ax = plt.subplots(figsize=(20,10))         \n",
    "\n",
    "# Imbalanced DataFrame Correlation\n",
    "corr = credit_df.corr()\n",
    "sns.heatmap(corr, cmap='YlGnBu', annot_kws={'size':30}, ax=ax)\n",
    "ax.set_title(\"Imbalanced Correlation Matrix\", fontsize=14)\n",
    "\n",
    "plt.show()"
   ]
  },
  {
   "cell_type": "markdown",
   "metadata": {},
   "source": [
    "# Feature Engineering\n",
    "\n",
    "1- Scale the features that needs scaling.\n",
    "\n",
    "2- Detect and Remove Outliers.\n",
    "\n",
    "3- Fix the target feature imbalance problem.\n",
    "\n",
    "3- Split the data to train, validation and test.\n",
    "\n",
    "<img src=\"pics/fengineering.png\" width=\"200\" height=\"200\">\n",
    "\n",
    "### 1- Fixing The Feature Scaling Problem For (Time and Amount)"
   ]
  },
  {
   "cell_type": "code",
   "execution_count": 141,
   "metadata": {},
   "outputs": [],
   "source": [
    "# Since most of our data has already been scaled \n",
    "# we should scale the columns that are left to scale (Amount and Time)\n",
    "from sklearn.preprocessing import RobustScaler\n",
    "\n",
    "# RobustScaler is robust to outliers.\n",
    "credit_df['amount_after_scaling'] = RobustScaler().fit_transform(credit_df['Amount'].values.reshape(-1,1))\n",
    "credit_df['time_after_scaling'] = RobustScaler().fit_transform(credit_df['Time'].values.reshape(-1,1))"
   ]
  },
  {
   "cell_type": "code",
   "execution_count": 21,
   "metadata": {},
   "outputs": [],
   "source": [
    "credit_df.drop(['Time','Amount'], axis=1, inplace=True)"
   ]
  },
  {
   "cell_type": "code",
   "execution_count": 11,
   "metadata": {},
   "outputs": [],
   "source": [
    "y = credit_df['Class']\n",
    "X_all = credit_df.drop(['Class'], axis=1)\n",
    "\n",
    "# Place the class in the begining of the dataframe\n",
    "credit_df.drop(['Class'], axis=1, inplace=True)\n",
    "credit_df.insert(0, 'Class', y)"
   ]
  },
  {
   "cell_type": "code",
   "execution_count": 12,
   "metadata": {},
   "outputs": [
    {
     "data": {
      "text/html": [
       "<div>\n",
       "<style scoped>\n",
       "    .dataframe tbody tr th:only-of-type {\n",
       "        vertical-align: middle;\n",
       "    }\n",
       "\n",
       "    .dataframe tbody tr th {\n",
       "        vertical-align: top;\n",
       "    }\n",
       "\n",
       "    .dataframe thead th {\n",
       "        text-align: right;\n",
       "    }\n",
       "</style>\n",
       "<table border=\"1\" class=\"dataframe\">\n",
       "  <thead>\n",
       "    <tr style=\"text-align: right;\">\n",
       "      <th></th>\n",
       "      <th>Class</th>\n",
       "      <th>V1</th>\n",
       "      <th>V2</th>\n",
       "      <th>V3</th>\n",
       "      <th>V4</th>\n",
       "      <th>V5</th>\n",
       "      <th>V6</th>\n",
       "      <th>V7</th>\n",
       "      <th>V8</th>\n",
       "      <th>V9</th>\n",
       "      <th>...</th>\n",
       "      <th>V21</th>\n",
       "      <th>V22</th>\n",
       "      <th>V23</th>\n",
       "      <th>V24</th>\n",
       "      <th>V25</th>\n",
       "      <th>V26</th>\n",
       "      <th>V27</th>\n",
       "      <th>V28</th>\n",
       "      <th>amnt</th>\n",
       "      <th>tm</th>\n",
       "    </tr>\n",
       "  </thead>\n",
       "  <tbody>\n",
       "    <tr>\n",
       "      <th>count</th>\n",
       "      <td>271143.000</td>\n",
       "      <td>271143.000</td>\n",
       "      <td>271143.000</td>\n",
       "      <td>271143.000</td>\n",
       "      <td>271143.000</td>\n",
       "      <td>271143.000</td>\n",
       "      <td>271143.000</td>\n",
       "      <td>271143.000</td>\n",
       "      <td>271143.000</td>\n",
       "      <td>271143.000</td>\n",
       "      <td>...</td>\n",
       "      <td>271143.000</td>\n",
       "      <td>271143.000</td>\n",
       "      <td>271143.000</td>\n",
       "      <td>271143.000</td>\n",
       "      <td>271143.000</td>\n",
       "      <td>271143.000</td>\n",
       "      <td>271143.000</td>\n",
       "      <td>271143.000</td>\n",
       "      <td>271143.000</td>\n",
       "      <td>271143.000</td>\n",
       "    </tr>\n",
       "    <tr>\n",
       "      <th>mean</th>\n",
       "      <td>0.002</td>\n",
       "      <td>0.230</td>\n",
       "      <td>0.033</td>\n",
       "      <td>0.079</td>\n",
       "      <td>-0.014</td>\n",
       "      <td>0.011</td>\n",
       "      <td>-0.018</td>\n",
       "      <td>0.014</td>\n",
       "      <td>0.065</td>\n",
       "      <td>-0.036</td>\n",
       "      <td>...</td>\n",
       "      <td>-0.006</td>\n",
       "      <td>0.004</td>\n",
       "      <td>-0.005</td>\n",
       "      <td>-0.001</td>\n",
       "      <td>-0.002</td>\n",
       "      <td>0.000</td>\n",
       "      <td>-0.001</td>\n",
       "      <td>0.005</td>\n",
       "      <td>0.706</td>\n",
       "      <td>0.118</td>\n",
       "    </tr>\n",
       "    <tr>\n",
       "      <th>std</th>\n",
       "      <td>0.043</td>\n",
       "      <td>1.473</td>\n",
       "      <td>1.101</td>\n",
       "      <td>1.374</td>\n",
       "      <td>1.360</td>\n",
       "      <td>1.090</td>\n",
       "      <td>1.199</td>\n",
       "      <td>0.900</td>\n",
       "      <td>0.703</td>\n",
       "      <td>1.012</td>\n",
       "      <td>...</td>\n",
       "      <td>0.421</td>\n",
       "      <td>0.690</td>\n",
       "      <td>0.315</td>\n",
       "      <td>0.601</td>\n",
       "      <td>0.492</td>\n",
       "      <td>0.479</td>\n",
       "      <td>0.253</td>\n",
       "      <td>0.161</td>\n",
       "      <td>1.997</td>\n",
       "      <td>0.558</td>\n",
       "    </tr>\n",
       "    <tr>\n",
       "      <th>min</th>\n",
       "      <td>0.000</td>\n",
       "      <td>-30.552</td>\n",
       "      <td>-8.402</td>\n",
       "      <td>-31.104</td>\n",
       "      <td>-5.601</td>\n",
       "      <td>-22.106</td>\n",
       "      <td>-6.406</td>\n",
       "      <td>-43.557</td>\n",
       "      <td>-41.044</td>\n",
       "      <td>-13.434</td>\n",
       "      <td>...</td>\n",
       "      <td>-22.798</td>\n",
       "      <td>-8.887</td>\n",
       "      <td>-19.254</td>\n",
       "      <td>-2.837</td>\n",
       "      <td>-4.782</td>\n",
       "      <td>-1.653</td>\n",
       "      <td>-7.263</td>\n",
       "      <td>-2.513</td>\n",
       "      <td>-0.307</td>\n",
       "      <td>-0.995</td>\n",
       "    </tr>\n",
       "    <tr>\n",
       "      <th>25%</th>\n",
       "      <td>0.000</td>\n",
       "      <td>-0.806</td>\n",
       "      <td>-0.573</td>\n",
       "      <td>-0.802</td>\n",
       "      <td>-0.835</td>\n",
       "      <td>-0.666</td>\n",
       "      <td>-0.760</td>\n",
       "      <td>-0.528</td>\n",
       "      <td>-0.193</td>\n",
       "      <td>-0.641</td>\n",
       "      <td>...</td>\n",
       "      <td>-0.220</td>\n",
       "      <td>-0.536</td>\n",
       "      <td>-0.159</td>\n",
       "      <td>-0.354</td>\n",
       "      <td>-0.315</td>\n",
       "      <td>-0.325</td>\n",
       "      <td>-0.068</td>\n",
       "      <td>-0.050</td>\n",
       "      <td>-0.228</td>\n",
       "      <td>-0.359</td>\n",
       "    </tr>\n",
       "    <tr>\n",
       "      <th>50%</th>\n",
       "      <td>0.000</td>\n",
       "      <td>0.141</td>\n",
       "      <td>0.060</td>\n",
       "      <td>0.218</td>\n",
       "      <td>-0.018</td>\n",
       "      <td>-0.052</td>\n",
       "      <td>-0.281</td>\n",
       "      <td>0.044</td>\n",
       "      <td>0.027</td>\n",
       "      <td>-0.060</td>\n",
       "      <td>...</td>\n",
       "      <td>-0.028</td>\n",
       "      <td>0.007</td>\n",
       "      <td>-0.013</td>\n",
       "      <td>0.040</td>\n",
       "      <td>0.013</td>\n",
       "      <td>-0.051</td>\n",
       "      <td>0.001</td>\n",
       "      <td>0.011</td>\n",
       "      <td>-0.007</td>\n",
       "      <td>-0.002</td>\n",
       "    </tr>\n",
       "    <tr>\n",
       "      <th>75%</th>\n",
       "      <td>0.000</td>\n",
       "      <td>1.356</td>\n",
       "      <td>0.766</td>\n",
       "      <td>1.047</td>\n",
       "      <td>0.721</td>\n",
       "      <td>0.592</td>\n",
       "      <td>0.357</td>\n",
       "      <td>0.556</td>\n",
       "      <td>0.321</td>\n",
       "      <td>0.567</td>\n",
       "      <td>...</td>\n",
       "      <td>0.179</td>\n",
       "      <td>0.522</td>\n",
       "      <td>0.138</td>\n",
       "      <td>0.435</td>\n",
       "      <td>0.344</td>\n",
       "      <td>0.238</td>\n",
       "      <td>0.084</td>\n",
       "      <td>0.073</td>\n",
       "      <td>0.728</td>\n",
       "      <td>0.641</td>\n",
       "    </tr>\n",
       "    <tr>\n",
       "      <th>max</th>\n",
       "      <td>1.000</td>\n",
       "      <td>2.455</td>\n",
       "      <td>22.058</td>\n",
       "      <td>4.188</td>\n",
       "      <td>12.115</td>\n",
       "      <td>11.095</td>\n",
       "      <td>7.479</td>\n",
       "      <td>6.398</td>\n",
       "      <td>20.007</td>\n",
       "      <td>5.451</td>\n",
       "      <td>...</td>\n",
       "      <td>27.203</td>\n",
       "      <td>8.362</td>\n",
       "      <td>5.466</td>\n",
       "      <td>4.023</td>\n",
       "      <td>2.792</td>\n",
       "      <td>3.517</td>\n",
       "      <td>3.052</td>\n",
       "      <td>2.618</td>\n",
       "      <td>29.398</td>\n",
       "      <td>1.035</td>\n",
       "    </tr>\n",
       "  </tbody>\n",
       "</table>\n",
       "<p>8 rows × 31 columns</p>\n",
       "</div>"
      ],
      "text/plain": [
       "           Class         V1         V2         V3         V4         V5  \\\n",
       "count 271143.000 271143.000 271143.000 271143.000 271143.000 271143.000   \n",
       "mean       0.002      0.230      0.033      0.079     -0.014      0.011   \n",
       "std        0.043      1.473      1.101      1.374      1.360      1.090   \n",
       "min        0.000    -30.552     -8.402    -31.104     -5.601    -22.106   \n",
       "25%        0.000     -0.806     -0.573     -0.802     -0.835     -0.666   \n",
       "50%        0.000      0.141      0.060      0.218     -0.018     -0.052   \n",
       "75%        0.000      1.356      0.766      1.047      0.721      0.592   \n",
       "max        1.000      2.455     22.058      4.188     12.115     11.095   \n",
       "\n",
       "              V6         V7         V8         V9  ...        V21        V22  \\\n",
       "count 271143.000 271143.000 271143.000 271143.000  ... 271143.000 271143.000   \n",
       "mean      -0.018      0.014      0.065     -0.036  ...     -0.006      0.004   \n",
       "std        1.199      0.900      0.703      1.012  ...      0.421      0.690   \n",
       "min       -6.406    -43.557    -41.044    -13.434  ...    -22.798     -8.887   \n",
       "25%       -0.760     -0.528     -0.193     -0.641  ...     -0.220     -0.536   \n",
       "50%       -0.281      0.044      0.027     -0.060  ...     -0.028      0.007   \n",
       "75%        0.357      0.556      0.321      0.567  ...      0.179      0.522   \n",
       "max        7.479      6.398     20.007      5.451  ...     27.203      8.362   \n",
       "\n",
       "             V23        V24        V25        V26        V27        V28  \\\n",
       "count 271143.000 271143.000 271143.000 271143.000 271143.000 271143.000   \n",
       "mean      -0.005     -0.001     -0.002      0.000     -0.001      0.005   \n",
       "std        0.315      0.601      0.492      0.479      0.253      0.161   \n",
       "min      -19.254     -2.837     -4.782     -1.653     -7.263     -2.513   \n",
       "25%       -0.159     -0.354     -0.315     -0.325     -0.068     -0.050   \n",
       "50%       -0.013      0.040      0.013     -0.051      0.001      0.011   \n",
       "75%        0.138      0.435      0.344      0.238      0.084      0.073   \n",
       "max        5.466      4.023      2.792      3.517      3.052      2.618   \n",
       "\n",
       "            amnt         tm  \n",
       "count 271143.000 271143.000  \n",
       "mean       0.706      0.118  \n",
       "std        1.997      0.558  \n",
       "min       -0.307     -0.995  \n",
       "25%       -0.228     -0.359  \n",
       "50%       -0.007     -0.002  \n",
       "75%        0.728      0.641  \n",
       "max       29.398      1.035  \n",
       "\n",
       "[8 rows x 31 columns]"
      ]
     },
     "execution_count": 12,
     "metadata": {},
     "output_type": "execute_result"
    }
   ],
   "source": [
    "credit_df.describe()"
   ]
  },
  {
   "cell_type": "markdown",
   "metadata": {},
   "source": [
    "We can see immediately that:\n",
    "- `time_after_scaling` appears to be quite evenly distributed and scaled with min and max values are within the range of the other features\n",
    "- `amount_after_scaling` transaction amount values are also scaled to be within the range of the other features with min of -0.307 and max of 358.68"
   ]
  },
  {
   "cell_type": "markdown",
   "metadata": {},
   "source": [
    "## Clear outliers (to be done...)"
   ]
  },
  {
   "cell_type": "code",
   "execution_count": null,
   "metadata": {},
   "outputs": [],
   "source": []
  },
  {
   "cell_type": "markdown",
   "metadata": {},
   "source": [
    "# Imbalanced_data_problem"
   ]
  },
  {
   "cell_type": "markdown",
   "metadata": {},
   "source": [
    "https://towardsdatascience.com/methods-for-dealing-with-imbalanced-data-5b761be45a18"
   ]
  },
  {
   "cell_type": "markdown",
   "metadata": {},
   "source": [
    "Always split into test and train sets BEFORE trying oversampling techniques! "
   ]
  },
  {
   "cell_type": "markdown",
   "metadata": {},
   "source": [
    "### Train-test split"
   ]
  },
  {
   "cell_type": "code",
   "execution_count": 13,
   "metadata": {},
   "outputs": [],
   "source": [
    "y = credit_df['Class']\n",
    "X_all = credit_df.drop(columns=['Class'])"
   ]
  },
  {
   "cell_type": "code",
   "execution_count": 19,
   "metadata": {},
   "outputs": [],
   "source": [
    "from sklearn.model_selection import train_test_split\n",
    "X_train, X_test, y_train, y_test = train_test_split(X_all, y, stratify=y, random_state=1)\n",
    "\n",
    "imbalanced_test_X, imbalanced_test_y = X_test, y_test"
   ]
  },
  {
   "cell_type": "code",
   "execution_count": 20,
   "metadata": {},
   "outputs": [],
   "source": [
    "# no balancing\n",
    "\n",
    "X_to_train = X_train.copy()\n",
    "y_to_train = y_train.copy()\n",
    "\n",
    "# roc_auc 0.927\n",
    "# recall 0.854\n",
    "# accuracy 1.000\n",
    "\n",
    "# roc_auc 0.898\n",
    "# recall 0.797\n",
    "# accuracy 1.000"
   ]
  },
  {
   "cell_type": "markdown",
   "metadata": {},
   "source": [
    "### 2- Fix the target feature imbalance problem (Resampling)\n",
    "\n",
    "<img src=\"pics/resampling.png\">"
   ]
  },
  {
   "cell_type": "markdown",
   "metadata": {},
   "source": [
    "#### Undersampling The Class Feature"
   ]
  },
  {
   "cell_type": "code",
   "execution_count": 23,
   "metadata": {},
   "outputs": [
    {
     "data": {
      "text/plain": [
       "369"
      ]
     },
     "execution_count": 23,
     "metadata": {},
     "output_type": "execute_result"
    }
   ],
   "source": [
    "# Shuffle the Dataset.\n",
    "\n",
    "Xy = X_train.copy()\n",
    "Xy['Class'] = y\n",
    "\n",
    "ones = Xy['Class'].value_counts().loc[1]\n",
    "ones"
   ]
  },
  {
   "cell_type": "code",
   "execution_count": 24,
   "metadata": {},
   "outputs": [],
   "source": [
    "# shuffle\n",
    "shuffled_df = Xy.sample(frac=1,random_state=4)\n",
    "\n",
    "# amount of fraud classes #ones rows.\n",
    "fraud_df = shuffled_df.loc[shuffled_df['Class'] == 1]\n",
    "#Randomly select #ones observations.\n",
    "non_fraud_df = shuffled_df.loc[shuffled_df['Class'] == 0].sample(n=ones,random_state=42)\n",
    "\n",
    "\n",
    "undersampled_df = pd.concat([fraud_df, non_fraud_df])"
   ]
  },
  {
   "cell_type": "code",
   "execution_count": 25,
   "metadata": {
    "scrolled": true
   },
   "outputs": [
    {
     "data": {
      "image/png": "[encoded data removed]",
      "text/plain": [
       "<Figure size 288x288 with 1 Axes>"
      ]
     },
     "metadata": {
      "needs_background": "light"
     },
     "output_type": "display_data"
    }
   ],
   "source": [
    "plt.figure(figsize=(4, 4))\n",
    "sns.countplot('Class', data=undersampled_df)\n",
    "plt.title('Balanced Classes')\n",
    "plt.show()"
   ]
  },
  {
   "cell_type": "code",
   "execution_count": 26,
   "metadata": {},
   "outputs": [],
   "source": [
    "y_to_train = undersampled_df['Class']\n",
    "X_to_train = undersampled_df.drop(columns=['Class'])\n",
    "\n",
    "# roc_auc 0.955\n",
    "# recall 0.935\n",
    "# accuracy 0.976\n",
    "\n",
    "# roc_auc 0.934\n",
    "# recall 0.894\n",
    "# accuracy 0.973"
   ]
  },
  {
   "cell_type": "code",
   "execution_count": null,
   "metadata": {},
   "outputs": [],
   "source": []
  },
  {
   "cell_type": "markdown",
   "metadata": {},
   "source": [
    "## Simple oversampling"
   ]
  },
  {
   "cell_type": "code",
   "execution_count": 20,
   "metadata": {},
   "outputs": [
    {
     "data": {
      "text/plain": [
       "369"
      ]
     },
     "execution_count": 20,
     "metadata": {},
     "output_type": "execute_result"
    }
   ],
   "source": [
    "# Shuffle the Dataset.\n",
    "\n",
    "Xy = X_train.copy()\n",
    "Xy['Class'] = y\n",
    "\n",
    "ones = Xy['Class'].value_counts().loc[1]\n",
    "ones"
   ]
  },
  {
   "cell_type": "code",
   "execution_count": 21,
   "metadata": {},
   "outputs": [],
   "source": [
    "from sklearn.utils import resample\n",
    "\n",
    "#Randomly all majority class\n",
    "non_fraud_df = Xy.loc[Xy['Class'] == 0]\n",
    "\n",
    "# amount of fraud classes #ones rows.\n",
    "fraud_df = Xy.loc[Xy['Class'] == 1]\n",
    "# upsample minority\n",
    "fraud_upsampled_df = resample(fraud_df,\n",
    "                              replace=True, # sample with replacement\n",
    "                              n_samples=len(non_fraud_df), # match number in majority class\n",
    "                              random_state=27) # reproducible results\n",
    "\n",
    "\n",
    "oversampled_df = pd.concat([fraud_upsampled_df, non_fraud_df])"
   ]
  },
  {
   "cell_type": "code",
   "execution_count": 22,
   "metadata": {
    "scrolled": true
   },
   "outputs": [
    {
     "data": {
      "image/png": "[encoded data removed]",
      "text/plain": [
       "<Figure size 288x288 with 1 Axes>"
      ]
     },
     "metadata": {
      "needs_background": "light"
     },
     "output_type": "display_data"
    }
   ],
   "source": [
    "plt.figure(figsize=(4, 4))\n",
    "sns.countplot('Class', data=oversampled_df)\n",
    "plt.title('Balanced Classes')\n",
    "plt.show()"
   ]
  },
  {
   "cell_type": "code",
   "execution_count": 23,
   "metadata": {},
   "outputs": [],
   "source": [
    "y_to_train = oversampled_df['Class']\n",
    "X_to_train = oversampled_df.drop(columns=['Class'])\n",
    "\n",
    "# roc_auc 0.985\n",
    "# recall 0.976\n",
    "# accuracy 0.995"
   ]
  },
  {
   "cell_type": "markdown",
   "metadata": {},
   "source": [
    "#### Oversampling The Class Feature with SMOTE"
   ]
  },
  {
   "cell_type": "code",
   "execution_count": 24,
   "metadata": {},
   "outputs": [],
   "source": [
    "from imblearn.over_sampling import SMOTE\n",
    "sm = SMOTE(ratio='minority', random_state=7)\n",
    "\n",
    "X_to_train, y_to_train = sm.fit_sample(X_train, y_train)\n",
    "# oversampled_train = pd.concat([pd.DataFrame(oversampled_trainY), pd.DataFrame(oversampled_trainX)], axis=1)\n",
    "\n",
    "X_to_train = pd.DataFrame(X_to_train, columns=X_train.columns)"
   ]
  },
  {
   "cell_type": "code",
   "execution_count": 25,
   "metadata": {},
   "outputs": [],
   "source": [
    "smote_df = X_to_train.copy()\n",
    "smote_df['Class'] = y_to_train\n",
    "\n",
    "# roc_auc 0.954\n",
    "# recall 0.919\n",
    "# accuracy 0.989"
   ]
  },
  {
   "cell_type": "code",
   "execution_count": 26,
   "metadata": {},
   "outputs": [
    {
     "data": {
      "image/png": "[encoded data removed]",
      "text/plain": [
       "<Figure size 288x288 with 1 Axes>"
      ]
     },
     "metadata": {
      "needs_background": "light"
     },
     "output_type": "display_data"
    }
   ],
   "source": [
    "plt.figure(figsize=(4, 4))\n",
    "sns.countplot('Class', data=smote_df)\n",
    "plt.title('Balanced Classes')\n",
    "plt.show()"
   ]
  },
  {
   "cell_type": "markdown",
   "metadata": {},
   "source": [
    "## Train and evaluate"
   ]
  },
  {
   "cell_type": "code",
   "execution_count": 27,
   "metadata": {},
   "outputs": [],
   "source": [
    "from xgboost import XGBClassifier\n",
    "\n",
    "clf = XGBClassifier(random_state=1).fit(X_to_train, y_to_train)\n",
    "y_pred = clf.predict(imbalanced_test_X)"
   ]
  },
  {
   "cell_type": "code",
   "execution_count": 28,
   "metadata": {},
   "outputs": [
    {
     "name": "stdout",
     "output_type": "stream",
     "text": [
      "roc_auc 0.934\n",
      "recall 0.894\n",
      "accuracy 0.973\n"
     ]
    }
   ],
   "source": [
    "\n",
    "from sklearn.metrics import roc_auc_score, accuracy_score, f1_score, recall_score\n",
    "\n",
    "print(\"roc_auc %.3f\" % roc_auc_score(imbalanced_test_y, y_pred))\n",
    "print(\"recall %.3f\" % recall_score(imbalanced_test_y, y_pred))\n",
    "print(\"accuracy %.3f\" % accuracy_score(imbalanced_test_y, y_pred))\n"
   ]
  },
  {
   "cell_type": "code",
   "execution_count": null,
   "metadata": {},
   "outputs": [],
   "source": [
    "roc_auc 0.947\n",
    "recall 0.919\n",
    "accuracy 0.975"
   ]
  },
  {
   "cell_type": "code",
   "execution_count": 29,
   "metadata": {},
   "outputs": [],
   "source": [
    "from sklearn.svm import SVC"
   ]
  },
  {
   "cell_type": "code",
   "execution_count": 30,
   "metadata": {},
   "outputs": [
    {
     "data": {
      "text/plain": [
       "(738, 30)"
      ]
     },
     "execution_count": 30,
     "metadata": {},
     "output_type": "execute_result"
    }
   ],
   "source": [
    "X_to_train.shape"
   ]
  },
  {
   "cell_type": "code",
   "execution_count": 31,
   "metadata": {},
   "outputs": [
    {
     "name": "stderr",
     "output_type": "stream",
     "text": [
      "/Users/nickkon/.local/share/virtualenvs/itea-intro-ds/lib/python3.7/site-packages/sklearn/svm/base.py:193: FutureWarning: The default value of gamma will change from 'auto' to 'scale' in version 0.22 to account better for unscaled features. Set gamma explicitly to 'auto' or 'scale' to avoid this warning.\n",
      "  \"avoid this warning.\", FutureWarning)\n"
     ]
    }
   ],
   "source": [
    "sclf = SVC().fit(X_to_train, y_to_train)"
   ]
  },
  {
   "cell_type": "code",
   "execution_count": 32,
   "metadata": {},
   "outputs": [],
   "source": [
    "y_pred = sclf.predict(imbalanced_test_X)"
   ]
  },
  {
   "cell_type": "code",
   "execution_count": 33,
   "metadata": {},
   "outputs": [
    {
     "name": "stdout",
     "output_type": "stream",
     "text": [
      "roc_auc 0.947\n",
      "recall 0.919\n",
      "accuracy 0.975\n"
     ]
    }
   ],
   "source": [
    "from sklearn.metrics import roc_auc_score, accuracy_score, f1_score, recall_score\n",
    "\n",
    "print(\"roc_auc %.3f\" % roc_auc_score(imbalanced_test_y, y_pred))\n",
    "print(\"recall %.3f\" % recall_score(imbalanced_test_y, y_pred))\n",
    "print(\"accuracy %.3f\" % accuracy_score(imbalanced_test_y, y_pred))"
   ]
  },
  {
   "cell_type": "markdown",
   "metadata": {},
   "source": [
    "## Use specific algo that adresses the problem of imbalanced data"
   ]
  },
  {
   "cell_type": "code",
   "execution_count": 30,
   "metadata": {},
   "outputs": [],
   "source": [
    "from imblearn.ensemble import BalancedBaggingClassifier \n",
    "from sklearn.tree import DecisionTreeClassifier"
   ]
  },
  {
   "cell_type": "code",
   "execution_count": 31,
   "metadata": {},
   "outputs": [
    {
     "data": {
      "text/plain": [
       "BalancedBaggingClassifier(base_estimator=DecisionTreeClassifier(class_weight=None,\n",
       "                                                                criterion='gini',\n",
       "                                                                max_depth=None,\n",
       "                                                                max_features=None,\n",
       "                                                                max_leaf_nodes=None,\n",
       "                                                                min_impurity_decrease=0.0,\n",
       "                                                                min_impurity_split=None,\n",
       "                                                                min_samples_leaf=1,\n",
       "                                                                min_samples_split=2,\n",
       "                                                                min_weight_fraction_leaf=0.0,\n",
       "                                                                presort=False,\n",
       "                                                                random_state=None,\n",
       "                                                                splitter='best'),\n",
       "                          bootstrap=True, bootstrap_features=False,\n",
       "                          max_features=1.0, max_samples=1.0, n_estimators=10,\n",
       "                          n_jobs=1, oob_score=False, random_state=0, ratio=None,\n",
       "                          replacement=False, sampling_strategy='auto',\n",
       "                          verbose=0, warm_start=False)"
      ]
     },
     "execution_count": 31,
     "metadata": {},
     "output_type": "execute_result"
    }
   ],
   "source": [
    "bbc = BalancedBaggingClassifier(base_estimator=DecisionTreeClassifier(),\n",
    "                                sampling_strategy='auto',\n",
    "                                replacement=False,\n",
    "                                random_state=0)\n",
    "bbc.fit(X_train, y_train)"
   ]
  },
  {
   "cell_type": "code",
   "execution_count": 32,
   "metadata": {},
   "outputs": [],
   "source": [
    "y_pred = bbc.predict(imbalanced_test_X)\n",
    "# roc_auc 0.948\n",
    "# recall 0.919\n",
    "# accuracy 0.977"
   ]
  },
  {
   "cell_type": "markdown",
   "metadata": {},
   "source": [
    "### Conclusion\n",
    "*dealing with imbalanced datasets:*\n",
    " - Change the performance metric\n",
    " - Change the algorithm\n",
    " - Oversample minority class\n",
    " - Undersample majority class\n",
    " - Generate synthetic samples"
   ]
  },
  {
   "cell_type": "code",
   "execution_count": null,
   "metadata": {},
   "outputs": [],
   "source": []
  },
  {
   "cell_type": "markdown",
   "metadata": {},
   "source": [
    "### Check The Correlation Matrix After Downsampling"
   ]
  },
  {
   "cell_type": "code",
   "execution_count": null,
   "metadata": {},
   "outputs": [],
   "source": [
    "y_to_train = oversampled_df['Class']\n",
    "X_to_train = oversampled_df.drop(columns=['Class'])"
   ]
  },
  {
   "cell_type": "code",
   "execution_count": 106,
   "metadata": {},
   "outputs": [
    {
     "data": {
      "image/png": "[encoded data removed]",
      "text/plain": [
       "<Figure size 1440x720 with 2 Axes>"
      ]
     },
     "metadata": {
      "needs_background": "light"
     },
     "output_type": "display_data"
    }
   ],
   "source": [
    "fig, ax = plt.subplots(figsize=(20,10))         \n",
    "\n",
    "# Imbalanced DataFrame Correlation\n",
    "corr = oversampled_df.corr()\n",
    "sns.heatmap(corr, cmap='YlGnBu', annot_kws={'size':30}, ax=ax)\n",
    "ax.set_title(\"Imbalanced Correlation Matrix\", fontsize=14)\n",
    "\n",
    "plt.show()"
   ]
  },
  {
   "cell_type": "markdown",
   "metadata": {},
   "source": [
    "**Negative Correlations:** Some features, such as V17, V14, V12 are negatively correlated with the target class. That means that the lower these values, the more likely the transaction will be a fraudulent.\n",
    "\n",
    "**Positive Correlations:** Features V2, V4, V11 are positively correlated. That means that the higher these values, the more likely the transaction will be a fraudulent.\n",
    "\n",
    "Now, let's find any outliers in those features:\n",
    "\n",
    "--------------------\n",
    "\n"
   ]
  },
  {
   "cell_type": "code",
   "execution_count": 110,
   "metadata": {},
   "outputs": [],
   "source": [
    "# outliers detection"
   ]
  },
  {
   "cell_type": "markdown",
   "metadata": {},
   "source": [
    "## Model Tuning:"
   ]
  },
  {
   "cell_type": "markdown",
   "metadata": {},
   "source": [
    "<img src=\"pics/model_tuning.png\" width=\"700\" height=\"700\">\n",
    "\n",
    "\n",
    "\n",
    "### Tuning The Model - Hyperparameter Optimization (HPO)\n",
    "\n",
    "Hyperparameter tuning is a supervised machine learning regression problem. Given a set of input features (the hyperparameters), hyperparameter tuning optimizes a model for the metric that you choose. hyperparameter tuning makes guesses about which hyperparameter combinations are likely to get the best results, and runs training jobs to test these guesses."
   ]
  },
  {
   "cell_type": "markdown",
   "metadata": {},
   "source": [
    "Now, we can specify a few parameters like what type of training instances we'd like to use and how many, as well as our XGBoost hyperparameters.  A few key hyperparameters are:\n",
    "- `max_depth` controls how deep each tree within the algorithm can be built.  Deeper trees can lead to better fit, but are more computationally expensive and can lead to overfitting.  There is typically some trade-off in model performance that needs to be explored between a large number of shallow trees and a smaller number of deeper trees.\n",
    "- `subsample` controls sampling of the training data.  This technique can help reduce overfitting, but setting it too low can also starve the model of data.\n",
    "- `num_round` controls the number of boosting rounds.  This is essentially the subsequent models that are trained using the residuals of previous iterations.  Again, more rounds should produce a better fit on the training data, but can be computationally expensive or lead to overfitting.\n",
    "- `eta` controls how aggressive each round of boosting is.  Larger values lead to more conservative boosting.\n",
    "- `gamma` controls how aggressively trees are grown.  Larger values lead to more conservative models.\n",
    "\n",
    "Binary classification error rate. It is calculated as #(wrong cases)/#(all cases)\n",
    "\n",
    "\n",
    "More detail on XGBoost's hyperparmeters can be found on their GitHub [page](https://github.com/dmlc/xgboost/blob/master/doc/parameter.md)."
   ]
  },
  {
   "cell_type": "code",
   "execution_count": 111,
   "metadata": {},
   "outputs": [],
   "source": [
    "xgb_clf = XGBClassifier(max_depth=10, objective='binary:logistic', num_round=100, seed=1)\n",
    "# xgb_clf.fit(X_train, y_train)"
   ]
  },
  {
   "cell_type": "code",
   "execution_count": 113,
   "metadata": {},
   "outputs": [],
   "source": [
    "from sklearn.model_selection import RandomizedSearchCV"
   ]
  },
  {
   "cell_type": "code",
   "execution_count": 114,
   "metadata": {},
   "outputs": [],
   "source": [
    "params = {\n",
    "    'eta': np.linspace(0,1,11),\n",
    "    'min_child_weight': np.linspace(1,10,51),\n",
    "    'alpha': np.linspace(0,2,21),\n",
    "    'max_depth': np.arange(1,11,1),  \n",
    "}"
   ]
  },
  {
   "cell_type": "code",
   "execution_count": 115,
   "metadata": {},
   "outputs": [],
   "source": [
    "rcv = RandomizedSearchCV(estimator=xgb_clf,\n",
    "                        param_distributions=params,\n",
    "                        cv=3,\n",
    "                        n_iter=1,\n",
    "                        n_jobs=-2,\n",
    "                        random_state=1,\n",
    "                        scoring=\"roc_auc\")"
   ]
  },
  {
   "cell_type": "code",
   "execution_count": 116,
   "metadata": {},
   "outputs": [
    {
     "data": {
      "text/plain": [
       "426472"
      ]
     },
     "execution_count": 116,
     "metadata": {},
     "output_type": "execute_result"
    }
   ],
   "source": [
    "len(X_to_train)"
   ]
  },
  {
   "cell_type": "code",
   "execution_count": 117,
   "metadata": {},
   "outputs": [],
   "source": [
    "rcv.fit(X_to_train, y_to_train);"
   ]
  },
  {
   "cell_type": "code",
   "execution_count": 118,
   "metadata": {},
   "outputs": [],
   "source": [
    "model = rcv.best_estimator_"
   ]
  },
  {
   "cell_type": "code",
   "execution_count": 119,
   "metadata": {},
   "outputs": [
    {
     "data": {
      "text/plain": [
       "xgboost.sklearn.XGBClassifier"
      ]
     },
     "execution_count": 119,
     "metadata": {},
     "output_type": "execute_result"
    }
   ],
   "source": [
    "type(model)"
   ]
  },
  {
   "cell_type": "code",
   "execution_count": 122,
   "metadata": {},
   "outputs": [],
   "source": [
    "y_pred = model.predict(imbalanced_test_X)"
   ]
  },
  {
   "cell_type": "code",
   "execution_count": 123,
   "metadata": {},
   "outputs": [
    {
     "name": "stdout",
     "output_type": "stream",
     "text": [
      "roc_auc 0.954\n",
      "recall 0.919\n",
      "accuracy 0.989\n"
     ]
    }
   ],
   "source": [
    "\n",
    "from sklearn.metrics import roc_auc_score, accuracy_score, f1_score, recall_score, precision_score\n",
    "\n",
    "print(\"roc_auc %.3f\" % roc_auc_score(imbalanced_test_y, y_pred))\n",
    "print(\"recall %.3f\" % recall_score(imbalanced_test_y, y_pred))\n",
    "print(\"accuracy %.3f\" % accuracy_score(imbalanced_test_y, y_pred))"
   ]
  },
  {
   "cell_type": "code",
   "execution_count": null,
   "metadata": {},
   "outputs": [],
   "source": [
    "# roc_auc 0.954\n",
    "# recall 0.919\n",
    "# accuracy 0.989"
   ]
  },
  {
   "cell_type": "code",
   "execution_count": 124,
   "metadata": {},
   "outputs": [
    {
     "data": {
      "text/plain": [
       "0.125"
      ]
     },
     "execution_count": 124,
     "metadata": {},
     "output_type": "execute_result"
    }
   ],
   "source": [
    "precision_score(imbalanced_test_y, y_pred)"
   ]
  },
  {
   "cell_type": "markdown",
   "metadata": {},
   "source": [
    "## Save the weights of the model to the file\n"
   ]
  },
  {
   "cell_type": "code",
   "execution_count": 34,
   "metadata": {},
   "outputs": [],
   "source": [
    "import pickle"
   ]
  },
  {
   "cell_type": "code",
   "execution_count": 36,
   "metadata": {},
   "outputs": [],
   "source": [
    "filename = \"./xgboost-model.pkl\"\n",
    "\n",
    "with open(filename, 'wb') as f:\n",
    "    pickle.dump(clf, file=f)"
   ]
  },
  {
   "cell_type": "markdown",
   "metadata": {},
   "source": [
    "## Unpack the model and test"
   ]
  },
  {
   "cell_type": "code",
   "execution_count": 37,
   "metadata": {},
   "outputs": [],
   "source": [
    "transaction= \"-1.009630,0.141192,0.167167,-0.808785,2.112167,-1.294934,0.592454,-0.049872,-0.284882,-1.296757,-1.010293,-0.272631,-0.139809,-0.918097,-0.475136,0.519497,0.158822,-0.120745,-0.519128,0.108956,-0.225473,-0.947079,0.054725,0.368866,-0.158482,0.070904,0.022035,0.177674,-0.279746,0.391123\"\n",
    "test = transaction.split(',')\n",
    "data = np.asarray(test).reshape((1,-1))\n",
    "data = data.astype(float)\n",
    "test_matrix = pd.DataFrame(data, columns=X_to_train.columns)"
   ]
  },
  {
   "cell_type": "code",
   "execution_count": 38,
   "metadata": {},
   "outputs": [
    {
     "data": {
      "text/plain": [
       "0"
      ]
     },
     "execution_count": 38,
     "metadata": {},
     "output_type": "execute_result"
    }
   ],
   "source": [
    "with open(filename, 'rb') as f:\n",
    "    xgb_loaded = pickle.load(f)\n",
    "predictions = xgb_loaded.predict(test_matrix)\n",
    "predictions[0]"
   ]
  },
  {
   "cell_type": "markdown",
   "metadata": {},
   "source": [
    "## Interperting the Machine Learning Model"
   ]
  },
  {
   "cell_type": "code",
   "execution_count": 39,
   "metadata": {
    "scrolled": true
   },
   "outputs": [],
   "source": [
    "# !pip3 install graphviz"
   ]
  },
  {
   "cell_type": "code",
   "execution_count": 42,
   "metadata": {
    "scrolled": true
   },
   "outputs": [
    {
     "data": {
      "image/png": "[encoded data removed]",
      "text/plain": [
       "<Figure size 720x720 with 1 Axes>"
      ]
     },
     "metadata": {
      "needs_background": "light"
     },
     "output_type": "display_data"
    }
   ],
   "source": [
    "from xgboost import plot_tree, Booster\n",
    "import xgboost as xgb\n",
    "import matplotlib.pyplot as plt\n",
    "import pickle as pkl\n",
    "from xgboost import plot_tree, plot_importance\n",
    "from matplotlib.pylab import rcParams\n",
    "\n",
    "filename='./xgboost-model.pkl'\n",
    "# plot single tree\n",
    "rcParams['figure.figsize'] = 10,10\n",
    " \n",
    "model = pkl.load(open(filename,'rb')) \n",
    "plot_tree(model, num_trees=4)\n",
    "plt.show()\n"
   ]
  },
  {
   "cell_type": "code",
   "execution_count": 43,
   "metadata": {
    "scrolled": true
   },
   "outputs": [],
   "source": [
    "from xgboost import plot_importance"
   ]
  },
  {
   "cell_type": "code",
   "execution_count": 44,
   "metadata": {
    "scrolled": true
   },
   "outputs": [
    {
     "data": {
      "image/png": "[encoded data removed]",
      "text/plain": [
       "<Figure size 720x720 with 1 Axes>"
      ]
     },
     "metadata": {
      "needs_background": "light"
     },
     "output_type": "display_data"
    }
   ],
   "source": [
    "plot_importance(model, importance_type=\"gain\", max_num_features=10);"
   ]
  },
  {
   "cell_type": "code",
   "execution_count": 72,
   "metadata": {
    "collapsed": true,
    "scrolled": true
   },
   "outputs": [],
   "source": [
    "plot_importance?"
   ]
  },
  {
   "cell_type": "code",
   "execution_count": 41,
   "metadata": {},
   "outputs": [],
   "source": [
    "plot_tree?"
   ]
  },
  {
   "cell_type": "code",
   "execution_count": null,
   "metadata": {},
   "outputs": [],
   "source": []
  }
 ],
 "metadata": {
  "kernelspec": {
   "display_name": "Python 3",
   "language": "python",
   "name": "python3"
  },
  "language_info": {
   "codemirror_mode": {
    "name": "ipython",
    "version": 3
   },
   "file_extension": ".py",
   "mimetype": "text/x-python",
   "name": "python",
   "nbconvert_exporter": "python",
   "pygments_lexer": "ipython3",
   "version": "3.7.3"
  },
  "notice": "Copyright 2017 Amazon.com, Inc. or its affiliates. All Rights Reserved.  Licensed under the Apache License, Version 2.0 (the \"License\"). You may not use this file except in compliance with the License. A copy of the License is located at http://aws.amazon.com/apache2.0/ or in the \"license\" file accompanying this file. This file is distributed on an \"AS IS\" BASIS, WITHOUT WARRANTIES OR CONDITIONS OF ANY KIND, either express or implied. See the License for the specific language governing permissions and limitations under the License."
 },
 "nbformat": 4,
 "nbformat_minor": 2
}
