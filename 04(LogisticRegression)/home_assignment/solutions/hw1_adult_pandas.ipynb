{
 "cells": [
  {
   "cell_type": "markdown",
   "metadata": {},
   "source": [
    "\n",
    "## Открытый курс по машинному обучению\n",
    "Автор материала: программист-исследователь Mail.ru Group, старший преподаватель Факультета Компьютерных Наук ВШЭ Юрий Кашницкий. Материал распространяется на условиях лицензии [Creative Commons CC BY-NC-SA 4.0](https://creativecommons.org/licenses/by-nc-sa/4.0/). Можно использовать в любых целях (редактировать, поправлять и брать за основу), кроме коммерческих, но с обязательным упоминанием автора материала."
   ]
  },
  {
   "cell_type": "markdown",
   "metadata": {},
   "source": [
    "# <center>Домашнее задание. <br> Анализ данных по доходу населения UCI Adult</center>"
   ]
  },
  {
   "cell_type": "markdown",
   "metadata": {},
   "source": [
    "**В задании предлагается с помощью Pandas ответить на несколько вопросов по данным репозитория UCI [Adult](https://archive.ics.uci.edu/ml/datasets/Adult) (качать данные не надо – они уже есть в репозитории). Для отправки решений используйте [онлайн-форму](https://goo.gl/forms/pB1tDIArMvTUsIUg2).**"
   ]
  },
  {
   "cell_type": "markdown",
   "metadata": {},
   "source": [
    "Уникальные значения признаков (больше информации по ссылке выше):\n",
    "- age: continuous.\n",
    "- workclass: Private, Self-emp-not-inc, Self-emp-inc, Federal-gov, Local-gov, State-gov, Without-pay, Never-worked.\n",
    "- fnlwgt: continuous.\n",
    "- education: Bachelors, Some-college, 11th, HS-grad, Prof-school, Assoc-acdm, Assoc-voc, 9th, 7th-8th, 12th, Masters, 1st-4th, 10th, Doctorate, 5th-6th, Preschool.\n",
    "- education-num: continuous.\n",
    "- marital-status: Married-civ-spouse, Divorced, Never-married, Separated, Widowed, Married-spouse-absent, Married-AF-spouse.\n",
    "- occupation: Tech-support, Craft-repair, Other-service, Sales, Exec-managerial, Prof-specialty, Handlers-cleaners, Machine-op-inspct, Adm-clerical, Farming-fishing, Transport-moving, Priv-house-serv, Protective-serv, Armed-Forces.\n",
    "- relationship: Wife, Own-child, Husband, Not-in-family, Other-relative, Unmarried.\n",
    "- race: White, Asian-Pac-Islander, Amer-Indian-Eskimo, Other, Black.\n",
    "- sex: Female, Male.\n",
    "- capital-gain: continuous.\n",
    "- capital-loss: continuous.\n",
    "- hours-per-week: continuous.\n",
    "- native-country: United-States, Cambodia, England, Puerto-Rico, Canada, Germany, Outlying-US(Guam-USVI-etc), India, Japan, Greece, South, China, Cuba, Iran, Honduras, Philippines, Italy, Poland, Jamaica, Vietnam, Mexico, Portugal, Ireland, France, Dominican-Republic, Laos, Ecuador, Taiwan, Haiti, Columbia, Hungary, Guatemala, Nicaragua, Scotland, Thailand, Yugoslavia, El-Salvador, Trinadad&Tobago, Peru, Hong, Holand-Netherlands.   \n",
    "- salary: >50K,<=50K"
   ]
  },
  {
   "cell_type": "code",
   "execution_count": 1,
   "metadata": {},
   "outputs": [],
   "source": [
    "import pandas as pd\n",
    "# чтоб картинки рисовались в тетрадке\n",
    "%matplotlib inline \n",
    "import matplotlib.pyplot as plt\n",
    "import seaborn as sns\n",
    "plt.rcParams['figure.figsize'] = (10, 8)"
   ]
  },
  {
   "cell_type": "code",
   "execution_count": 2,
   "metadata": {},
   "outputs": [
    {
     "data": {
      "text/html": [
       "<div>\n",
       "<style scoped>\n",
       "    .dataframe tbody tr th:only-of-type {\n",
       "        vertical-align: middle;\n",
       "    }\n",
       "\n",
       "    .dataframe tbody tr th {\n",
       "        vertical-align: top;\n",
       "    }\n",
       "\n",
       "    .dataframe thead th {\n",
       "        text-align: right;\n",
       "    }\n",
       "</style>\n",
       "<table border=\"1\" class=\"dataframe\">\n",
       "  <thead>\n",
       "    <tr style=\"text-align: right;\">\n",
       "      <th></th>\n",
       "      <th>age</th>\n",
       "      <th>workclass</th>\n",
       "      <th>fnlwgt</th>\n",
       "      <th>education</th>\n",
       "      <th>education-num</th>\n",
       "      <th>marital-status</th>\n",
       "      <th>occupation</th>\n",
       "      <th>relationship</th>\n",
       "      <th>race</th>\n",
       "      <th>sex</th>\n",
       "      <th>capital-gain</th>\n",
       "      <th>capital-loss</th>\n",
       "      <th>hours-per-week</th>\n",
       "      <th>native-country</th>\n",
       "      <th>salary</th>\n",
       "    </tr>\n",
       "  </thead>\n",
       "  <tbody>\n",
       "    <tr>\n",
       "      <th>0</th>\n",
       "      <td>39</td>\n",
       "      <td>State-gov</td>\n",
       "      <td>77516</td>\n",
       "      <td>Bachelors</td>\n",
       "      <td>13</td>\n",
       "      <td>Never-married</td>\n",
       "      <td>Adm-clerical</td>\n",
       "      <td>Not-in-family</td>\n",
       "      <td>White</td>\n",
       "      <td>Male</td>\n",
       "      <td>2174</td>\n",
       "      <td>0</td>\n",
       "      <td>40</td>\n",
       "      <td>United-States</td>\n",
       "      <td>&lt;=50K</td>\n",
       "    </tr>\n",
       "    <tr>\n",
       "      <th>1</th>\n",
       "      <td>50</td>\n",
       "      <td>Self-emp-not-inc</td>\n",
       "      <td>83311</td>\n",
       "      <td>Bachelors</td>\n",
       "      <td>13</td>\n",
       "      <td>Married-civ-spouse</td>\n",
       "      <td>Exec-managerial</td>\n",
       "      <td>Husband</td>\n",
       "      <td>White</td>\n",
       "      <td>Male</td>\n",
       "      <td>0</td>\n",
       "      <td>0</td>\n",
       "      <td>13</td>\n",
       "      <td>United-States</td>\n",
       "      <td>&lt;=50K</td>\n",
       "    </tr>\n",
       "    <tr>\n",
       "      <th>2</th>\n",
       "      <td>38</td>\n",
       "      <td>Private</td>\n",
       "      <td>215646</td>\n",
       "      <td>HS-grad</td>\n",
       "      <td>9</td>\n",
       "      <td>Divorced</td>\n",
       "      <td>Handlers-cleaners</td>\n",
       "      <td>Not-in-family</td>\n",
       "      <td>White</td>\n",
       "      <td>Male</td>\n",
       "      <td>0</td>\n",
       "      <td>0</td>\n",
       "      <td>40</td>\n",
       "      <td>United-States</td>\n",
       "      <td>&lt;=50K</td>\n",
       "    </tr>\n",
       "    <tr>\n",
       "      <th>3</th>\n",
       "      <td>53</td>\n",
       "      <td>Private</td>\n",
       "      <td>234721</td>\n",
       "      <td>11th</td>\n",
       "      <td>7</td>\n",
       "      <td>Married-civ-spouse</td>\n",
       "      <td>Handlers-cleaners</td>\n",
       "      <td>Husband</td>\n",
       "      <td>Black</td>\n",
       "      <td>Male</td>\n",
       "      <td>0</td>\n",
       "      <td>0</td>\n",
       "      <td>40</td>\n",
       "      <td>United-States</td>\n",
       "      <td>&lt;=50K</td>\n",
       "    </tr>\n",
       "    <tr>\n",
       "      <th>4</th>\n",
       "      <td>28</td>\n",
       "      <td>Private</td>\n",
       "      <td>338409</td>\n",
       "      <td>Bachelors</td>\n",
       "      <td>13</td>\n",
       "      <td>Married-civ-spouse</td>\n",
       "      <td>Prof-specialty</td>\n",
       "      <td>Wife</td>\n",
       "      <td>Black</td>\n",
       "      <td>Female</td>\n",
       "      <td>0</td>\n",
       "      <td>0</td>\n",
       "      <td>40</td>\n",
       "      <td>Cuba</td>\n",
       "      <td>&lt;=50K</td>\n",
       "    </tr>\n",
       "  </tbody>\n",
       "</table>\n",
       "</div>"
      ],
      "text/plain": [
       "   age         workclass  fnlwgt  education  education-num  \\\n",
       "0   39         State-gov   77516  Bachelors             13   \n",
       "1   50  Self-emp-not-inc   83311  Bachelors             13   \n",
       "2   38           Private  215646    HS-grad              9   \n",
       "3   53           Private  234721       11th              7   \n",
       "4   28           Private  338409  Bachelors             13   \n",
       "\n",
       "       marital-status         occupation   relationship   race     sex  \\\n",
       "0       Never-married       Adm-clerical  Not-in-family  White    Male   \n",
       "1  Married-civ-spouse    Exec-managerial        Husband  White    Male   \n",
       "2            Divorced  Handlers-cleaners  Not-in-family  White    Male   \n",
       "3  Married-civ-spouse  Handlers-cleaners        Husband  Black    Male   \n",
       "4  Married-civ-spouse     Prof-specialty           Wife  Black  Female   \n",
       "\n",
       "   capital-gain  capital-loss  hours-per-week native-country salary  \n",
       "0          2174             0              40  United-States  <=50K  \n",
       "1             0             0              13  United-States  <=50K  \n",
       "2             0             0              40  United-States  <=50K  \n",
       "3             0             0              40  United-States  <=50K  \n",
       "4             0             0              40           Cuba  <=50K  "
      ]
     },
     "execution_count": 2,
     "metadata": {},
     "output_type": "execute_result"
    }
   ],
   "source": [
    "data = pd.read_csv('adult.data.csv')\n",
    "data.head()"
   ]
  },
  {
   "cell_type": "markdown",
   "metadata": {},
   "source": [
    "**1. Сколько мужчин и женщин (признак *sex*) представлено в этом наборе данных?**"
   ]
  },
  {
   "cell_type": "code",
   "execution_count": 3,
   "metadata": {},
   "outputs": [
    {
     "data": {
      "text/plain": [
       "Male      21790\n",
       "Female    10771\n",
       "Name: sex, dtype: int64"
      ]
     },
     "execution_count": 3,
     "metadata": {},
     "output_type": "execute_result"
    }
   ],
   "source": [
    "sex_series = data['sex'].value_counts()\n",
    "sex_series"
   ]
  },
  {
   "cell_type": "code",
   "execution_count": 4,
   "metadata": {},
   "outputs": [
    {
     "data": {
      "image/png": "[encoded data removed]",
      "text/plain": [
       "<Figure size 432x288 with 1 Axes>"
      ]
     },
     "metadata": {
      "needs_background": "light"
     },
     "output_type": "display_data"
    }
   ],
   "source": [
    "plt.bar(sex_series.index, sex_series)\n",
    "plt.title('Count')\n",
    "plt.grid(True)"
   ]
  },
  {
   "cell_type": "markdown",
   "metadata": {},
   "source": [
    "**2. Каков средний возраст (признак *age*) женщин?**"
   ]
  },
  {
   "cell_type": "code",
   "execution_count": 5,
   "metadata": {},
   "outputs": [
    {
     "name": "stdout",
     "output_type": "stream",
     "text": [
      "средний возраст у женщин: 36.85823043357163\n"
     ]
    }
   ],
   "source": [
    "w_mean = data.loc[data['sex'] == 'Female']['age'].mean()\n",
    "print(f'средний возраст у женщин: {w_mean}')"
   ]
  },
  {
   "cell_type": "markdown",
   "metadata": {},
   "source": [
    "**3. Какова доля граждан Германии (признак *native-country*)?**"
   ]
  },
  {
   "cell_type": "code",
   "execution_count": 6,
   "metadata": {},
   "outputs": [
    {
     "name": "stdout",
     "output_type": "stream",
     "text": [
      "доля граждан Германии: 0.004207487485028101\n"
     ]
    }
   ],
   "source": [
    "g_mean = data['native-country'].value_counts(normalize=True)['Germany']\n",
    "print(f'доля граждан Германии: {g_mean}')"
   ]
  },
  {
   "cell_type": "markdown",
   "metadata": {},
   "source": [
    "**4. Постройте гистограмму распределения (*bar plot*) образования людей (признак *education*).**"
   ]
  },
  {
   "cell_type": "code",
   "execution_count": 7,
   "metadata": {},
   "outputs": [],
   "source": [
    "edct_series = data['education'].value_counts()"
   ]
  },
  {
   "cell_type": "code",
   "execution_count": 8,
   "metadata": {},
   "outputs": [
    {
     "data": {
      "image/png": "[encoded data removed]",
      "text/plain": [
       "<Figure size 432x288 with 1 Axes>"
      ]
     },
     "metadata": {
      "needs_background": "light"
     },
     "output_type": "display_data"
    }
   ],
   "source": [
    "import numpy as np\n",
    "x = edct_series.index\n",
    "y = edct_series\n",
    "\n",
    "fig, ax = plt.subplots()    \n",
    "width = 0.6 # the width of the bars \n",
    "ind = np.arange(len(y))  # the x locations for the groups\n",
    "ax.barh(ind, y, width, color=\"green\")\n",
    "ax.set_yticks(ind+width/2)\n",
    "ax.set_yticklabels(x, minor=False)\n",
    "plt.title('Education')\n",
    "plt.xlabel('amount')\n",
    "plt.ylabel('graduation');    \n",
    "#plt.show()"
   ]
  },
  {
   "cell_type": "markdown",
   "metadata": {},
   "source": [
    "**5. Каковы средние значения и среднеквадратичные отклонения возраста тех, кто получает более 50K в год (признак *salary*) и тех, кто получает менее 50K в год?**"
   ]
  },
  {
   "cell_type": "code",
   "execution_count": 9,
   "metadata": {},
   "outputs": [],
   "source": [
    "low_m = data.loc[data['salary'] == '<=50K']['age'].mean()\n",
    "high_m = data.loc[data['salary'] == '>50K']['age'].mean()\n",
    "low_st = data.loc[data['salary'] == '<=50K']['age'].std()\n",
    "high_st = data.loc[data['salary'] == '>50K']['age'].std()"
   ]
  },
  {
   "cell_type": "code",
   "execution_count": 10,
   "metadata": {},
   "outputs": [
    {
     "name": "stdout",
     "output_type": "stream",
     "text": [
      "среднее значение возраста для <=50K: 36.78373786407767\n",
      "среднее значение возраста для >50K: 44.24984058155847\n",
      "среднеквадратичное отклонение возраста для <=50K: 14.020088490824813\n",
      "среднеквадратичное отклонение возраста для >50K: 10.51902771985177\n"
     ]
    }
   ],
   "source": [
    "print(f'среднее значение возраста для <=50K: {low_m}')\n",
    "print(f'среднее значение возраста для >50K: {high_m}')\n",
    "print(f'среднеквадратичное отклонение возраста для <=50K: {low_st}')\n",
    "print(f'среднеквадратичное отклонение возраста для >50K: {high_st}')"
   ]
  },
  {
   "cell_type": "code",
   "execution_count": 11,
   "metadata": {
    "scrolled": true
   },
   "outputs": [
    {
     "data": {
      "image/png": "[encoded data removed]",
      "text/plain": [
       "<Figure size 432x288 with 1 Axes>"
      ]
     },
     "metadata": {
      "needs_background": "light"
     },
     "output_type": "display_data"
    }
   ],
   "source": [
    "xx = data.loc[data['salary'] == '<=50K']['age']\n",
    "plt.hist(xx, bins=50)\n",
    "plt.axvline(xx.mean(), color='r', linestyle='solid', linewidth=2, label='mean')\n",
    "plt.text(xx.mean()-2.5, 50,'mean', rotation=90, color='r')\n",
    "plt.axvline((xx.mean() + xx.std()), color='k', linestyle='--', linewidth=1)\n",
    "plt.axvline((xx.mean() - xx.std()), color='k', linestyle='--', linewidth=1)\n",
    "plt.gca().set(title='Age for Salary <=50K');"
   ]
  },
  {
   "cell_type": "code",
   "execution_count": 12,
   "metadata": {
    "scrolled": true
   },
   "outputs": [
    {
     "data": {
      "image/png": "[encoded data removed]",
      "text/plain": [
       "<Figure size 432x288 with 1 Axes>"
      ]
     },
     "metadata": {
      "needs_background": "light"
     },
     "output_type": "display_data"
    }
   ],
   "source": [
    "xx = data.loc[data['salary'] == '>50K']['age']\n",
    "plt.hist(xx, bins=50)\n",
    "plt.axvline(xx.mean(), color='r', linestyle='solid', linewidth=2, label='mean')\n",
    "plt.text(xx.mean()-2.5, 50,'mean', rotation=90, color='r')\n",
    "plt.axvline((xx.mean() + xx.std()), color='k', linestyle='--', linewidth=1)\n",
    "plt.axvline((xx.mean() - xx.std()), color='k', linestyle='--', linewidth=1)\n",
    "plt.gca().set(title='Age for Salary >50K');"
   ]
  },
  {
   "cell_type": "markdown",
   "metadata": {},
   "source": [
    "**6. Правда ли, что люди, которые получают больше 50k, имеют как минимум высшее образование? (признак *education - Bachelors, Prof-school, Assoc-acdm, Assoc-voc, Masters* или *Doctorate*)**"
   ]
  },
  {
   "cell_type": "code",
   "execution_count": 13,
   "metadata": {
    "scrolled": true
   },
   "outputs": [
    {
     "name": "stdout",
     "output_type": "stream",
     "text": [
      "Это не так\n"
     ]
    }
   ],
   "source": [
    "ed = data.loc[data['salary'] == '>50K']['education']\n",
    "ed_ref = ('Bachelors', 'Prof-school', 'Assoc-acdm', 'Assoc-voc', 'Masters', 'Doctorate')\n",
    "if sorted(ed_ref) == sorted(set(ed)):\n",
    "    print('Это правда')\n",
    "else:\n",
    "    print('Это не так')"
   ]
  },
  {
   "cell_type": "markdown",
   "metadata": {},
   "source": [
    "**7. Выведите статистику возраста для каждой расы (признак *race*) и каждого пола. Используйте *groupby* и *describe*. Найдите таким образом максимальный возраст мужчин расы *Amer-Indian-Eskimo*.**"
   ]
  },
  {
   "cell_type": "code",
   "execution_count": 14,
   "metadata": {},
   "outputs": [
    {
     "data": {
      "text/html": [
       "<div>\n",
       "<style scoped>\n",
       "    .dataframe tbody tr th:only-of-type {\n",
       "        vertical-align: middle;\n",
       "    }\n",
       "\n",
       "    .dataframe tbody tr th {\n",
       "        vertical-align: top;\n",
       "    }\n",
       "\n",
       "    .dataframe thead tr th {\n",
       "        text-align: left;\n",
       "    }\n",
       "\n",
       "    .dataframe thead tr:last-of-type th {\n",
       "        text-align: right;\n",
       "    }\n",
       "</style>\n",
       "<table border=\"1\" class=\"dataframe\">\n",
       "  <thead>\n",
       "    <tr>\n",
       "      <th></th>\n",
       "      <th></th>\n",
       "      <th colspan=\"8\" halign=\"left\">age</th>\n",
       "    </tr>\n",
       "    <tr>\n",
       "      <th></th>\n",
       "      <th></th>\n",
       "      <th>count</th>\n",
       "      <th>mean</th>\n",
       "      <th>std</th>\n",
       "      <th>min</th>\n",
       "      <th>25%</th>\n",
       "      <th>50%</th>\n",
       "      <th>75%</th>\n",
       "      <th>max</th>\n",
       "    </tr>\n",
       "    <tr>\n",
       "      <th>sex</th>\n",
       "      <th>race</th>\n",
       "      <th></th>\n",
       "      <th></th>\n",
       "      <th></th>\n",
       "      <th></th>\n",
       "      <th></th>\n",
       "      <th></th>\n",
       "      <th></th>\n",
       "      <th></th>\n",
       "    </tr>\n",
       "  </thead>\n",
       "  <tbody>\n",
       "    <tr>\n",
       "      <th rowspan=\"5\" valign=\"top\">Female</th>\n",
       "      <th>Amer-Indian-Eskimo</th>\n",
       "      <td>119.0</td>\n",
       "      <td>37.117647</td>\n",
       "      <td>13.114991</td>\n",
       "      <td>17.0</td>\n",
       "      <td>27.0</td>\n",
       "      <td>36.0</td>\n",
       "      <td>46.00</td>\n",
       "      <td>80.0</td>\n",
       "    </tr>\n",
       "    <tr>\n",
       "      <th>Asian-Pac-Islander</th>\n",
       "      <td>346.0</td>\n",
       "      <td>35.089595</td>\n",
       "      <td>12.300845</td>\n",
       "      <td>17.0</td>\n",
       "      <td>25.0</td>\n",
       "      <td>33.0</td>\n",
       "      <td>43.75</td>\n",
       "      <td>75.0</td>\n",
       "    </tr>\n",
       "    <tr>\n",
       "      <th>Black</th>\n",
       "      <td>1555.0</td>\n",
       "      <td>37.854019</td>\n",
       "      <td>12.637197</td>\n",
       "      <td>17.0</td>\n",
       "      <td>28.0</td>\n",
       "      <td>37.0</td>\n",
       "      <td>46.00</td>\n",
       "      <td>90.0</td>\n",
       "    </tr>\n",
       "    <tr>\n",
       "      <th>Other</th>\n",
       "      <td>109.0</td>\n",
       "      <td>31.678899</td>\n",
       "      <td>11.631599</td>\n",
       "      <td>17.0</td>\n",
       "      <td>23.0</td>\n",
       "      <td>29.0</td>\n",
       "      <td>39.00</td>\n",
       "      <td>74.0</td>\n",
       "    </tr>\n",
       "    <tr>\n",
       "      <th>White</th>\n",
       "      <td>8642.0</td>\n",
       "      <td>36.811618</td>\n",
       "      <td>14.329093</td>\n",
       "      <td>17.0</td>\n",
       "      <td>25.0</td>\n",
       "      <td>35.0</td>\n",
       "      <td>46.00</td>\n",
       "      <td>90.0</td>\n",
       "    </tr>\n",
       "    <tr>\n",
       "      <th rowspan=\"5\" valign=\"top\">Male</th>\n",
       "      <th>Amer-Indian-Eskimo</th>\n",
       "      <td>192.0</td>\n",
       "      <td>37.208333</td>\n",
       "      <td>12.049563</td>\n",
       "      <td>17.0</td>\n",
       "      <td>28.0</td>\n",
       "      <td>35.0</td>\n",
       "      <td>45.00</td>\n",
       "      <td>82.0</td>\n",
       "    </tr>\n",
       "    <tr>\n",
       "      <th>Asian-Pac-Islander</th>\n",
       "      <td>693.0</td>\n",
       "      <td>39.073593</td>\n",
       "      <td>12.883944</td>\n",
       "      <td>18.0</td>\n",
       "      <td>29.0</td>\n",
       "      <td>37.0</td>\n",
       "      <td>46.00</td>\n",
       "      <td>90.0</td>\n",
       "    </tr>\n",
       "    <tr>\n",
       "      <th>Black</th>\n",
       "      <td>1569.0</td>\n",
       "      <td>37.682600</td>\n",
       "      <td>12.882612</td>\n",
       "      <td>17.0</td>\n",
       "      <td>27.0</td>\n",
       "      <td>36.0</td>\n",
       "      <td>46.00</td>\n",
       "      <td>90.0</td>\n",
       "    </tr>\n",
       "    <tr>\n",
       "      <th>Other</th>\n",
       "      <td>162.0</td>\n",
       "      <td>34.654321</td>\n",
       "      <td>11.355531</td>\n",
       "      <td>17.0</td>\n",
       "      <td>26.0</td>\n",
       "      <td>32.0</td>\n",
       "      <td>42.00</td>\n",
       "      <td>77.0</td>\n",
       "    </tr>\n",
       "    <tr>\n",
       "      <th>White</th>\n",
       "      <td>19174.0</td>\n",
       "      <td>39.652498</td>\n",
       "      <td>13.436029</td>\n",
       "      <td>17.0</td>\n",
       "      <td>29.0</td>\n",
       "      <td>38.0</td>\n",
       "      <td>49.00</td>\n",
       "      <td>90.0</td>\n",
       "    </tr>\n",
       "  </tbody>\n",
       "</table>\n",
       "</div>"
      ],
      "text/plain": [
       "                               age                                          \\\n",
       "                             count       mean        std   min   25%   50%   \n",
       "sex    race                                                                  \n",
       "Female Amer-Indian-Eskimo    119.0  37.117647  13.114991  17.0  27.0  36.0   \n",
       "       Asian-Pac-Islander    346.0  35.089595  12.300845  17.0  25.0  33.0   \n",
       "       Black                1555.0  37.854019  12.637197  17.0  28.0  37.0   \n",
       "       Other                 109.0  31.678899  11.631599  17.0  23.0  29.0   \n",
       "       White                8642.0  36.811618  14.329093  17.0  25.0  35.0   \n",
       "Male   Amer-Indian-Eskimo    192.0  37.208333  12.049563  17.0  28.0  35.0   \n",
       "       Asian-Pac-Islander    693.0  39.073593  12.883944  18.0  29.0  37.0   \n",
       "       Black                1569.0  37.682600  12.882612  17.0  27.0  36.0   \n",
       "       Other                 162.0  34.654321  11.355531  17.0  26.0  32.0   \n",
       "       White               19174.0  39.652498  13.436029  17.0  29.0  38.0   \n",
       "\n",
       "                                        \n",
       "                             75%   max  \n",
       "sex    race                             \n",
       "Female Amer-Indian-Eskimo  46.00  80.0  \n",
       "       Asian-Pac-Islander  43.75  75.0  \n",
       "       Black               46.00  90.0  \n",
       "       Other               39.00  74.0  \n",
       "       White               46.00  90.0  \n",
       "Male   Amer-Indian-Eskimo  45.00  82.0  \n",
       "       Asian-Pac-Islander  46.00  90.0  \n",
       "       Black               46.00  90.0  \n",
       "       Other               42.00  77.0  \n",
       "       White               49.00  90.0  "
      ]
     },
     "execution_count": 14,
     "metadata": {},
     "output_type": "execute_result"
    }
   ],
   "source": [
    "dd = data.groupby(['sex','race'])[['age']]\n",
    "dd.describe()"
   ]
  },
  {
   "cell_type": "markdown",
   "metadata": {},
   "source": [
    "**8. Среди кого больше доля зарабатывающих много (>50K): среди женатых или холостых мужчин (признак *marital-status*)? Женатыми считаем тех, у кого *marital-status* начинается с *Married* (Married-civ-spouse, Married-spouse-absent или Married-AF-spouse), остальных считаем холостыми.**"
   ]
  },
  {
   "cell_type": "code",
   "execution_count": 15,
   "metadata": {},
   "outputs": [
    {
     "name": "stdout",
     "output_type": "stream",
     "text": [
      "Для мужского пола зарабатывающих много (>50K):\n",
      "5965 - количество женатых\n",
      "697 - количество холостых\n"
     ]
    }
   ],
   "source": [
    "df = data[data.salary == '>50K']\n",
    "df_a = df[df.sex == 'Male']\n",
    "mrtl_count = len(df_a.loc[df_a['marital-status'].isin(['Married-civ-spouse', \n",
    "                                                       'Married-spouse-absent', \n",
    "                                                       'Married-AF-spouse'])].index)\n",
    "nmrtl_count = len(df_a.loc[~df_a['marital-status'].isin(['Married-civ-spouse', \n",
    "                                                         'Married-spouse-absent', \n",
    "                                                         'Married-AF-spouse'])].index)\n",
    "print('Для мужского пола зарабатывающих много (>50K):')\n",
    "print(f'{mrtl_count} - количество женатых')\n",
    "print(f'{nmrtl_count} - количество холостых')"
   ]
  },
  {
   "cell_type": "markdown",
   "metadata": {},
   "source": [
    "**9. Какое максимальное число часов человек работает в неделю (признак *hours-per-week*)? Сколько людей работают такое количество часов и каков среди них процент зарабатывающих много?**"
   ]
  },
  {
   "cell_type": "code",
   "execution_count": 16,
   "metadata": {},
   "outputs": [],
   "source": [
    "h_max = data['hours-per-week'].max()\n",
    "n_max = data[data['hours-per-week'] == h_max].shape[0]\n",
    "p_max = (float(data[(data['hours-per-week'] == h_max) & (data['salary'] == '>50K')].shape[0]) / n_max) * 100"
   ]
  },
  {
   "cell_type": "code",
   "execution_count": 21,
   "metadata": {},
   "outputs": [
    {
     "name": "stdout",
     "output_type": "stream",
     "text": [
      "99 - максимальное число часов, которое человек работает в неделю\n",
      "85 - количество таких людей\n",
      "29.411764705882355 % - процент зарабатывающих много\n"
     ]
    }
   ],
   "source": [
    "print(f'{h_max} - максимальное число часов, которое человек работает в неделю')\n",
    "print(f'{n_max} - количество таких людей')\n",
    "print(f'{p_max}% - процент зарабатывающих много')"
   ]
  },
  {
   "cell_type": "markdown",
   "metadata": {},
   "source": [
    "**10. Посчитайте среднее время работы (*hours-per-week*) зарабатывающих мало и много (*salary*) для каждой страны (*native-country*).**"
   ]
  },
  {
   "cell_type": "code",
   "execution_count": 62,
   "metadata": {},
   "outputs": [
    {
     "name": "stdout",
     "output_type": "stream",
     "text": [
      "|?                         |<=50K|   40.16|\n",
      "———————————————————————————————————————————\n",
      "|?                         | >50K|   45.55|\n",
      "———————————————————————————————————————————\n",
      "|Cambodia                  |<=50K|   41.42|\n",
      "———————————————————————————————————————————\n",
      "|Cambodia                  | >50K|    40.0|\n",
      "———————————————————————————————————————————\n",
      "|Canada                    |<=50K|   37.91|\n",
      "———————————————————————————————————————————\n",
      "|Canada                    | >50K|   45.64|\n",
      "———————————————————————————————————————————\n",
      "|China                     |<=50K|   37.38|\n",
      "———————————————————————————————————————————\n",
      "|China                     | >50K|    38.9|\n",
      "———————————————————————————————————————————\n",
      "|Columbia                  |<=50K|   38.68|\n",
      "———————————————————————————————————————————\n",
      "|Columbia                  | >50K|    50.0|\n",
      "———————————————————————————————————————————\n",
      "|Cuba                      |<=50K|   37.99|\n",
      "———————————————————————————————————————————\n",
      "|Cuba                      | >50K|   42.44|\n",
      "———————————————————————————————————————————\n",
      "|Dominican-Republic        |<=50K|   42.34|\n",
      "———————————————————————————————————————————\n",
      "|Dominican-Republic        | >50K|    47.0|\n",
      "———————————————————————————————————————————\n",
      "|Ecuador                   |<=50K|   38.04|\n",
      "———————————————————————————————————————————\n",
      "|Ecuador                   | >50K|   48.75|\n",
      "———————————————————————————————————————————\n",
      "|El-Salvador               |<=50K|   36.03|\n",
      "———————————————————————————————————————————\n",
      "|El-Salvador               | >50K|    45.0|\n",
      "———————————————————————————————————————————\n",
      "|England                   |<=50K|   40.48|\n",
      "———————————————————————————————————————————\n",
      "|England                   | >50K|   44.53|\n",
      "———————————————————————————————————————————\n",
      "|France                    |<=50K|   41.06|\n",
      "———————————————————————————————————————————\n",
      "|France                    | >50K|   50.75|\n",
      "———————————————————————————————————————————\n",
      "|Germany                   |<=50K|   39.14|\n",
      "———————————————————————————————————————————\n",
      "|Germany                   | >50K|   44.98|\n",
      "———————————————————————————————————————————\n",
      "|Greece                    |<=50K|   41.81|\n",
      "———————————————————————————————————————————\n",
      "|Greece                    | >50K|   50.62|\n",
      "———————————————————————————————————————————\n",
      "|Guatemala                 |<=50K|   39.36|\n",
      "———————————————————————————————————————————\n",
      "|Guatemala                 | >50K|   36.67|\n",
      "———————————————————————————————————————————\n",
      "|Haiti                     |<=50K|   36.33|\n",
      "———————————————————————————————————————————\n",
      "|Haiti                     | >50K|   42.75|\n",
      "———————————————————————————————————————————\n",
      "|Holand-Netherlands        |<=50K|    40.0|\n",
      "———————————————————————————————————————————\n",
      "|Honduras                  |<=50K|   34.33|\n",
      "———————————————————————————————————————————\n",
      "|Honduras                  | >50K|    60.0|\n",
      "———————————————————————————————————————————\n",
      "|Hong                      |<=50K|   39.14|\n",
      "———————————————————————————————————————————\n",
      "|Hong                      | >50K|    45.0|\n",
      "———————————————————————————————————————————\n",
      "|Hungary                   |<=50K|    31.3|\n",
      "———————————————————————————————————————————\n",
      "|Hungary                   | >50K|    50.0|\n",
      "———————————————————————————————————————————\n",
      "|India                     |<=50K|   38.23|\n",
      "———————————————————————————————————————————\n",
      "|India                     | >50K|   46.48|\n",
      "———————————————————————————————————————————\n",
      "|Iran                      |<=50K|   41.44|\n",
      "———————————————————————————————————————————\n",
      "|Iran                      | >50K|    47.5|\n",
      "———————————————————————————————————————————\n",
      "|Ireland                   |<=50K|   40.95|\n",
      "———————————————————————————————————————————\n",
      "|Ireland                   | >50K|    48.0|\n",
      "———————————————————————————————————————————\n",
      "|Italy                     |<=50K|   39.62|\n",
      "———————————————————————————————————————————\n",
      "|Italy                     | >50K|    45.4|\n",
      "———————————————————————————————————————————\n",
      "|Jamaica                   |<=50K|   38.24|\n",
      "———————————————————————————————————————————\n",
      "|Jamaica                   | >50K|    41.1|\n",
      "———————————————————————————————————————————\n",
      "|Japan                     |<=50K|    41.0|\n",
      "———————————————————————————————————————————\n",
      "|Japan                     | >50K|   47.96|\n",
      "———————————————————————————————————————————\n",
      "|Laos                      |<=50K|   40.38|\n",
      "———————————————————————————————————————————\n",
      "|Laos                      | >50K|    40.0|\n",
      "———————————————————————————————————————————\n",
      "|Mexico                    |<=50K|    40.0|\n",
      "———————————————————————————————————————————\n",
      "|Mexico                    | >50K|   46.58|\n",
      "———————————————————————————————————————————\n",
      "|Nicaragua                 |<=50K|   36.09|\n",
      "———————————————————————————————————————————\n",
      "|Nicaragua                 | >50K|    37.5|\n",
      "———————————————————————————————————————————\n",
      "|Outlying-US(Guam-USVI-etc)|<=50K|   41.86|\n",
      "———————————————————————————————————————————\n",
      "|Peru                      |<=50K|   35.07|\n",
      "———————————————————————————————————————————\n",
      "|Peru                      | >50K|    40.0|\n",
      "———————————————————————————————————————————\n",
      "|Philippines               |<=50K|   38.07|\n",
      "———————————————————————————————————————————\n",
      "|Philippines               | >50K|   43.03|\n",
      "———————————————————————————————————————————\n",
      "|Poland                    |<=50K|   38.17|\n",
      "———————————————————————————————————————————\n",
      "|Poland                    | >50K|    39.0|\n",
      "———————————————————————————————————————————\n",
      "|Portugal                  |<=50K|   41.94|\n",
      "———————————————————————————————————————————\n",
      "|Portugal                  | >50K|    41.5|\n",
      "———————————————————————————————————————————\n",
      "|Puerto-Rico               |<=50K|   38.47|\n",
      "———————————————————————————————————————————\n",
      "|Puerto-Rico               | >50K|   39.42|\n",
      "———————————————————————————————————————————\n",
      "|Scotland                  |<=50K|   39.44|\n",
      "———————————————————————————————————————————\n",
      "|Scotland                  | >50K|   46.67|\n",
      "———————————————————————————————————————————\n",
      "|South                     |<=50K|   40.16|\n",
      "———————————————————————————————————————————\n",
      "|South                     | >50K|   51.44|\n",
      "———————————————————————————————————————————\n",
      "|Taiwan                    |<=50K|   33.77|\n",
      "———————————————————————————————————————————\n",
      "|Taiwan                    | >50K|    46.8|\n",
      "———————————————————————————————————————————\n",
      "|Thailand                  |<=50K|   42.87|\n",
      "———————————————————————————————————————————\n",
      "|Thailand                  | >50K|   58.33|\n",
      "———————————————————————————————————————————\n",
      "|Trinadad&Tobago           |<=50K|   37.06|\n",
      "———————————————————————————————————————————\n",
      "|Trinadad&Tobago           | >50K|    40.0|\n",
      "———————————————————————————————————————————\n",
      "|United-States             |<=50K|    38.8|\n",
      "———————————————————————————————————————————\n",
      "|United-States             | >50K|   45.51|\n",
      "———————————————————————————————————————————\n",
      "|Vietnam                   |<=50K|   37.19|\n",
      "———————————————————————————————————————————\n",
      "|Vietnam                   | >50K|    39.2|\n",
      "———————————————————————————————————————————\n",
      "|Yugoslavia                |<=50K|    41.6|\n",
      "———————————————————————————————————————————\n",
      "|Yugoslavia                | >50K|    49.5|\n",
      "———————————————————————————————————————————\n"
     ]
    }
   ],
   "source": [
    "for a,sub_df in data.groupby([\"native-country\",\"salary\"]):\n",
    "    mm = round(sub_df['hours-per-week'].mean(),2)\n",
    "    ss = f'|{a[0]:26}|{a[1]:>5}|{mm:>8}|'\n",
    "    print(ss)\n",
    "    print('—'*43)"
   ]
  }
 ],
 "metadata": {
  "anaconda-cloud": {},
  "kernelspec": {
   "display_name": "Python 3",
   "language": "python",
   "name": "python3"
  },
  "language_info": {
   "codemirror_mode": {
    "name": "ipython",
    "version": 3
   },
   "file_extension": ".py",
   "mimetype": "text/x-python",
   "name": "python",
   "nbconvert_exporter": "python",
   "pygments_lexer": "ipython3",
   "version": "3.7.3"
  }
 },
 "nbformat": 4,
 "nbformat_minor": 1
}
