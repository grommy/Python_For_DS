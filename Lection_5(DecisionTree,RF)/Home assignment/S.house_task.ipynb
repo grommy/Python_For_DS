{
 "cells": [
  {
   "cell_type": "code",
   "execution_count": 38,
   "metadata": {},
   "outputs": [],
   "source": [
    "import pandas as pd\n",
    "import numpy as np\n",
    "import matplotlib.pyplot as plt\n",
    "\n",
    "from sklearn.tree import DecisionTreeRegressor\n",
    "from sklearn.ensemble import RandomForestRegressor\n",
    "from sklearn.ensemble import GradientBoostingRegressor\n",
    "\n",
    "from sklearn.model_selection import cross_val_score, cross_validate, KFold, StratifiedKFold, train_test_split\n",
    "from sklearn.metrics import r2_score, mean_absolute_error, mean_squared_error\n",
    "\n",
    "from sklearn.model_selection import GridSearchCV\n",
    "from sklearn.pipeline import Pipeline"
   ]
  },
  {
   "cell_type": "markdown",
   "metadata": {},
   "source": [
    "## Task\n",
    "\n",
    "применить свежеизученные алгоритмы (Дерево Решений, Случайный Лес, XGBoost) для задачи регрессии (оценка недвижимости https://www.kaggle.com/harlfoxem/housesalesprediction). Решение по данной задаче слать отдельным ноутбуком"
   ]
  },
  {
   "cell_type": "code",
   "execution_count": 2,
   "metadata": {},
   "outputs": [],
   "source": [
    "df = pd.read_csv('../../data/kc_house_data.csv')\n"
   ]
  },
  {
   "cell_type": "code",
   "execution_count": 3,
   "metadata": {},
   "outputs": [],
   "source": [
    "#df.head(2)"
   ]
  },
  {
   "cell_type": "code",
   "execution_count": 4,
   "metadata": {},
   "outputs": [],
   "source": [
    "#df.info()\n",
    "#df.describe()"
   ]
  },
  {
   "cell_type": "code",
   "execution_count": 5,
   "metadata": {},
   "outputs": [],
   "source": [
    "y = df['price']\n",
    "drop_columns = ['id', 'date', 'price']\n",
    "X = df.drop(drop_columns, axis=1)"
   ]
  },
  {
   "cell_type": "code",
   "execution_count": 8,
   "metadata": {},
   "outputs": [],
   "source": [
    "#X.head(2)"
   ]
  },
  {
   "cell_type": "code",
   "execution_count": 9,
   "metadata": {},
   "outputs": [],
   "source": [
    "X_train, X_test, y_train, y_test = train_test_split(X, y, test_size=0.3, random_state=22)"
   ]
  },
  {
   "cell_type": "markdown",
   "metadata": {},
   "source": [
    "## DecisionTreeRegressor"
   ]
  },
  {
   "cell_type": "code",
   "execution_count": 122,
   "metadata": {},
   "outputs": [],
   "source": [
    "model = DecisionTreeRegressor()"
   ]
  },
  {
   "cell_type": "code",
   "execution_count": 123,
   "metadata": {},
   "outputs": [],
   "source": [
    "#model.fit(X_train, y_train)\n",
    "#y_pred = model.predict(X_test)"
   ]
  },
  {
   "cell_type": "code",
   "execution_count": 124,
   "metadata": {},
   "outputs": [],
   "source": [
    "def print_cv_metric(model=model, cv=cv, metric=metric):\n",
    "    cvs_train = cross_val_score(model, X_train, y_train, cv=cv, scoring=metric)\n",
    "    cvs_test = cross_val_score(model, X_test,y_test, cv=cv, scoring=metric)\n",
    "\n",
    "    print('Train {} metric:'.format(metric))\n",
    "    print('result {} kfold'.format(cv), cvs_train)\n",
    "    print('mean:{:.2f}, +/-:{:.2f}'.format(cvs_train.mean(), np.std(cvs_train)))\n",
    "\n",
    "    print('-'*50)\n",
    "    print('Test {} metric:'.format(metric))\n",
    "    print('result kfold', cvs_train)\n",
    "    print('mean:{:.2f}, +/-:{:.2f}'.format(cvs_test.mean(), np.std(cvs_test)))"
   ]
  },
  {
   "cell_type": "code",
   "execution_count": 125,
   "metadata": {},
   "outputs": [
    {
     "name": "stdout",
     "output_type": "stream",
     "text": [
      "Train r2 metric:\n",
      "result 10 kfold [0.75950415 0.741724   0.68612448 0.71802502 0.72225641 0.4293301\n",
      " 0.76859544 0.71860189 0.79775964 0.7464397 ]\n",
      "mean:0.71, +/-:0.10\n",
      "--------------------------------------------------\n",
      "Test r2 metric:\n",
      "result kfold [0.75950415 0.741724   0.68612448 0.71802502 0.72225641 0.4293301\n",
      " 0.76859544 0.71860189 0.79775964 0.7464397 ]\n",
      "mean:0.68, +/-:0.09\n"
     ]
    }
   ],
   "source": [
    "cv = 10\n",
    "metric = 'r2'\n",
    "print_cv_metric(cv=cv, metric=metric)"
   ]
  },
  {
   "cell_type": "code",
   "execution_count": 127,
   "metadata": {},
   "outputs": [],
   "source": [
    "# Train r2 metric: mean: 0.71, +/-:0.10\n",
    "# Test r2 metric: mean: 0.68, +/-:0.09"
   ]
  },
  {
   "cell_type": "code",
   "execution_count": 126,
   "metadata": {},
   "outputs": [
    {
     "name": "stdout",
     "output_type": "stream",
     "text": [
      "Train neg_mean_absolute_error metric:\n",
      "result 10 kfold [-102110.0257766  -110751.6269002  -104875.92994052 -101572.00561798\n",
      "  -99097.81658956 -108561.12756114 -105096.6946464  -106435.43192333\n",
      "  -92253.77329808 -100365.61838624]\n",
      "mean:-103112.01, +/-:5010.84\n",
      "--------------------------------------------------\n",
      "Test neg_mean_absolute_error metric:\n",
      "result kfold [-102110.0257766  -110751.6269002  -104875.92994052 -101572.00561798\n",
      "  -99097.81658956 -108561.12756114 -105096.6946464  -106435.43192333\n",
      "  -92253.77329808 -100365.61838624]\n",
      "mean:-106852.99, +/-:5636.08\n"
     ]
    }
   ],
   "source": [
    "cv = 10\n",
    "metric = 'neg_mean_absolute_error'\n",
    "print_cv_metric(cv=cv, metric=metric)"
   ]
  },
  {
   "cell_type": "markdown",
   "metadata": {},
   "source": [
    "## RandomForestRegressor"
   ]
  },
  {
   "cell_type": "code",
   "execution_count": 85,
   "metadata": {},
   "outputs": [
    {
     "name": "stdout",
     "output_type": "stream",
     "text": [
      "0.8652045349779857\n",
      "{'model__n_estimators': 80}\n"
     ]
    }
   ],
   "source": [
    "\n",
    "model = RandomForestRegressor()\n",
    "\n",
    "pipe_model = Pipeline([\n",
    "                    ('model', model)\n",
    "                    ])\n",
    "\n",
    "param_grid = [{'model__n_estimators':[10, 30, 80, 120]}]\n",
    "\n",
    "gs = GridSearchCV(estimator=pipe_model,\n",
    "                 param_grid=param_grid,\n",
    "                 scoring='r2',\n",
    "                 cv=10,\n",
    "                 n_jobs=1)\n",
    "gs.fit(X_train, y_train)\n",
    "print(gs.best_score_)\n",
    "print(gs.best_params_)"
   ]
  },
  {
   "cell_type": "code",
   "execution_count": 87,
   "metadata": {},
   "outputs": [],
   "source": [
    "# best score:0.8652045349779857\n",
    "# best params n_estimators:  80"
   ]
  },
  {
   "cell_type": "code",
   "execution_count": 92,
   "metadata": {},
   "outputs": [
    {
     "data": {
      "text/plain": [
       "Text(0,0.5,'r2')"
      ]
     },
     "execution_count": 92,
     "metadata": {},
     "output_type": "execute_result"
    },
    {
     "data": {
      "image/png": "[encoded data removed]",
      "text/plain": [
       "<Figure size 432x288 with 1 Axes>"
      ]
     },
     "metadata": {},
     "output_type": "display_data"
    }
   ],
   "source": [
    "\n",
    "x_plot = list(gs.cv_results_['param_model__n_estimators'])\n",
    "y_plot = list(gs.cv_results_['mean_test_score'])\n",
    "plt.plot(x_plot, y_plot, 'bo-');\n",
    "plt.xlabel('n_estimators')\n",
    "plt.ylabel('r2')\n",
    "\n",
    "#print(gs.cv_results_)"
   ]
  },
  {
   "cell_type": "code",
   "execution_count": 93,
   "metadata": {},
   "outputs": [
    {
     "data": {
      "text/plain": [
       "Pipeline(memory=None,\n",
       "         steps=[('model',\n",
       "                 RandomForestRegressor(bootstrap=True, criterion='mse',\n",
       "                                       max_depth=None, max_features='auto',\n",
       "                                       max_leaf_nodes=None,\n",
       "                                       min_impurity_decrease=0.0,\n",
       "                                       min_impurity_split=None,\n",
       "                                       min_samples_leaf=1, min_samples_split=2,\n",
       "                                       min_weight_fraction_leaf=0.0,\n",
       "                                       n_estimators=80, n_jobs=None,\n",
       "                                       oob_score=False, random_state=None,\n",
       "                                       verbose=0, warm_start=False))],\n",
       "         verbose=False)"
      ]
     },
     "execution_count": 93,
     "metadata": {},
     "output_type": "execute_result"
    }
   ],
   "source": [
    "model = gs.best_estimator_\n",
    "#model.fit(X_train, y_train)"
   ]
  },
  {
   "cell_type": "code",
   "execution_count": 95,
   "metadata": {},
   "outputs": [
    {
     "name": "stdout",
     "output_type": "stream",
     "text": [
      "r2 test: 0.8585002579127522\n"
     ]
    }
   ],
   "source": [
    "print('r2 test:', model.score(X_test, y_test))"
   ]
  },
  {
   "cell_type": "code",
   "execution_count": 97,
   "metadata": {},
   "outputs": [
    {
     "name": "stdout",
     "output_type": "stream",
     "text": [
      "Train r2 metric:\n",
      "result 10 kfold [0.85899529 0.86823094 0.86937948 0.87413884 0.88250597 0.79899022\n",
      " 0.89216661 0.86374274 0.87113175 0.89104793]\n",
      "mean:0.87, +/-:0.02\n",
      "--------------------------------------------------\n",
      "Testr2 metric:\n",
      "result kfold [0.85899529 0.86823094 0.86937948 0.87413884 0.88250597 0.79899022\n",
      " 0.89216661 0.86374274 0.87113175 0.89104793]\n",
      "mean:0.85, +/-:0.05\n"
     ]
    }
   ],
   "source": [
    "cv = 10\n",
    "metric = 'r2'\n",
    "print_cv_metric(model=model, cv=cv, metric=metric)"
   ]
  },
  {
   "cell_type": "code",
   "execution_count": null,
   "metadata": {},
   "outputs": [],
   "source": [
    "# Train r2 metric: mean:0.87, +/-:0.02\n",
    "# Test r2 metric: mean:0.85, +/-:0.05"
   ]
  },
  {
   "cell_type": "markdown",
   "metadata": {},
   "source": [
    "## GradientBoostingRegressor"
   ]
  },
  {
   "cell_type": "code",
   "execution_count": 112,
   "metadata": {},
   "outputs": [
    {
     "name": "stdout",
     "output_type": "stream",
     "text": [
      "0.8830829142498782\n",
      "{'model__learning_rate': 0.1, 'model__loss': 'ls', 'model__n_estimators': 500}\n"
     ]
    }
   ],
   "source": [
    "model = GradientBoostingRegressor()\n",
    "\n",
    "pipe_model = Pipeline([\n",
    "                    ('model', model)\n",
    "                    ])\n",
    "\n",
    "param_grid = [{'model__loss':['ls'],\n",
    "              'model__n_estimators':[50, 100, 200, 300, 500], \n",
    "              'model__learning_rate':[0.01, 0.1, 0.5, 1],\n",
    "              }]\n",
    "\n",
    "gs = GridSearchCV(estimator=pipe_model,\n",
    "                 param_grid=param_grid,\n",
    "                 scoring='r2',\n",
    "                 cv=10,\n",
    "                 n_jobs=1)\n",
    "\n",
    "gs.fit(X_train, y_train)\n",
    "print(gs.best_score_)\n",
    "print(gs.best_params_)"
   ]
  },
  {
   "cell_type": "code",
   "execution_count": 120,
   "metadata": {},
   "outputs": [],
   "source": [
    "# best score: 0.8830829142498782\n",
    "# best params; {'model__learning_rate': 0.1, 'model__loss': 'ls', 'model__n_estimators': 500}"
   ]
  },
  {
   "cell_type": "code",
   "execution_count": 113,
   "metadata": {},
   "outputs": [],
   "source": [
    "#gs.cv_results_"
   ]
  },
  {
   "cell_type": "code",
   "execution_count": 114,
   "metadata": {},
   "outputs": [
    {
     "data": {
      "text/plain": [
       "Pipeline(memory=None,\n",
       "         steps=[('model',\n",
       "                 GradientBoostingRegressor(alpha=0.9, criterion='friedman_mse',\n",
       "                                           init=None, learning_rate=0.1,\n",
       "                                           loss='ls', max_depth=3,\n",
       "                                           max_features=None,\n",
       "                                           max_leaf_nodes=None,\n",
       "                                           min_impurity_decrease=0.0,\n",
       "                                           min_impurity_split=None,\n",
       "                                           min_samples_leaf=1,\n",
       "                                           min_samples_split=2,\n",
       "                                           min_weight_fraction_leaf=0.0,\n",
       "                                           n_estimators=500,\n",
       "                                           n_iter_no_change=None,\n",
       "                                           presort='auto', random_state=None,\n",
       "                                           subsample=1.0, tol=0.0001,\n",
       "                                           validation_fraction=0.1, verbose=0,\n",
       "                                           warm_start=False))],\n",
       "         verbose=False)"
      ]
     },
     "execution_count": 114,
     "metadata": {},
     "output_type": "execute_result"
    }
   ],
   "source": [
    "model = gs.best_estimator_\n",
    "#model.fit(X_train, y_train)"
   ]
  },
  {
   "cell_type": "code",
   "execution_count": 117,
   "metadata": {},
   "outputs": [
    {
     "name": "stdout",
     "output_type": "stream",
     "text": [
      "Train r2 metric:\n",
      "result 10 kfold [0.87548149 0.8557039  0.89754921 0.89222874 0.89735454 0.81306353\n",
      " 0.91345508 0.88877754 0.89059057 0.906613  ]\n",
      "mean:0.88, +/-:0.03\n",
      "--------------------------------------------------\n",
      "Testr2 metric:\n",
      "result kfold [0.87548149 0.8557039  0.89754921 0.89222874 0.89735454 0.81306353\n",
      " 0.91345508 0.88877754 0.89059057 0.906613  ]\n",
      "mean:0.87, +/-:0.04\n"
     ]
    }
   ],
   "source": [
    "cv = 10\n",
    "metric = 'r2'\n",
    "print_cv_metric(model=model, cv=cv, metric=metric)"
   ]
  },
  {
   "cell_type": "code",
   "execution_count": null,
   "metadata": {},
   "outputs": [],
   "source": [
    "# Train r2 metric: mean:0.88, +/-:0.03\n",
    "# Test r2 metric: mean:0.87, +/-:0.04"
   ]
  },
  {
   "cell_type": "code",
   "execution_count": 118,
   "metadata": {},
   "outputs": [
    {
     "name": "stdout",
     "output_type": "stream",
     "text": [
      "Train neg_mean_absolute_error metric:\n",
      "result 10 kfold [-72746.87270196 -74394.23497464 -69884.39704608 -68382.06771031\n",
      " -67595.83557202 -72422.98749658 -69865.06421632 -74924.41847041\n",
      " -66798.54710696 -67256.24883405]\n",
      "mean:-70427.07, +/-:2852.34\n",
      "--------------------------------------------------\n",
      "Testneg_mean_absolute_error metric:\n",
      "result kfold [-72746.87270196 -74394.23497464 -69884.39704608 -68382.06771031\n",
      " -67595.83557202 -72422.98749658 -69865.06421632 -74924.41847041\n",
      " -66798.54710696 -67256.24883405]\n",
      "mean:-70471.41, +/-:5891.63\n"
     ]
    }
   ],
   "source": [
    "cv = 10\n",
    "metric = 'neg_mean_absolute_error'\n",
    "print_cv_metric(model=model, cv=cv, metric=metric)"
   ]
  },
  {
   "cell_type": "code",
   "execution_count": null,
   "metadata": {},
   "outputs": [],
   "source": [
    "# Train MAE metric: mean:-70427.07, +/-:2852.34\n",
    "# Test MAE metric: mean:-70471.41, +/-:5891.63"
   ]
  },
  {
   "cell_type": "code",
   "execution_count": null,
   "metadata": {},
   "outputs": [],
   "source": []
  },
  {
   "cell_type": "code",
   "execution_count": null,
   "metadata": {},
   "outputs": [],
   "source": []
  },
  {
   "cell_type": "code",
   "execution_count": null,
   "metadata": {},
   "outputs": [],
   "source": [
    "# RandomSearch, GridSearch, only r2score applied, no cross_validation, no data_exploration"
   ]
  },
  {
   "cell_type": "code",
   "execution_count": 1,
   "metadata": {},
   "outputs": [],
   "source": [
    "# Good results analysis"
   ]
  },
  {
   "cell_type": "code",
   "execution_count": null,
   "metadata": {},
   "outputs": [],
   "source": []
  }
 ],
 "metadata": {
  "kernelspec": {
   "display_name": "Python 3",
   "language": "python",
   "name": "python3"
  },
  "language_info": {
   "codemirror_mode": {
    "name": "ipython",
    "version": 3
   },
   "file_extension": ".py",
   "mimetype": "text/x-python",
   "name": "python",
   "nbconvert_exporter": "python",
   "pygments_lexer": "ipython3",
   "version": "3.7.3"
  }
 },
 "nbformat": 4,
 "nbformat_minor": 2
}
