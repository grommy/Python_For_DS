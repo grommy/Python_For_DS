{
 "cells": [
  {
   "cell_type": "code",
   "execution_count": 271,
   "metadata": {},
   "outputs": [],
   "source": [
    "import pandas as pd\n",
    "import numpy as np"
   ]
  },
  {
   "cell_type": "code",
   "execution_count": 272,
   "metadata": {},
   "outputs": [],
   "source": [
    "from sklearn.model_selection import KFold, StratifiedKFold"
   ]
  },
  {
   "cell_type": "code",
   "execution_count": 291,
   "metadata": {},
   "outputs": [],
   "source": [
    "# https://www.kaggle.com/becksddf/churn-in-telecoms-dataset\n",
    "df = pd.read_csv(r'C:\\Python\\Ykill\\DataScinese\\data\\telecom_churn.csv')"
   ]
  },
  {
   "cell_type": "code",
   "execution_count": 292,
   "metadata": {},
   "outputs": [],
   "source": [
    "y = df[\"Churn\"].astype(int)"
   ]
  },
  {
   "cell_type": "code",
   "execution_count": 299,
   "metadata": {},
   "outputs": [],
   "source": [
    "X = df.drop(columns=['Churn', 'Area code'])"
   ]
  },
  {
   "cell_type": "code",
   "execution_count": 301,
   "metadata": {},
   "outputs": [
    {
     "name": "stdout",
     "output_type": "stream",
     "text": [
      "<class 'pandas.core.frame.DataFrame'>\n",
      "RangeIndex: 3333 entries, 0 to 3332\n",
      "Data columns (total 15 columns):\n",
      "Account length            3333 non-null int64\n",
      "Number vmail messages     3333 non-null int64\n",
      "Total day minutes         3333 non-null float64\n",
      "Total day calls           3333 non-null int64\n",
      "Total day charge          3333 non-null float64\n",
      "Total eve minutes         3333 non-null float64\n",
      "Total eve calls           3333 non-null int64\n",
      "Total eve charge          3333 non-null float64\n",
      "Total night minutes       3333 non-null float64\n",
      "Total night calls         3333 non-null int64\n",
      "Total night charge        3333 non-null float64\n",
      "Total intl minutes        3333 non-null float64\n",
      "Total intl calls          3333 non-null int64\n",
      "Total intl charge         3333 non-null float64\n",
      "Customer service calls    3333 non-null int64\n",
      "dtypes: float64(8), int64(7)\n",
      "memory usage: 390.7 KB\n"
     ]
    }
   ],
   "source": [
    "X = X.select_dtypes(np.number)\n",
    "X.info()"
   ]
  },
  {
   "cell_type": "markdown",
   "metadata": {},
   "source": [
    "## Task 1\n",
    "\n",
    "Убедиться, что StratifiedKFold в отличии от KFold сохраняет соотношение классов. (Дописать код, вывести таблицы/графики соотношения для KFold и StratifiedKFold). Привести случай, когда KFold будет работать очень плохо"
   ]
  },
  {
   "cell_type": "code",
   "execution_count": 346,
   "metadata": {},
   "outputs": [],
   "source": [
    "import numpy as np\n",
    "from sklearn.model_selection import KFold, StratifiedKFold\n",
    "\n",
    "kf = KFold(n_splits=50)\n",
    "skf = StratifiedKFold(n_splits=50)"
   ]
  },
  {
   "cell_type": "code",
   "execution_count": 347,
   "metadata": {},
   "outputs": [],
   "source": [
    "def ret_dat(df, id_list):\n",
    "    \n",
    "    data = df.iloc[id_list]\n",
    "    \n",
    "    return data"
   ]
  },
  {
   "cell_type": "code",
   "execution_count": 348,
   "metadata": {
    "scrolled": true
   },
   "outputs": [],
   "source": [
    "def mean_trtst(tr, tst):\n",
    "    s1 = tr.mean()\n",
    "    s2 = tst.mean()\n",
    "    data = pd.concat([s1, s2], axis=1)\n",
    "    data.columns = ['train','test']\n",
    "    return data"
   ]
  },
  {
   "cell_type": "code",
   "execution_count": 349,
   "metadata": {
    "scrolled": true
   },
   "outputs": [],
   "source": [
    "def plot_pd(data, name):\n",
    "    kf_data.plot(title=name,kind=\"bar\");"
   ]
  },
  {
   "cell_type": "markdown",
   "metadata": {},
   "source": [
    "#### тестирование для KFold"
   ]
  },
  {
   "cell_type": "code",
   "execution_count": 350,
   "metadata": {},
   "outputs": [],
   "source": [
    "res_tr = None\n",
    "res_tst = None\n",
    "\n",
    "for train_index, test_index in kf.split(X): \n",
    "    res_tr = ret_dat(X, train_index.tolist())\n",
    "    res_tst = ret_dat(X, test_index.tolist())\n",
    "    break"
   ]
  },
  {
   "cell_type": "code",
   "execution_count": 351,
   "metadata": {},
   "outputs": [
    {
     "data": {
      "text/html": [
       "<div>\n",
       "<style scoped>\n",
       "    .dataframe tbody tr th:only-of-type {\n",
       "        vertical-align: middle;\n",
       "    }\n",
       "\n",
       "    .dataframe tbody tr th {\n",
       "        vertical-align: top;\n",
       "    }\n",
       "\n",
       "    .dataframe thead th {\n",
       "        text-align: right;\n",
       "    }\n",
       "</style>\n",
       "<table border=\"1\" class=\"dataframe\">\n",
       "  <thead>\n",
       "    <tr style=\"text-align: right;\">\n",
       "      <th></th>\n",
       "      <th>train</th>\n",
       "      <th>test</th>\n",
       "    </tr>\n",
       "  </thead>\n",
       "  <tbody>\n",
       "    <tr>\n",
       "      <th>Account length</th>\n",
       "      <td>101.161666</td>\n",
       "      <td>96.343284</td>\n",
       "    </tr>\n",
       "    <tr>\n",
       "      <th>Number vmail messages</th>\n",
       "      <td>8.082976</td>\n",
       "      <td>8.880597</td>\n",
       "    </tr>\n",
       "    <tr>\n",
       "      <th>Total day minutes</th>\n",
       "      <td>179.841335</td>\n",
       "      <td>176.546269</td>\n",
       "    </tr>\n",
       "    <tr>\n",
       "      <th>Total day calls</th>\n",
       "      <td>100.484691</td>\n",
       "      <td>98.044776</td>\n",
       "    </tr>\n",
       "    <tr>\n",
       "      <th>Total day charge</th>\n",
       "      <td>30.573564</td>\n",
       "      <td>30.013582</td>\n",
       "    </tr>\n",
       "    <tr>\n",
       "      <th>Total eve minutes</th>\n",
       "      <td>200.979241</td>\n",
       "      <td>201.034328</td>\n",
       "    </tr>\n",
       "    <tr>\n",
       "      <th>Total eve calls</th>\n",
       "      <td>100.168096</td>\n",
       "      <td>97.492537</td>\n",
       "    </tr>\n",
       "    <tr>\n",
       "      <th>Total eve charge</th>\n",
       "      <td>17.083451</td>\n",
       "      <td>17.087910</td>\n",
       "    </tr>\n",
       "    <tr>\n",
       "      <th>Total night minutes</th>\n",
       "      <td>200.981782</td>\n",
       "      <td>195.522388</td>\n",
       "    </tr>\n",
       "    <tr>\n",
       "      <th>Total night calls</th>\n",
       "      <td>100.126148</td>\n",
       "      <td>99.208955</td>\n",
       "    </tr>\n",
       "    <tr>\n",
       "      <th>Total night charge</th>\n",
       "      <td>9.044253</td>\n",
       "      <td>8.799104</td>\n",
       "    </tr>\n",
       "    <tr>\n",
       "      <th>Total intl minutes</th>\n",
       "      <td>10.237998</td>\n",
       "      <td>10.202985</td>\n",
       "    </tr>\n",
       "    <tr>\n",
       "      <th>Total intl calls</th>\n",
       "      <td>4.470300</td>\n",
       "      <td>4.925373</td>\n",
       "    </tr>\n",
       "    <tr>\n",
       "      <th>Total intl charge</th>\n",
       "      <td>2.764767</td>\n",
       "      <td>2.755522</td>\n",
       "    </tr>\n",
       "    <tr>\n",
       "      <th>Customer service calls</th>\n",
       "      <td>1.558788</td>\n",
       "      <td>1.761194</td>\n",
       "    </tr>\n",
       "  </tbody>\n",
       "</table>\n",
       "</div>"
      ],
      "text/plain": [
       "                             train        test\n",
       "Account length          101.161666   96.343284\n",
       "Number vmail messages     8.082976    8.880597\n",
       "Total day minutes       179.841335  176.546269\n",
       "Total day calls         100.484691   98.044776\n",
       "Total day charge         30.573564   30.013582\n",
       "Total eve minutes       200.979241  201.034328\n",
       "Total eve calls         100.168096   97.492537\n",
       "Total eve charge         17.083451   17.087910\n",
       "Total night minutes     200.981782  195.522388\n",
       "Total night calls       100.126148   99.208955\n",
       "Total night charge        9.044253    8.799104\n",
       "Total intl minutes       10.237998   10.202985\n",
       "Total intl calls          4.470300    4.925373\n",
       "Total intl charge         2.764767    2.755522\n",
       "Customer service calls    1.558788    1.761194"
      ]
     },
     "execution_count": 351,
     "metadata": {},
     "output_type": "execute_result"
    }
   ],
   "source": [
    "kf_data = mean_trtst(res_tr, res_tst)\n",
    "kf_data"
   ]
  },
  {
   "cell_type": "code",
   "execution_count": 352,
   "metadata": {},
   "outputs": [
    {
     "data": {
      "image/png": "[encoded data removed]",
      "text/plain": [
       "<Figure size 432x288 with 1 Axes>"
      ]
     },
     "metadata": {
      "needs_background": "light"
     },
     "output_type": "display_data"
    }
   ],
   "source": [
    "plot_pd(kf_data, 'Mean')"
   ]
  },
  {
   "cell_type": "markdown",
   "metadata": {},
   "source": [
    "#### тестирование для StratifiedKFold"
   ]
  },
  {
   "cell_type": "code",
   "execution_count": 353,
   "metadata": {},
   "outputs": [],
   "source": [
    "res_tr = None\n",
    "res_tst = None\n",
    "\n",
    "for train_index, test_index in skf.split(X, y): \n",
    "    res_tr = ret_dat(X, train_index.tolist())\n",
    "    res_tst = ret_dat(X, test_index.tolist())\n",
    "    break"
   ]
  },
  {
   "cell_type": "code",
   "execution_count": 354,
   "metadata": {
    "scrolled": true
   },
   "outputs": [
    {
     "data": {
      "text/html": [
       "<div>\n",
       "<style scoped>\n",
       "    .dataframe tbody tr th:only-of-type {\n",
       "        vertical-align: middle;\n",
       "    }\n",
       "\n",
       "    .dataframe tbody tr th {\n",
       "        vertical-align: top;\n",
       "    }\n",
       "\n",
       "    .dataframe thead th {\n",
       "        text-align: right;\n",
       "    }\n",
       "</style>\n",
       "<table border=\"1\" class=\"dataframe\">\n",
       "  <thead>\n",
       "    <tr style=\"text-align: right;\">\n",
       "      <th></th>\n",
       "      <th>train</th>\n",
       "      <th>test</th>\n",
       "    </tr>\n",
       "  </thead>\n",
       "  <tbody>\n",
       "    <tr>\n",
       "      <th>Account length</th>\n",
       "      <td>101.116044</td>\n",
       "      <td>98.567164</td>\n",
       "    </tr>\n",
       "    <tr>\n",
       "      <th>Number vmail messages</th>\n",
       "      <td>8.095530</td>\n",
       "      <td>8.268657</td>\n",
       "    </tr>\n",
       "    <tr>\n",
       "      <th>Total day minutes</th>\n",
       "      <td>179.816963</td>\n",
       "      <td>177.734328</td>\n",
       "    </tr>\n",
       "    <tr>\n",
       "      <th>Total day calls</th>\n",
       "      <td>100.475199</td>\n",
       "      <td>98.507463</td>\n",
       "    </tr>\n",
       "    <tr>\n",
       "      <th>Total day charge</th>\n",
       "      <td>30.569424</td>\n",
       "      <td>30.215373</td>\n",
       "    </tr>\n",
       "    <tr>\n",
       "      <th>Total eve minutes</th>\n",
       "      <td>200.989100</td>\n",
       "      <td>200.553731</td>\n",
       "    </tr>\n",
       "    <tr>\n",
       "      <th>Total eve calls</th>\n",
       "      <td>100.162584</td>\n",
       "      <td>97.761194</td>\n",
       "    </tr>\n",
       "    <tr>\n",
       "      <th>Total eve charge</th>\n",
       "      <td>17.084290</td>\n",
       "      <td>17.047015</td>\n",
       "    </tr>\n",
       "    <tr>\n",
       "      <th>Total night minutes</th>\n",
       "      <td>200.967453</td>\n",
       "      <td>196.220896</td>\n",
       "    </tr>\n",
       "    <tr>\n",
       "      <th>Total night calls</th>\n",
       "      <td>100.124923</td>\n",
       "      <td>99.268657</td>\n",
       "    </tr>\n",
       "    <tr>\n",
       "      <th>Total night charge</th>\n",
       "      <td>9.043607</td>\n",
       "      <td>8.830597</td>\n",
       "    </tr>\n",
       "    <tr>\n",
       "      <th>Total intl minutes</th>\n",
       "      <td>10.234936</td>\n",
       "      <td>10.352239</td>\n",
       "    </tr>\n",
       "    <tr>\n",
       "      <th>Total intl calls</th>\n",
       "      <td>4.470912</td>\n",
       "      <td>4.895522</td>\n",
       "    </tr>\n",
       "    <tr>\n",
       "      <th>Total intl charge</th>\n",
       "      <td>2.763938</td>\n",
       "      <td>2.795970</td>\n",
       "    </tr>\n",
       "    <tr>\n",
       "      <th>Customer service calls</th>\n",
       "      <td>1.558175</td>\n",
       "      <td>1.791045</td>\n",
       "    </tr>\n",
       "  </tbody>\n",
       "</table>\n",
       "</div>"
      ],
      "text/plain": [
       "                             train        test\n",
       "Account length          101.116044   98.567164\n",
       "Number vmail messages     8.095530    8.268657\n",
       "Total day minutes       179.816963  177.734328\n",
       "Total day calls         100.475199   98.507463\n",
       "Total day charge         30.569424   30.215373\n",
       "Total eve minutes       200.989100  200.553731\n",
       "Total eve calls         100.162584   97.761194\n",
       "Total eve charge         17.084290   17.047015\n",
       "Total night minutes     200.967453  196.220896\n",
       "Total night calls       100.124923   99.268657\n",
       "Total night charge        9.043607    8.830597\n",
       "Total intl minutes       10.234936   10.352239\n",
       "Total intl calls          4.470912    4.895522\n",
       "Total intl charge         2.763938    2.795970\n",
       "Customer service calls    1.558175    1.791045"
      ]
     },
     "execution_count": 354,
     "metadata": {},
     "output_type": "execute_result"
    }
   ],
   "source": [
    "skf_data = mean_trtst(res_tr, res_tst)\n",
    "skf_data"
   ]
  },
  {
   "cell_type": "code",
   "execution_count": 355,
   "metadata": {
    "scrolled": true
   },
   "outputs": [
    {
     "data": {
      "image/png": "[encoded data removed]",
      "text/plain": [
       "<Figure size 432x288 with 1 Axes>"
      ]
     },
     "metadata": {
      "needs_background": "light"
     },
     "output_type": "display_data"
    }
   ],
   "source": [
    "plot_pd(skf_data, 'Mean')"
   ]
  },
  {
   "cell_type": "markdown",
   "metadata": {},
   "source": [
    "### выводы:"
   ]
  },
  {
   "cell_type": "code",
   "execution_count": 371,
   "metadata": {},
   "outputs": [
    {
     "name": "stdout",
     "output_type": "stream",
     "text": [
      "сотношение предсказываемых событий 0.86 к 0.14\n"
     ]
    }
   ],
   "source": [
    "mask_y = y.value_counts(normalize=True)\n",
    "print(f'сотношение предсказываемых событий {round(mask_y[0],2)} к {round(mask_y[1],2)}')"
   ]
  },
  {
   "cell_type": "markdown",
   "metadata": {},
   "source": [
    "- при уменьшении данных в такой же пропорции __KFold(n_splits=4)__ будет брать подвыборку менее похожую на общие данные\n",
    "* ниже приведен пример, в котором __StratifiedKFold__ справляется с таким случаем лучше"
   ]
  },
  {
   "cell_type": "code",
   "execution_count": 373,
   "metadata": {},
   "outputs": [],
   "source": [
    "mtrx = np.zeros([12, 3], dtype = int) # create matrix\n",
    "\n",
    "n = 3\n",
    "while n>0:\n",
    "    n -= 1\n",
    "    mtrx[n-1] = [ n, n, 1]\n",
    "    \n",
    "y = mtrx[:,2]\n",
    "X = mtrx[:,0:2]"
   ]
  },
  {
   "cell_type": "code",
   "execution_count": 374,
   "metadata": {},
   "outputs": [],
   "source": [
    "kf = KFold(n_splits=3)\n",
    "skf = StratifiedKFold(n_splits=3)"
   ]
  },
  {
   "cell_type": "code",
   "execution_count": 375,
   "metadata": {},
   "outputs": [
    {
     "name": "stdout",
     "output_type": "stream",
     "text": [
      "Train part mean: 0.0\n",
      "Test part mean: 0.75\n"
     ]
    }
   ],
   "source": [
    "# KFold test\n",
    "for train_index, test_index in kf.split(X):\n",
    "    print(f'Train part mean: {X[train_index].mean()}')\n",
    "    print(f'Test part mean: {X[test_index].mean()}')\n",
    "    break"
   ]
  },
  {
   "cell_type": "code",
   "execution_count": 376,
   "metadata": {},
   "outputs": [
    {
     "name": "stdout",
     "output_type": "stream",
     "text": [
      "Train part mean: 0.25\n",
      "Test part mean: 0.25\n"
     ]
    }
   ],
   "source": [
    "# StratifiedKFold test\n",
    "for train_index, test_index in skf.split(X, y):\n",
    "    print(f'Train part mean: {X[train_index].mean()}')\n",
    "    print(f'Test part mean: {X[test_index].mean()}')\n",
    "    break"
   ]
  },
  {
   "cell_type": "markdown",
   "metadata": {},
   "source": [
    "тут наглядно видно, что __KFold__ не делает подвыборку согласно данным по __*y*__"
   ]
  },
  {
   "cell_type": "code",
   "execution_count": 1,
   "metadata": {},
   "outputs": [],
   "source": []
  },
  {
   "cell_type": "code",
   "execution_count": 3,
   "metadata": {},
   "outputs": [],
   "source": [
    "## too much code to prove that"
   ]
  },
  {
   "cell_type": "code",
   "execution_count": null,
   "metadata": {},
   "outputs": [],
   "source": []
  },
  {
   "cell_type": "code",
   "execution_count": null,
   "metadata": {},
   "outputs": [],
   "source": []
  },
  {
   "cell_type": "markdown",
   "metadata": {},
   "source": [
    "## Task 2\n",
    "Написать функцию, которая будет находить наилучшее разбиение(по индексу). \n",
    "\n",
    "Вход: для листа с целочисленными значениями inp = [0, 1, 0, 0, 1, 1, 1, 0] . <br>\n",
    "Выход: индекс, по которому наиболее оптимально разбить выборку. <br>\n",
    "\n",
    "(Применить энтропию Шеннона)"
   ]
  },
  {
   "cell_type": "code",
   "execution_count": 2,
   "metadata": {},
   "outputs": [],
   "source": [
    "import numpy as np\n",
    "import math\n",
    "\n",
    "# Shannon Entropy\n",
    "def sh_entropy(x_list):\n",
    "    Ni = x_list.count(tuple(set(x_list))[0])\n",
    "    Nj = x_list.count(tuple(set(x_list))[1])\n",
    "    N = len(x_list)\n",
    "    pi = Ni/N\n",
    "    pj = Nj/N\n",
    "    result = - (pi * math.log(pi)) - (pj * math.log(pj)) # math.log(X,[база]) без базы = Ln(X)\n",
    "    return round(result, 2)\n",
    "    "
   ]
  },
  {
   "cell_type": "code",
   "execution_count": 5,
   "metadata": {},
   "outputs": [],
   "source": [
    "def split(x_list):\n",
    "    \n",
    "    global full_entr\n",
    "    \n",
    "    idx = 0\n",
    "    for i in x_list:\n",
    "        idx+=1\n",
    "        if x_list[idx] != x_list[idx - 1]:\n",
    "            break\n",
    "\n",
    "    while idx+1 < len(x_list)-1:\n",
    "        a_list = x_list[:idx+1]\n",
    "        b_list = x_list[idx+1:]\n",
    "        a_entr = sh_entropy(a_list)\n",
    "        b_entr = sh_entropy(b_list)\n",
    "        if (a_entr < full_entr) and (b_entr < full_entr):\n",
    "            print(f'по индексу {idx} этропия частей составила {a_entr, b_entr}')\n",
    "        idx += 1 "
   ]
  },
  {
   "cell_type": "code",
   "execution_count": 10,
   "metadata": {},
   "outputs": [
    {
     "name": "stdout",
     "output_type": "stream",
     "text": [
      "Энтропия всего сэта = 0.69\n",
      "по индексу 2 этропия частей составила (0.64, 0.67)\n",
      "по индексу 4 этропия частей составила (0.67, 0.64)\n"
     ]
    }
   ],
   "source": [
    "inp = [0, 1, 0, 1, 0, 1, 0, 1]\n",
    "full_entr = sh_entropy(inp)\n",
    "print(f'Энтропия всего сэта = {full_entr}')\n",
    "split(inp)"
   ]
  },
  {
   "cell_type": "code",
   "execution_count": null,
   "metadata": {},
   "outputs": [],
   "source": []
  },
  {
   "cell_type": "code",
   "execution_count": 4,
   "metadata": {},
   "outputs": [],
   "source": [
    "# just give me the best"
   ]
  },
  {
   "cell_type": "code",
   "execution_count": null,
   "metadata": {},
   "outputs": [],
   "source": []
  },
  {
   "cell_type": "markdown",
   "metadata": {},
   "source": [
    "## Task 3\n",
    "\n",
    "применить свежеизученные алгоритмы (Дерево Решений, Случайный Лес, XGBoost) для задачи регрессии (оценка недвижимости https://www.kaggle.com/harlfoxem/housesalesprediction). Решение по данной задаче слать отдельным ноутбуком\n"
   ]
  },
  {
   "cell_type": "code",
   "execution_count": null,
   "metadata": {},
   "outputs": [],
   "source": []
  }
 ],
 "metadata": {
  "kernelspec": {
   "display_name": "Python 3",
   "language": "python",
   "name": "python3"
  },
  "language_info": {
   "codemirror_mode": {
    "name": "ipython",
    "version": 3
   },
   "file_extension": ".py",
   "mimetype": "text/x-python",
   "name": "python",
   "nbconvert_exporter": "python",
   "pygments_lexer": "ipython3",
   "version": "3.7.3"
  }
 },
 "nbformat": 4,
 "nbformat_minor": 2
}
