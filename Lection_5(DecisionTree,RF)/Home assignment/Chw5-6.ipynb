{
 "cells": [
  {
   "cell_type": "code",
   "execution_count": 4,
   "metadata": {},
   "outputs": [],
   "source": [
    "import pandas as pd\n",
    "import numpy as np\n",
    "import matplotlib.pyplot as plt\n",
    "import seaborn as sns"
   ]
  },
  {
   "cell_type": "code",
   "execution_count": 5,
   "metadata": {},
   "outputs": [],
   "source": [
    "from sklearn.model_selection import KFold, StratifiedKFold"
   ]
  },
  {
   "cell_type": "code",
   "execution_count": 6,
   "metadata": {},
   "outputs": [],
   "source": [
    "# https://www.kaggle.com/becksddf/churn-in-telecoms-dataset\n",
    "df = pd.read_csv('telecom_churn.csv')"
   ]
  },
  {
   "cell_type": "code",
   "execution_count": 7,
   "metadata": {},
   "outputs": [],
   "source": [
    "y = df[\"Churn\"].astype(int)"
   ]
  },
  {
   "cell_type": "code",
   "execution_count": 8,
   "metadata": {},
   "outputs": [],
   "source": [
    "x = df.drop(columns=['Churn'])"
   ]
  },
  {
   "cell_type": "markdown",
   "metadata": {},
   "source": [
    "## Task 1\n",
    "\n",
    "Убедиться, что StratifiedKFold в отличии от KFold сохраняет соотношение классов. (Дописать код, вывести таблицы/графики соотношения для KFold и StratifiedKFold). Привести случай, когда KFold будет работать очень плохо"
   ]
  },
  {
   "cell_type": "code",
   "execution_count": 9,
   "metadata": {},
   "outputs": [
    {
     "name": "stdout",
     "output_type": "stream",
     "text": [
      "default\n",
      "False    0.855086\n",
      "True     0.144914\n",
      "Name: Churn, dtype: float64\n",
      "\n",
      "kf\n",
      "False    0.84994\n",
      "True     0.15006\n",
      "Name: Churn, dtype: float64\n",
      "False    0.848\n",
      "True     0.152\n",
      "Name: Churn, dtype: float64\n",
      "False    0.8612\n",
      "True     0.1388\n",
      "Name: Churn, dtype: float64\n",
      "False    0.8612\n",
      "True     0.1388\n",
      "Name: Churn, dtype: float64\n",
      "\n",
      "skf\n",
      "False    0.855142\n",
      "True     0.144858\n",
      "Name: Churn, dtype: float64\n",
      "False    0.855142\n",
      "True     0.144858\n",
      "Name: Churn, dtype: float64\n",
      "False    0.8552\n",
      "True     0.1448\n",
      "Name: Churn, dtype: float64\n",
      "False    0.854858\n",
      "True     0.145142\n",
      "Name: Churn, dtype: float64\n"
     ]
    }
   ],
   "source": [
    "import numpy as np\n",
    "from sklearn.model_selection import KFold, StratifiedKFold\n",
    "\n",
    "kf = KFold(n_splits=4)\n",
    "skf = StratifiedKFold(n_splits=4)\n",
    "\n",
    "print('default')\n",
    "print(df['Churn'].value_counts(normalize = True))\n",
    "\n",
    "print('\\nkf')\n",
    "for train_index, test_index in kf.split(x):\n",
    "    print(df.iloc[train_index]['Churn'].value_counts(normalize = True))\n",
    "\n",
    "print('\\nskf')\n",
    "for train_index, test_index in skf.split(x,y):\n",
    "    print(df.iloc[train_index]['Churn'].value_counts(normalize = True))\n"
   ]
  },
  {
   "cell_type": "code",
   "execution_count": null,
   "metadata": {},
   "outputs": [],
   "source": []
  },
  {
   "cell_type": "markdown",
   "metadata": {},
   "source": [
    "## Task 2\n",
    "Написать функцию, которая будет находить наилучшее разбиение(по индексу). \n",
    "\n",
    "Вход: для листа с целочисленными значениями inp = [0, 1, 0, 0, 1, 1, 1, 0] . <br>\n",
    "Выход: индекс, по которому наиболее оптимально разбить выборку. <br>\n",
    "\n",
    "(Применить энтропию Шеннона)"
   ]
  },
  {
   "cell_type": "code",
   "execution_count": 11,
   "metadata": {},
   "outputs": [
    {
     "data": {
      "text/plain": [
       "4"
      ]
     },
     "execution_count": 11,
     "metadata": {},
     "output_type": "execute_result"
    }
   ],
   "source": [
    "import math\n",
    "from collections import Counter\n",
    "\n",
    "def entropy(s):\n",
    "    p, lns = Counter(s), float(len(s))\n",
    "    return -sum( count/lns * math.log(count/lns, 2) for count in p.values())\n",
    "\n",
    "def split(inp):\n",
    "    if len(inp) == 2:\n",
    "        return 1\n",
    "    best_index = None\n",
    "    base_entropy = entropy(inp)\n",
    "    best_delta_entropy = 0;\n",
    "    \n",
    "    for indx in range(2,len(inp)-1):\n",
    "        inp_1 = inp[:indx]\n",
    "        inp_2 = inp[indx:]\n",
    "        entropy_1 = entropy(inp_1)\n",
    "        entropy_2 = entropy(inp_2)\n",
    "        mean_entropy = (entropy_1+entropy_2)/2\n",
    "        delta_entropy = base_entropy - mean_entropy\n",
    "        if delta_entropy > best_delta_entropy:\n",
    "            best_index = indx\n",
    "            best_delta_entropy = delta_entropy\n",
    "    if best_index:\n",
    "        return best_index\n",
    "\n",
    "\n",
    "inp = [0, 1, 0, 0, 1, 1, 1, 0]\n",
    "split(inp)"
   ]
  },
  {
   "cell_type": "markdown",
   "metadata": {},
   "source": []
  },
  {
   "cell_type": "markdown",
   "metadata": {},
   "source": [
    "## Task 3\n",
    "\n",
    "применить свежеизученные алгоритмы (Дерево Решений, Случайный Лес, XGBoost) для задачи регрессии (оценка недвижимости https://www.kaggle.com/harlfoxem/housesalesprediction). Решение по данной задаче слать отдельным ноутбуком\n"
   ]
  },
  {
   "cell_type": "code",
   "execution_count": null,
   "metadata": {},
   "outputs": [],
   "source": []
  }
 ],
 "metadata": {
  "kernelspec": {
   "display_name": "Python 3",
   "language": "python",
   "name": "python3"
  },
  "language_info": {
   "codemirror_mode": {
    "name": "ipython",
    "version": 3
   },
   "file_extension": ".py",
   "mimetype": "text/x-python",
   "name": "python",
   "nbconvert_exporter": "python",
   "pygments_lexer": "ipython3",
   "version": "3.7.3"
  }
 },
 "nbformat": 4,
 "nbformat_minor": 2
}
