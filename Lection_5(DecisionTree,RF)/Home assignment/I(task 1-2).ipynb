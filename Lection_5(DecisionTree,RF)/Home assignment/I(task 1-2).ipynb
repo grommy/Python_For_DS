{
 "cells": [
  {
   "cell_type": "code",
   "execution_count": 59,
   "metadata": {},
   "outputs": [],
   "source": [
    "import pandas as pd\n",
    "import numpy as np"
   ]
  },
  {
   "cell_type": "code",
   "execution_count": 60,
   "metadata": {},
   "outputs": [],
   "source": [
    "from sklearn.model_selection import KFold, StratifiedKFold"
   ]
  },
  {
   "cell_type": "code",
   "execution_count": 61,
   "metadata": {},
   "outputs": [
    {
     "data": {
      "text/plain": [
       "3333"
      ]
     },
     "execution_count": 61,
     "metadata": {},
     "output_type": "execute_result"
    }
   ],
   "source": [
    "# https://www.kaggle.com/becksddf/churn-in-telecoms-dataset\n",
    "df = pd.read_csv(r\"C:\\Users\\i.ignatiev\\Homework\\10.09.2019\\bigml_59c28831336c6604c800002a.csv\")\n",
    "df.head()\n",
    "len(df)"
   ]
  },
  {
   "cell_type": "code",
   "execution_count": 76,
   "metadata": {},
   "outputs": [],
   "source": [
    "y = df[\"churn\"].astype(int)"
   ]
  },
  {
   "cell_type": "code",
   "execution_count": 77,
   "metadata": {},
   "outputs": [],
   "source": [
    "X = df.drop(columns=['churn'])"
   ]
  },
  {
   "cell_type": "markdown",
   "metadata": {},
   "source": [
    "## Task 1\n",
    "\n",
    "Убедиться, что StratifiedKFold в отличии от KFold сохраняет соотношение классов. (Дописать код, вывести таблицы/графики соотношения для KFold и StratifiedKFold). Привести случай, когда KFold будет работать очень плохо"
   ]
  },
  {
   "cell_type": "code",
   "execution_count": 92,
   "metadata": {},
   "outputs": [
    {
     "data": {
      "image/png": "[encoded data removed]",
      "text/plain": [
       "<Figure size 432x288 with 1 Axes>"
      ]
     },
     "metadata": {
      "needs_background": "light"
     },
     "output_type": "display_data"
    },
    {
     "data": {
      "image/png": "[encoded data removed]",
      "text/plain": [
       "<Figure size 432x288 with 1 Axes>"
      ]
     },
     "metadata": {
      "needs_background": "light"
     },
     "output_type": "display_data"
    }
   ],
   "source": [
    "import numpy as np\n",
    "from sklearn.model_selection import KFold, StratifiedKFold\n",
    "import matplotlib.pyplot as plt\n",
    "\n",
    "kf = KFold(n_splits=4)\n",
    "skf = StratifiedKFold(n_splits=4)\n",
    "\n",
    "for train_index, test_index in skf.split(X, y):\n",
    " skf_y_train, skf_y_test = y[train_index], y[test_index]\n",
    "for train_index, test_index in kf.split(X, y):\n",
    " kf_y_train, kf_y_test = y[train_index], y[test_index]\n",
    "mean_dict = {'KFold train': kf_y_train.mean(), 'KFold test': kf_y_test.mean(),\n",
    "             'SKFold train': skf_y_train.mean(), 'SKFold test': skf_y_test.mean()}\n",
    "plt.bar(mean_dict.keys(), mean_dict.values())\n",
    "plt.show()\n",
    "\n",
    "bad_example_list = [[0, 1], [0, 2], [0, 3], [0, 4], [1, 5], [1, 6], [1, 7], [1, 8]]\n",
    "\n",
    "bad_df = pd.DataFrame(bad_example_list, columns =['y', 'X'])\n",
    "#bad_df.head()\n",
    "bad_y = bad_df[\"y\"]\n",
    "bad_X = bad_df[\"X\"]\n",
    "for train_index, test_index in kf.split(bad_X):\n",
    "    kf_bad_y_train, kf_bad_y_test = bad_y[train_index], bad_y[test_index]\n",
    "for train_index, test_index in skf.split(bad_X, bad_y):\n",
    "    skf_bad_y_train, skf_bad_y_test = bad_y[train_index], bad_y[test_index]\n",
    "bad_mean_dict = {'KFold train': kf_bad_y_train.mean(), 'KFold test': kf_bad_y_test.mean(),\n",
    "                 'SKFold train': skf_bad_y_train.mean(), 'SKFold test': skf_bad_y_test.mean()}\n",
    "plt.bar(bad_mean_dict.keys(), bad_mean_dict.values())\n",
    "plt.show()"
   ]
  },
  {
   "cell_type": "code",
   "execution_count": 1,
   "metadata": {},
   "outputs": [],
   "source": [
    "# results are not obvious"
   ]
  },
  {
   "cell_type": "code",
   "execution_count": 4,
   "metadata": {},
   "outputs": [],
   "source": [
    "KFold?"
   ]
  },
  {
   "cell_type": "markdown",
   "metadata": {},
   "source": [
    "## Task 2\n",
    "Написать функцию, которая будет находить наилучшее разбиение(по индексу). \n",
    "\n",
    "Вход: для листа с целочисленными значениями inp = [0, 1, 0, 0, 1, 1, 1, 0] . <br>\n",
    "Выход: индекс, по которому наиболее оптимально разбить выборку. <br>\n",
    "\n",
    "(Применить энтропию Шеннона)"
   ]
  },
  {
   "cell_type": "code",
   "execution_count": 7,
   "metadata": {},
   "outputs": [
    {
     "name": "stdout",
     "output_type": "stream",
     "text": [
      "6\n"
     ]
    }
   ],
   "source": [
    "import numpy as np\n",
    "from math import log\n",
    "\n",
    "def entropy(data):\n",
    "\n",
    "  n_data = len(data)\n",
    "\n",
    "  if n_data <= 1:\n",
    "    return 0\n",
    "\n",
    "  value,counts = np.unique(data, return_counts=True)\n",
    "  probs = counts / n_data\n",
    "  n_classes = np.count_nonzero(probs)\n",
    "\n",
    "  if n_classes <= 1:\n",
    "    return 0\n",
    "\n",
    "  ent = 0.\n",
    "  \n",
    "  for i in probs:\n",
    "    ent -= i * log(i, 2)\n",
    "\n",
    "  return ent\n",
    "\n",
    "\n",
    "def split(inp):\n",
    "    i = 1\n",
    "    min_ent = len(inp) * log(len(inp), 2)\n",
    "    min_index = 1\n",
    "    while i <= len(inp) - 1:\n",
    "        ent_beg = entropy(inp[:i])\n",
    "        ent_end = entropy(inp[i:])\n",
    "        ent_total = (ent_beg + ent_end) / 2\n",
    "        if ent_total < min_ent:\n",
    "            min_ent = ent_total\n",
    "            min_index = i\n",
    "        i += 1\n",
    "    return min_index\n",
    "\n",
    "inp = [0, 0, 0, 0, 0, 0, 1, 1]\n",
    "print(split(inp))"
   ]
  },
  {
   "cell_type": "code",
   "execution_count": null,
   "metadata": {},
   "outputs": [],
   "source": []
  },
  {
   "cell_type": "code",
   "execution_count": null,
   "metadata": {},
   "outputs": [],
   "source": []
  },
  {
   "cell_type": "code",
   "execution_count": null,
   "metadata": {},
   "outputs": [],
   "source": []
  },
  {
   "cell_type": "code",
   "execution_count": null,
   "metadata": {},
   "outputs": [],
   "source": []
  },
  {
   "cell_type": "code",
   "execution_count": null,
   "metadata": {},
   "outputs": [],
   "source": []
  },
  {
   "cell_type": "markdown",
   "metadata": {},
   "source": [
    "## Task 3\n",
    "\n",
    "применить свежеизученные алгоритмы (Дерево Решений, Случайный Лес, XGBoost) для задачи регрессии (оценка недвижимости https://www.kaggle.com/harlfoxem/housesalesprediction). Решение по данной задаче слать отдельным ноутбуком\n"
   ]
  },
  {
   "cell_type": "code",
   "execution_count": null,
   "metadata": {},
   "outputs": [],
   "source": []
  }
 ],
 "metadata": {
  "kernelspec": {
   "display_name": "Python 3",
   "language": "python",
   "name": "python3"
  },
  "language_info": {
   "codemirror_mode": {
    "name": "ipython",
    "version": 3
   },
   "file_extension": ".py",
   "mimetype": "text/x-python",
   "name": "python",
   "nbconvert_exporter": "python",
   "pygments_lexer": "ipython3",
   "version": "3.7.3"
  }
 },
 "nbformat": 4,
 "nbformat_minor": 2
}
