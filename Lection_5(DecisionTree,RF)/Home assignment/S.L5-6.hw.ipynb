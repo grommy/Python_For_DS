{
 "cells": [
  {
   "cell_type": "code",
   "execution_count": 443,
   "metadata": {
    "collapsed": true
   },
   "outputs": [],
   "source": [
    "import pandas as pd\n",
    "import numpy as np\n",
    "import seaborn as sns\n",
    "import matplotlib.pyplot as plt"
   ]
  },
  {
   "cell_type": "code",
   "execution_count": 444,
   "metadata": {
    "collapsed": true
   },
   "outputs": [],
   "source": [
    "from sklearn.model_selection import KFold, StratifiedKFold"
   ]
  },
  {
   "cell_type": "code",
   "execution_count": 445,
   "metadata": {
    "collapsed": true
   },
   "outputs": [],
   "source": [
    "# https://www.kaggle.com/becksddf/churn-in-telecoms-dataset\n",
    "df = pd.read_csv('../../data/telecom_churn.csv')"
   ]
  },
  {
   "cell_type": "code",
   "execution_count": 446,
   "metadata": {
    "collapsed": true
   },
   "outputs": [],
   "source": [
    "y = df[\"Churn\"].astype(int)"
   ]
  },
  {
   "cell_type": "code",
   "execution_count": 447,
   "metadata": {
    "collapsed": true
   },
   "outputs": [],
   "source": [
    "X = df.drop(columns=['Churn'])"
   ]
  },
  {
   "cell_type": "markdown",
   "metadata": {},
   "source": [
    "## Task 1\n",
    "\n",
    "Убедиться, что StratifiedKFold в отличии от KFold сохраняет соотношение классов. (Дописать код, вывести таблицы/графики соотношения для KFold и StratifiedKFold). Привести случай, когда KFold будет работать очень плохо"
   ]
  },
  {
   "cell_type": "code",
   "execution_count": 451,
   "metadata": {},
   "outputs": [
    {
     "name": "stdout",
     "output_type": "stream",
     "text": [
      "X shape: (3333, 19)\n",
      "y_shape: (3333,)\n",
      "y lables name: Int64Index([0, 1], dtype='int64')\n",
      "y lables count:\n",
      " 0    2850\n",
      "1     483\n",
      "Name: Churn, dtype: int64\n",
      "--------------------------------------------------\n",
      "\n",
      " * KFold method * \n",
      "Train: \n",
      "       X_shape  y_shape     0    1 ratio(1/(0+1))\n",
      "1  (2499, 19)  (2499,)  2124  375        0.15006\n",
      "2  (2500, 19)  (2500,)  2120  380          0.152\n",
      "3  (2500, 19)  (2500,)  2153  347         0.1388\n",
      "4  (2500, 19)  (2500,)  2153  347         0.1388\n",
      "Test: \n",
      "      X_shape y_shape    0    1 ratio(1/(0+1))\n",
      "1  (834, 19)  (834,)  726  108       0.129496\n",
      "2  (833, 19)  (833,)  730  103       0.123649\n",
      "3  (833, 19)  (833,)  697  136       0.163265\n",
      "4  (833, 19)  (833,)  697  136       0.163265\n"
     ]
    },
    {
     "data": {
      "image/png": "[encoded data removed]",
      "text/plain": [
       "<Figure size 432x288 with 1 Axes>"
      ]
     },
     "metadata": {},
     "output_type": "display_data"
    }
   ],
   "source": [
    "import numpy as np\n",
    "from sklearn.model_selection import KFold, StratifiedKFold\n",
    "\n",
    "kf = KFold(n_splits=4)\n",
    "skf = StratifiedKFold(n_splits=4)\n",
    "\n",
    "print('X shape:', X.shape)\n",
    "print('y_shape:', y.shape)\n",
    "print('y lables name:', y.value_counts().keys())\n",
    "print('y lables count:\\n', y.value_counts())\n",
    "print('-'*50)\n",
    "print()\n",
    "\n",
    "print(' * KFold method * ')\n",
    "columns = ['X_shape', 'y_shape', 0, 1]\n",
    "kf_df_train = pd.DataFrame(columns=columns)\n",
    "kf_df_test = pd.DataFrame(columns=columns)\n",
    "Xy_train_shape = []\n",
    "Xy_test_shape = []\n",
    "i = 0\n",
    "\n",
    "for train_index, test_index in kf.split(X):\n",
    "    X_train, X_test = X.iloc[train_index], X.iloc[test_index]\n",
    "    y_train, y_test = y.iloc[train_index], y.iloc[test_index]\n",
    "    \n",
    "    y_train_vc = y.iloc[train_index].value_counts()\n",
    "    y_test_vc = y.iloc[test_index].value_counts()\n",
    "    \n",
    "    i += 1\n",
    "    kf_df_train.loc[i] = [X_train.shape] + [y_train.shape] + [y_train_vc[0]] + [y_train_vc[1]]\n",
    "    kf_df_test.loc[i] = [X_test.shape] + [y_test.shape] + [y_test_vc[0]] + [y_test_vc[1]]\n",
    "    \n",
    "    ## plot\n",
    "    indeces = np.array([np.nan] * len(X))\n",
    "    indeces[train_index] = 0\n",
    "    indeces[test_index] = 1\n",
    "\n",
    "    plt.scatter(x=range(len(indeces)), y=(np.array([1] * len(X)))*i, \n",
    "               c=indeces, marker='_', lw=10, \n",
    "                   vmin=-1, vmax=1)\n",
    "    ###\n",
    "    \n",
    "kf_df_train['ratio(1/(0+1))'] = kf_df_train[1]/(kf_df_train[1]+kf_df_train[0])\n",
    "kf_df_test['ratio(1/(0+1))'] = kf_df_test[1]/(kf_df_test[1]+kf_df_test[0])\n",
    "\n",
    "print('Train: \\n',kf_df_train)\n",
    "print('Test: \\n', kf_df_test)\n"
   ]
  },
  {
   "cell_type": "code",
   "execution_count": 452,
   "metadata": {},
   "outputs": [
    {
     "name": "stdout",
     "output_type": "stream",
     "text": [
      " * StratifiedKFold method * \n",
      "Train: \n",
      "       X_shape  y_shape     0    1 ratio(1/(0+1))\n",
      "1  (2499, 19)  (2499,)  2137  362       0.144858\n",
      "2  (2499, 19)  (2499,)  2137  362       0.144858\n",
      "3  (2500, 19)  (2500,)  2138  362         0.1448\n",
      "4  (2501, 19)  (2501,)  2138  363       0.145142\n",
      "Test: \n",
      "      X_shape y_shape    0    1 ratio(1/(0+1))\n",
      "1  (834, 19)  (834,)  713  121       0.145084\n",
      "2  (834, 19)  (834,)  713  121       0.145084\n",
      "3  (833, 19)  (833,)  712  121       0.145258\n",
      "4  (832, 19)  (832,)  712  120       0.144231\n"
     ]
    },
    {
     "data": {
      "image/png": "[encoded data removed]",
      "text/plain": [
       "<Figure size 432x288 with 1 Axes>"
      ]
     },
     "metadata": {},
     "output_type": "display_data"
    }
   ],
   "source": [
    "print(' * StratifiedKFold method * ')\n",
    "\n",
    "columns = ['X_shape', 'y_shape', 0, 1]\n",
    "kf_df_train = pd.DataFrame(columns=columns)\n",
    "kf_df_test = pd.DataFrame(columns=columns)\n",
    "Xy_train_shape = []\n",
    "Xy_test_shape = []\n",
    "i = 0\n",
    "\n",
    "for train_index, test_index in skf.split(X, y):\n",
    "    X_train, X_test = X.iloc[train_index], X.iloc[test_index]\n",
    "    y_train, y_test = y.iloc[train_index], y.iloc[test_index]\n",
    "    \n",
    "    y_train_vc = y.iloc[train_index].value_counts()\n",
    "    y_test_vc = y.iloc[test_index].value_counts()\n",
    "    \n",
    "    i += 1\n",
    "    kf_df_train.loc[i] = [X_train.shape] + [y_train.shape] + [y_train_vc[0]] + [y_train_vc[1]]\n",
    "    kf_df_test.loc[i] = [X_test.shape] + [y_test.shape] + [y_test_vc[0]] + [y_test_vc[1]]\n",
    "    \n",
    "    ## plot\n",
    "    indeces = np.array([np.nan] * len(X))\n",
    "    indeces[train_index] = 0\n",
    "    indeces[test_index] = 1\n",
    "\n",
    "    plt.scatter(x=range(len(indeces)), y=(np.array([1] * len(X)))*i, \n",
    "               c=indeces, marker='_', lw=20, \n",
    "                   vmin=-1, vmax=1)\n",
    "    ###\n",
    "    \n",
    "    \n",
    "kf_df_train['ratio(1/(0+1))'] = kf_df_train[1]/(kf_df_train[1]+kf_df_train[0])\n",
    "kf_df_test['ratio(1/(0+1))'] = kf_df_test[1]/(kf_df_test[1]+kf_df_test[0])\n",
    "\n",
    "print('Train: \\n',kf_df_train)\n",
    "print('Test: \\n', kf_df_test)"
   ]
  },
  {
   "cell_type": "code",
   "execution_count": 456,
   "metadata": {},
   "outputs": [
    {
     "name": "stdout",
     "output_type": "stream",
     "text": [
      " * bad split for Kfold * \n",
      "Train: \n",
      "     0   1 ratio(1/(0+1))\n",
      "1  25  50       0.666667\n",
      "2  25  50       0.666667\n",
      "3  50  25       0.333333\n",
      "4  50  25       0.333333\n",
      "Test: \n",
      "     0   1 ratio(1/(0+1))\n",
      "1  25   0              0\n",
      "2  25   0              0\n",
      "3   0  25              1\n",
      "4   0  25              1\n"
     ]
    }
   ],
   "source": [
    "print(' * bad split for Kfold * ' )\n",
    "\n",
    "X = np.ones(100)\n",
    "y = np.append(np.zeros(50), np.ones(50))\n",
    "\n",
    "columns = [0, 1]\n",
    "kf_df_train = pd.DataFrame(columns=columns)\n",
    "kf_df_test = pd.DataFrame(columns=columns)\n",
    "i = 0\n",
    "\n",
    "for train_index, test_index in kf.split(X):   \n",
    "    y_train = [(y[train_index] == 0).sum(), (y[train_index] == 1).sum()]\n",
    "    y_test = [(y[test_index] == 0).sum(), (y[test_index] == 1).sum()]\n",
    "\n",
    "    i += 1\n",
    "    kf_df_train.loc[i] = y_train\n",
    "    kf_df_test.loc[i] = y_test    \n",
    "    \n",
    "#     ## plot\n",
    "#     indeces = np.array([np.nan] * len(X))\n",
    "#     indeces[train_index] = 0\n",
    "#     indeces[test_index] = 1\n",
    "\n",
    "#     plt.scatter(x=range(len(indeces)), y=(np.array([1] * len(X)))*i, \n",
    "#                c=indeces, marker='_', lw=10, \n",
    "#                    vmin=-1, vmax=1)\n",
    "#     ###\n",
    "    \n",
    "kf_df_train['ratio(1/(0+1))'] = kf_df_train[1]/(kf_df_train[1]+kf_df_train[0])\n",
    "kf_df_test['ratio(1/(0+1))'] = kf_df_test[1]/(kf_df_test[1]+kf_df_test[0])\n",
    "\n",
    "print('Train: \\n',kf_df_train)\n",
    "print('Test: \\n', kf_df_test)"
   ]
  },
  {
   "cell_type": "code",
   "execution_count": 457,
   "metadata": {},
   "outputs": [
    {
     "name": "stdout",
     "output_type": "stream",
     "text": [
      " * StratifiedKFold split * \n",
      "Train: \n",
      "     0   1 ratio(1/(0+1))\n",
      "1  37  37            0.5\n",
      "2  37  37            0.5\n",
      "3  38  38            0.5\n",
      "4  38  38            0.5\n",
      "Test: \n",
      "     0   1 ratio(1/(0+1))\n",
      "1  13  13            0.5\n",
      "2  13  13            0.5\n",
      "3  12  12            0.5\n",
      "4  12  12            0.5\n"
     ]
    }
   ],
   "source": [
    "print(' * StratifiedKFold split * ')\n",
    "\n",
    "columns = [0, 1]\n",
    "kf_df_train = pd.DataFrame(columns=columns)\n",
    "kf_df_test = pd.DataFrame(columns=columns)\n",
    "i = 0\n",
    "\n",
    "for train_index, test_index in skf.split(X, y): \n",
    "    y_train = [(y[train_index] == 0).sum(), (y[train_index] == 1).sum()]\n",
    "    y_test = [(y[test_index] == 0).sum(), (y[test_index] == 1).sum()]\n",
    "\n",
    "    i += 1\n",
    "    kf_df_train.loc[i] = y_train\n",
    "    kf_df_test.loc[i] = y_test    \n",
    "    \n",
    "kf_df_train['ratio(1/(0+1))'] = kf_df_train[1]/(kf_df_train[1]+kf_df_train[0])\n",
    "kf_df_test['ratio(1/(0+1))'] = kf_df_test[1]/(kf_df_test[1]+kf_df_test[0])\n",
    "\n",
    "print('Train: \\n',kf_df_train)\n",
    "print('Test: \\n', kf_df_test)"
   ]
  },
  {
   "cell_type": "markdown",
   "metadata": {},
   "source": [
    "## Task 2\n",
    "Написать функцию, которая будет находить наилучшее разбиение(по индексу). \n",
    "\n",
    "Вход: для листа с целочисленными значениями inp = [0, 1, 0, 0, 1, 1, 1, 0] . <br>\n",
    "Выход: индекс, по которому наиболее оптимально разбить выборку. <br>\n",
    "\n",
    "(Применить энтропию Шеннона)"
   ]
  },
  {
   "cell_type": "code",
   "execution_count": 516,
   "metadata": {
    "collapsed": true
   },
   "outputs": [],
   "source": [
    "inp = [0, 1, 0, 0, 1, 1, 1, 0]\n",
    "\n",
    "def split(inp):\n",
    "\n",
    "#     unique, counts = np.unique(inp, return_counts=True)\n",
    "\n",
    "#     entropia = sum([-i/counts.sum()*np.log2(i/counts.sum()) for i in counts])\n",
    "    return\n",
    "\n"
   ]
  },
  {
   "cell_type": "code",
   "execution_count": 502,
   "metadata": {},
   "outputs": [
    {
     "data": {
      "text/plain": [
       "0"
      ]
     },
     "execution_count": 502,
     "metadata": {},
     "output_type": "execute_result"
    }
   ],
   "source": []
  },
  {
   "cell_type": "markdown",
   "metadata": {},
   "source": [
    "## Task 3\n",
    "\n",
    "применить свежеизученные алгоритмы (Дерево Решений, Случайный Лес, XGBoost) для задачи регрессии (оценка недвижимости https://www.kaggle.com/harlfoxem/housesalesprediction). Решение по данной задаче слать отдельным ноутбуком\n"
   ]
  },
  {
   "cell_type": "code",
   "execution_count": 514,
   "metadata": {
    "collapsed": true
   },
   "outputs": [],
   "source": [
    "#df = pd.read_csv('../../data/kc_house_data.csv')"
   ]
  },
  {
   "cell_type": "code",
   "execution_count": 515,
   "metadata": {},
   "outputs": [
    {
     "data": {
      "text/html": [
       "<div>\n",
       "<style scoped>\n",
       "    .dataframe tbody tr th:only-of-type {\n",
       "        vertical-align: middle;\n",
       "    }\n",
       "\n",
       "    .dataframe tbody tr th {\n",
       "        vertical-align: top;\n",
       "    }\n",
       "\n",
       "    .dataframe thead th {\n",
       "        text-align: right;\n",
       "    }\n",
       "</style>\n",
       "<table border=\"1\" class=\"dataframe\">\n",
       "  <thead>\n",
       "    <tr style=\"text-align: right;\">\n",
       "      <th></th>\n",
       "      <th>id</th>\n",
       "      <th>date</th>\n",
       "      <th>price</th>\n",
       "      <th>bedrooms</th>\n",
       "      <th>bathrooms</th>\n",
       "      <th>sqft_living</th>\n",
       "      <th>sqft_lot</th>\n",
       "      <th>floors</th>\n",
       "      <th>waterfront</th>\n",
       "      <th>view</th>\n",
       "      <th>...</th>\n",
       "      <th>grade</th>\n",
       "      <th>sqft_above</th>\n",
       "      <th>sqft_basement</th>\n",
       "      <th>yr_built</th>\n",
       "      <th>yr_renovated</th>\n",
       "      <th>zipcode</th>\n",
       "      <th>lat</th>\n",
       "      <th>long</th>\n",
       "      <th>sqft_living15</th>\n",
       "      <th>sqft_lot15</th>\n",
       "    </tr>\n",
       "  </thead>\n",
       "  <tbody>\n",
       "    <tr>\n",
       "      <th>0</th>\n",
       "      <td>7129300520</td>\n",
       "      <td>20141013T000000</td>\n",
       "      <td>221900.0</td>\n",
       "      <td>3</td>\n",
       "      <td>1.00</td>\n",
       "      <td>1180</td>\n",
       "      <td>5650</td>\n",
       "      <td>1.0</td>\n",
       "      <td>0</td>\n",
       "      <td>0</td>\n",
       "      <td>...</td>\n",
       "      <td>7</td>\n",
       "      <td>1180</td>\n",
       "      <td>0</td>\n",
       "      <td>1955</td>\n",
       "      <td>0</td>\n",
       "      <td>98178</td>\n",
       "      <td>47.5112</td>\n",
       "      <td>-122.257</td>\n",
       "      <td>1340</td>\n",
       "      <td>5650</td>\n",
       "    </tr>\n",
       "    <tr>\n",
       "      <th>1</th>\n",
       "      <td>6414100192</td>\n",
       "      <td>20141209T000000</td>\n",
       "      <td>538000.0</td>\n",
       "      <td>3</td>\n",
       "      <td>2.25</td>\n",
       "      <td>2570</td>\n",
       "      <td>7242</td>\n",
       "      <td>2.0</td>\n",
       "      <td>0</td>\n",
       "      <td>0</td>\n",
       "      <td>...</td>\n",
       "      <td>7</td>\n",
       "      <td>2170</td>\n",
       "      <td>400</td>\n",
       "      <td>1951</td>\n",
       "      <td>1991</td>\n",
       "      <td>98125</td>\n",
       "      <td>47.7210</td>\n",
       "      <td>-122.319</td>\n",
       "      <td>1690</td>\n",
       "      <td>7639</td>\n",
       "    </tr>\n",
       "    <tr>\n",
       "      <th>2</th>\n",
       "      <td>5631500400</td>\n",
       "      <td>20150225T000000</td>\n",
       "      <td>180000.0</td>\n",
       "      <td>2</td>\n",
       "      <td>1.00</td>\n",
       "      <td>770</td>\n",
       "      <td>10000</td>\n",
       "      <td>1.0</td>\n",
       "      <td>0</td>\n",
       "      <td>0</td>\n",
       "      <td>...</td>\n",
       "      <td>6</td>\n",
       "      <td>770</td>\n",
       "      <td>0</td>\n",
       "      <td>1933</td>\n",
       "      <td>0</td>\n",
       "      <td>98028</td>\n",
       "      <td>47.7379</td>\n",
       "      <td>-122.233</td>\n",
       "      <td>2720</td>\n",
       "      <td>8062</td>\n",
       "    </tr>\n",
       "    <tr>\n",
       "      <th>3</th>\n",
       "      <td>2487200875</td>\n",
       "      <td>20141209T000000</td>\n",
       "      <td>604000.0</td>\n",
       "      <td>4</td>\n",
       "      <td>3.00</td>\n",
       "      <td>1960</td>\n",
       "      <td>5000</td>\n",
       "      <td>1.0</td>\n",
       "      <td>0</td>\n",
       "      <td>0</td>\n",
       "      <td>...</td>\n",
       "      <td>7</td>\n",
       "      <td>1050</td>\n",
       "      <td>910</td>\n",
       "      <td>1965</td>\n",
       "      <td>0</td>\n",
       "      <td>98136</td>\n",
       "      <td>47.5208</td>\n",
       "      <td>-122.393</td>\n",
       "      <td>1360</td>\n",
       "      <td>5000</td>\n",
       "    </tr>\n",
       "    <tr>\n",
       "      <th>4</th>\n",
       "      <td>1954400510</td>\n",
       "      <td>20150218T000000</td>\n",
       "      <td>510000.0</td>\n",
       "      <td>3</td>\n",
       "      <td>2.00</td>\n",
       "      <td>1680</td>\n",
       "      <td>8080</td>\n",
       "      <td>1.0</td>\n",
       "      <td>0</td>\n",
       "      <td>0</td>\n",
       "      <td>...</td>\n",
       "      <td>8</td>\n",
       "      <td>1680</td>\n",
       "      <td>0</td>\n",
       "      <td>1987</td>\n",
       "      <td>0</td>\n",
       "      <td>98074</td>\n",
       "      <td>47.6168</td>\n",
       "      <td>-122.045</td>\n",
       "      <td>1800</td>\n",
       "      <td>7503</td>\n",
       "    </tr>\n",
       "  </tbody>\n",
       "</table>\n",
       "<p>5 rows × 21 columns</p>\n",
       "</div>"
      ],
      "text/plain": [
       "           id             date     price  bedrooms  bathrooms  sqft_living  \\\n",
       "0  7129300520  20141013T000000  221900.0         3       1.00         1180   \n",
       "1  6414100192  20141209T000000  538000.0         3       2.25         2570   \n",
       "2  5631500400  20150225T000000  180000.0         2       1.00          770   \n",
       "3  2487200875  20141209T000000  604000.0         4       3.00         1960   \n",
       "4  1954400510  20150218T000000  510000.0         3       2.00         1680   \n",
       "\n",
       "   sqft_lot  floors  waterfront  view     ...      grade  sqft_above  \\\n",
       "0      5650     1.0           0     0     ...          7        1180   \n",
       "1      7242     2.0           0     0     ...          7        2170   \n",
       "2     10000     1.0           0     0     ...          6         770   \n",
       "3      5000     1.0           0     0     ...          7        1050   \n",
       "4      8080     1.0           0     0     ...          8        1680   \n",
       "\n",
       "   sqft_basement  yr_built  yr_renovated  zipcode      lat     long  \\\n",
       "0              0      1955             0    98178  47.5112 -122.257   \n",
       "1            400      1951          1991    98125  47.7210 -122.319   \n",
       "2              0      1933             0    98028  47.7379 -122.233   \n",
       "3            910      1965             0    98136  47.5208 -122.393   \n",
       "4              0      1987             0    98074  47.6168 -122.045   \n",
       "\n",
       "   sqft_living15  sqft_lot15  \n",
       "0           1340        5650  \n",
       "1           1690        7639  \n",
       "2           2720        8062  \n",
       "3           1360        5000  \n",
       "4           1800        7503  \n",
       "\n",
       "[5 rows x 21 columns]"
      ]
     },
     "execution_count": 515,
     "metadata": {},
     "output_type": "execute_result"
    }
   ],
   "source": [
    "#df.head()"
   ]
  },
  {
   "cell_type": "code",
   "execution_count": null,
   "metadata": {
    "collapsed": true
   },
   "outputs": [],
   "source": []
  }
 ],
 "metadata": {
  "kernelspec": {
   "display_name": "Python 3",
   "language": "python",
   "name": "python3"
  },
  "language_info": {
   "codemirror_mode": {
    "name": "ipython",
    "version": 3
   },
   "file_extension": ".py",
   "mimetype": "text/x-python",
   "name": "python",
   "nbconvert_exporter": "python",
   "pygments_lexer": "ipython3",
   "version": "3.7.3"
  }
 },
 "nbformat": 4,
 "nbformat_minor": 2
}
