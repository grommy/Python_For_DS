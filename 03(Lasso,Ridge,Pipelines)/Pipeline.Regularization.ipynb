{
 "cells": [
  {
   "cell_type": "markdown",
   "metadata": {},
   "source": [
    "## Lection_3.Pipeline.Regularization"
   ]
  },
  {
   "cell_type": "code",
   "execution_count": 1,
   "metadata": {},
   "outputs": [
    {
     "name": "stdout",
     "output_type": "stream",
     "text": [
      "/Users/nickkon/projects/pet/ITEA/Lection_3\n"
     ]
    }
   ],
   "source": [
    "import os\n",
    "print(os.getcwd())"
   ]
  },
  {
   "cell_type": "code",
   "execution_count": 2,
   "metadata": {},
   "outputs": [],
   "source": [
    "import numpy as np\n",
    "import pandas as pd\n",
    "\n",
    "from sklearn.linear_model import LinearRegression, Lasso, Ridge\n",
    "from sklearn.model_selection import train_test_split"
   ]
  },
  {
   "cell_type": "code",
   "execution_count": 3,
   "metadata": {},
   "outputs": [],
   "source": [
    "# Read the CSV file into a DataFrame: df\n",
    "df = pd.read_csv('../data/gm_2008_region.csv')"
   ]
  },
  {
   "cell_type": "code",
   "execution_count": 4,
   "metadata": {},
   "outputs": [
    {
     "data": {
      "text/html": [
       "<div>\n",
       "<style scoped>\n",
       "    .dataframe tbody tr th:only-of-type {\n",
       "        vertical-align: middle;\n",
       "    }\n",
       "\n",
       "    .dataframe tbody tr th {\n",
       "        vertical-align: top;\n",
       "    }\n",
       "\n",
       "    .dataframe thead th {\n",
       "        text-align: right;\n",
       "    }\n",
       "</style>\n",
       "<table border=\"1\" class=\"dataframe\">\n",
       "  <thead>\n",
       "    <tr style=\"text-align: right;\">\n",
       "      <th></th>\n",
       "      <th>population</th>\n",
       "      <th>fertility</th>\n",
       "      <th>HIV</th>\n",
       "      <th>CO2</th>\n",
       "      <th>BMI_male</th>\n",
       "      <th>GDP</th>\n",
       "      <th>BMI_female</th>\n",
       "      <th>life</th>\n",
       "      <th>child_mortality</th>\n",
       "      <th>Region</th>\n",
       "    </tr>\n",
       "  </thead>\n",
       "  <tbody>\n",
       "    <tr>\n",
       "      <th>0</th>\n",
       "      <td>34811059.0</td>\n",
       "      <td>2.73</td>\n",
       "      <td>0.1</td>\n",
       "      <td>3.328945</td>\n",
       "      <td>24.59620</td>\n",
       "      <td>12314.0</td>\n",
       "      <td>129.9049</td>\n",
       "      <td>75.3</td>\n",
       "      <td>29.5</td>\n",
       "      <td>Middle East &amp; North Africa</td>\n",
       "    </tr>\n",
       "    <tr>\n",
       "      <th>1</th>\n",
       "      <td>19842251.0</td>\n",
       "      <td>6.43</td>\n",
       "      <td>2.0</td>\n",
       "      <td>1.474353</td>\n",
       "      <td>22.25083</td>\n",
       "      <td>7103.0</td>\n",
       "      <td>130.1247</td>\n",
       "      <td>58.3</td>\n",
       "      <td>192.0</td>\n",
       "      <td>Sub-Saharan Africa</td>\n",
       "    </tr>\n",
       "    <tr>\n",
       "      <th>2</th>\n",
       "      <td>40381860.0</td>\n",
       "      <td>2.24</td>\n",
       "      <td>0.5</td>\n",
       "      <td>4.785170</td>\n",
       "      <td>27.50170</td>\n",
       "      <td>14646.0</td>\n",
       "      <td>118.8915</td>\n",
       "      <td>75.5</td>\n",
       "      <td>15.4</td>\n",
       "      <td>America</td>\n",
       "    </tr>\n",
       "    <tr>\n",
       "      <th>3</th>\n",
       "      <td>2975029.0</td>\n",
       "      <td>1.40</td>\n",
       "      <td>0.1</td>\n",
       "      <td>1.804106</td>\n",
       "      <td>25.35542</td>\n",
       "      <td>7383.0</td>\n",
       "      <td>132.8108</td>\n",
       "      <td>72.5</td>\n",
       "      <td>20.0</td>\n",
       "      <td>Europe &amp; Central Asia</td>\n",
       "    </tr>\n",
       "    <tr>\n",
       "      <th>4</th>\n",
       "      <td>21370348.0</td>\n",
       "      <td>1.96</td>\n",
       "      <td>0.1</td>\n",
       "      <td>18.016313</td>\n",
       "      <td>27.56373</td>\n",
       "      <td>41312.0</td>\n",
       "      <td>117.3755</td>\n",
       "      <td>81.5</td>\n",
       "      <td>5.2</td>\n",
       "      <td>East Asia &amp; Pacific</td>\n",
       "    </tr>\n",
       "  </tbody>\n",
       "</table>\n",
       "</div>"
      ],
      "text/plain": [
       "   population  fertility  HIV        CO2  BMI_male      GDP  BMI_female  life  \\\n",
       "0  34811059.0       2.73  0.1   3.328945  24.59620  12314.0    129.9049  75.3   \n",
       "1  19842251.0       6.43  2.0   1.474353  22.25083   7103.0    130.1247  58.3   \n",
       "2  40381860.0       2.24  0.5   4.785170  27.50170  14646.0    118.8915  75.5   \n",
       "3   2975029.0       1.40  0.1   1.804106  25.35542   7383.0    132.8108  72.5   \n",
       "4  21370348.0       1.96  0.1  18.016313  27.56373  41312.0    117.3755  81.5   \n",
       "\n",
       "   child_mortality                      Region  \n",
       "0             29.5  Middle East & North Africa  \n",
       "1            192.0          Sub-Saharan Africa  \n",
       "2             15.4                     America  \n",
       "3             20.0       Europe & Central Asia  \n",
       "4              5.2         East Asia & Pacific  "
      ]
     },
     "execution_count": 4,
     "metadata": {},
     "output_type": "execute_result"
    }
   ],
   "source": [
    "df.head()"
   ]
  },
  {
   "cell_type": "code",
   "execution_count": null,
   "metadata": {},
   "outputs": [],
   "source": []
  },
  {
   "cell_type": "markdown",
   "metadata": {},
   "source": [
    "### Prepare data"
   ]
  },
  {
   "cell_type": "code",
   "execution_count": 6,
   "metadata": {},
   "outputs": [],
   "source": [
    "y = df.life\n",
    "X_all = df.drop(columns='life')"
   ]
  },
  {
   "cell_type": "code",
   "execution_count": 7,
   "metadata": {},
   "outputs": [
    {
     "data": {
      "text/plain": [
       "population         float64\n",
       "fertility          float64\n",
       "HIV                float64\n",
       "CO2                float64\n",
       "BMI_male           float64\n",
       "GDP                float64\n",
       "BMI_female         float64\n",
       "child_mortality    float64\n",
       "Region              object\n",
       "dtype: object"
      ]
     },
     "execution_count": 7,
     "metadata": {},
     "output_type": "execute_result"
    }
   ],
   "source": [
    "X_all.dtypes"
   ]
  },
  {
   "cell_type": "code",
   "execution_count": 23,
   "metadata": {},
   "outputs": [],
   "source": [
    "# split data\n",
    "X_train, X_test, y_train, y_test = train_test_split(X_all, y, test_size=0.3, random_state=42)"
   ]
  },
  {
   "cell_type": "code",
   "execution_count": 32,
   "metadata": {},
   "outputs": [
    {
     "data": {
      "text/html": [
       "<div>\n",
       "<style scoped>\n",
       "    .dataframe tbody tr th:only-of-type {\n",
       "        vertical-align: middle;\n",
       "    }\n",
       "\n",
       "    .dataframe tbody tr th {\n",
       "        vertical-align: top;\n",
       "    }\n",
       "\n",
       "    .dataframe thead th {\n",
       "        text-align: right;\n",
       "    }\n",
       "</style>\n",
       "<table border=\"1\" class=\"dataframe\">\n",
       "  <thead>\n",
       "    <tr style=\"text-align: right;\">\n",
       "      <th></th>\n",
       "      <th>population</th>\n",
       "      <th>fertility</th>\n",
       "      <th>HIV</th>\n",
       "      <th>CO2</th>\n",
       "      <th>BMI_male</th>\n",
       "      <th>GDP</th>\n",
       "      <th>BMI_female</th>\n",
       "      <th>child_mortality</th>\n",
       "      <th>Region</th>\n",
       "    </tr>\n",
       "  </thead>\n",
       "  <tbody>\n",
       "    <tr>\n",
       "      <th>40</th>\n",
       "      <td>1339941.0</td>\n",
       "      <td>1.62</td>\n",
       "      <td>1.2</td>\n",
       "      <td>13.031379</td>\n",
       "      <td>26.26446</td>\n",
       "      <td>24743.0</td>\n",
       "      <td>129.5161</td>\n",
       "      <td>5.5</td>\n",
       "      <td>Europe &amp; Central Asia</td>\n",
       "    </tr>\n",
       "    <tr>\n",
       "      <th>24</th>\n",
       "      <td>11139740.0</td>\n",
       "      <td>6.81</td>\n",
       "      <td>3.4</td>\n",
       "      <td>0.047839</td>\n",
       "      <td>21.48569</td>\n",
       "      <td>1753.0</td>\n",
       "      <td>127.8640</td>\n",
       "      <td>168.0</td>\n",
       "      <td>Sub-Saharan Africa</td>\n",
       "    </tr>\n",
       "  </tbody>\n",
       "</table>\n",
       "</div>"
      ],
      "text/plain": [
       "    population  fertility  HIV        CO2  BMI_male      GDP  BMI_female  \\\n",
       "40   1339941.0       1.62  1.2  13.031379  26.26446  24743.0    129.5161   \n",
       "24  11139740.0       6.81  3.4   0.047839  21.48569   1753.0    127.8640   \n",
       "\n",
       "    child_mortality                 Region  \n",
       "40              5.5  Europe & Central Asia  \n",
       "24            168.0     Sub-Saharan Africa  "
      ]
     },
     "execution_count": 32,
     "metadata": {},
     "output_type": "execute_result"
    }
   ],
   "source": [
    "X_train.head(2)"
   ]
  },
  {
   "cell_type": "markdown",
   "metadata": {},
   "source": [
    "#### Custom transformers"
   ]
  },
  {
   "cell_type": "code",
   "execution_count": 8,
   "metadata": {},
   "outputs": [],
   "source": [
    "from sklearn.base import BaseEstimator, TransformerMixin"
   ]
  },
  {
   "cell_type": "code",
   "execution_count": 9,
   "metadata": {},
   "outputs": [],
   "source": [
    "class ItemSelector(BaseEstimator, TransformerMixin):\n",
    "    \"\"\"For data grouped by feature, select subset of data at a provided key.\n",
    "\n",
    "    The data is expected to be stored in a 2D data structure, where the first\n",
    "    index is over features and the second is over samples.  i.e.\n",
    "\n",
    "    >> len(data[key]) == n_samples\n",
    "\n",
    "    Please note that this is the opposite convention to scikit-learn feature\n",
    "    matrixes (where the first index corresponds to sample).\n",
    "\n",
    "    ItemSelector only requires that the collection implement getitem\n",
    "    (data[key]).  Examples include: a dict of lists, 2D numpy array, Pandas\n",
    "    DataFrame, numpy record array, etc.\n",
    "\n",
    "    >> data = {'a': [1, 5, 2, 5, 2, 8],\n",
    "               'b': [9, 4, 1, 4, 1, 3]}\n",
    "    >> ds = ItemSelector(key='a')\n",
    "    >> data['a'] == ds.transform(data)\n",
    "\n",
    "    ItemSelector is not designed to handle data grouped by sample.  (e.g. a\n",
    "    list of dicts).  If your data is structured this way, consider a\n",
    "    transformer along the lines of `sklearn.feature_extraction.DictVectorizer`.\n",
    "\n",
    "    Parameters\n",
    "    ----------\n",
    "    key : hashable, required\n",
    "        The key corresponding to the desired value in a mappable.\n",
    "    \"\"\"\n",
    "    def __init__(self, key):\n",
    "        self.key = key\n",
    "\n",
    "    def fit(self, x, y=None):\n",
    "        return self\n",
    "\n",
    "    def transform(self, data_dict):\n",
    "        return data_dict[self.key]"
   ]
  },
  {
   "cell_type": "code",
   "execution_count": null,
   "metadata": {},
   "outputs": [],
   "source": [
    "class ItemSelector(BaseEstimator, TransformerMixin):\n",
    "    \"\"\"For data grouped by feature, select subset of data at a provided key.\n",
    "\n",
    "    ItemSelector only requires that the collection implement getitem\n",
    "    (data[key]).  Examples include: a dict of lists, 2D numpy array, Pandas\n",
    "    DataFrame, numpy record array, etc.\n",
    "\n",
    "    >> data = {'a': [1, 5, 2, 5, 2, 8],\n",
    "               'b': [9, 4, 1, 4, 1, 3]}\n",
    "    >> ds = ItemSelector(key='a')\n",
    "    >> data['a'] == ds.transform(data)\n",
    "\n",
    "    Parameters\n",
    "    ----------\n",
    "    key : hashable, required\n",
    "        The key corresponding to the desired value in a mappable.\n",
    "    \"\"\"\n",
    "    def __init__(self, key):\n",
    "        self.key = key\n",
    "\n",
    "    def fit(self, x, y=None):\n",
    "        return self\n",
    "\n",
    "    def transform(self, data_dict):\n",
    "        return data_dict[self.key]"
   ]
  },
  {
   "cell_type": "code",
   "execution_count": 10,
   "metadata": {},
   "outputs": [],
   "source": [
    "from pandas.api.types import CategoricalDtype\n",
    "\n",
    "class DummyTransformer(BaseEstimator, TransformerMixin):\n",
    "    \"\"\"Custom transformer to implement pandas 'get_dummies' into sklearn pipeline\n",
    "    As an alternative:\n",
    "    http://contrib.scikit-learn.org/categorical-encoding/onehot.html\n",
    "    can be used\n",
    "    \"\"\"\n",
    "\n",
    "    def __init__(self, columns_to_dummies, n_minus_one=False, sep='=', sparse=False,\n",
    "                 add_unseen_column=False, unseen_name='unseen'):\n",
    "\n",
    "        \"\"\"\n",
    "        :param unseen_name: the name of unseen column\n",
    "        :param add_unseen_column: bool. True if you want to add 'unseen' column\n",
    "        :param columns_to_dummies: list of columns that needs to be one-hot encoded.\n",
    "        :param n_minus_one: takes n-1 columns for one-hot encoding if True, and n columns if False.\n",
    "        :param sep: separator. prefix_sep in pd.get_dummies\n",
    "        \"\"\"\n",
    "        # TODO: adjust documentation\n",
    "\n",
    "        self.train_data_categories = dict()\n",
    "        self.columns_to_dummies = columns_to_dummies\n",
    "        self.n_minus_one = n_minus_one\n",
    "        self.train_columns = None\n",
    "        self.raw_columns = None\n",
    "        self.sep = sep\n",
    "        self.sparse = sparse\n",
    "\n",
    "        self.unseen_name = unseen_name\n",
    "        self.add_unseen_column = add_unseen_column\n",
    "\n",
    "    def fit(self, X, y=None):\n",
    "        \"\"\"\n",
    "        :param X: input dataframe.\n",
    "        :return: {categorical value: encoded value}\n",
    "        \"\"\"\n",
    "\n",
    "        for column in self.columns_to_dummies:\n",
    "            self.train_data_categories[column] = X[column].unique().tolist()\n",
    "            if self.add_unseen_column:\n",
    "                self.train_data_categories[column].append(self.unseen_name)\n",
    "\n",
    "        return self\n",
    "\n",
    "    def transform(self, X):\n",
    "        \"\"\"\n",
    "        :param X: input dataframe.\n",
    "        :return: data frame where each selected column is one-hot encoded.\n",
    "        \"\"\"\n",
    "\n",
    "        for col in self.columns_to_dummies:\n",
    "\n",
    "            if self.add_unseen_column:\n",
    "                all_values = X[col].unique().tolist()\n",
    "                new_values = list(set(all_values) - set(self.train_data_categories[col]))\n",
    "                X[col] = X[col].replace({k: self.unseen_name for k in new_values})  # TODO\n",
    "\n",
    "            X[col] = X[col].astype(CategoricalDtype(categories=self.train_data_categories[col]))\n",
    "\n",
    "        X_dum = pd.get_dummies(X, columns=self.columns_to_dummies,\n",
    "                               drop_first=self.n_minus_one, prefix_sep=self.sep,\n",
    "                               sparse=self.sparse)\n",
    "\n",
    "        return X_dum"
   ]
  },
  {
   "cell_type": "code",
   "execution_count": 39,
   "metadata": {},
   "outputs": [],
   "source": [
    "# we may get the description for the custom transformer via:\n",
    "DummyTransformer?"
   ]
  },
  {
   "cell_type": "markdown",
   "metadata": {},
   "source": [
    "#### Create pipelines"
   ]
  },
  {
   "cell_type": "code",
   "execution_count": 20,
   "metadata": {},
   "outputs": [],
   "source": [
    "from sklearn.pipeline import Pipeline, FeatureUnion"
   ]
  },
  {
   "cell_type": "code",
   "execution_count": 34,
   "metadata": {},
   "outputs": [],
   "source": [
    "dt = DummyTransformer(columns_to_dummies=['Region'])\n",
    "\n",
    "ohe_pipeline = Pipeline(\n",
    "    steps=[\n",
    "        (\"select\", ItemSelector(key=['Region'])),\n",
    "        (\"dummy\", dt),\n",
    "    ])"
   ]
  },
  {
   "cell_type": "code",
   "execution_count": 35,
   "metadata": {},
   "outputs": [],
   "source": [
    "from sklearn.preprocessing import StandardScaler\n",
    "\n",
    "num_col = ['population', 'fertility', 'HIV', 'CO2', 'BMI_male', 'GDP', 'BMI_female', 'child_mortality']\n",
    "\n",
    "scale_pipeline = Pipeline(\n",
    "    steps=[\n",
    "        ('selector', ItemSelector(key=num_col)),\n",
    "        (\"scaling\", StandardScaler())\n",
    "    ])"
   ]
  },
  {
   "cell_type": "code",
   "execution_count": 36,
   "metadata": {},
   "outputs": [],
   "source": [
    "data_prep_pipe = FeatureUnion([\n",
    "    (\"scaling\", scale_pipeline),\n",
    "    (\"ohe\", ohe_pipeline)\n",
    "])"
   ]
  },
  {
   "cell_type": "code",
   "execution_count": null,
   "metadata": {},
   "outputs": [],
   "source": []
  },
  {
   "cell_type": "code",
   "execution_count": 37,
   "metadata": {},
   "outputs": [
    {
     "data": {
      "text/plain": [
       "FeatureUnion(n_jobs=None,\n",
       "             transformer_list=[('scaling',\n",
       "                                Pipeline(memory=None,\n",
       "                                         steps=[('selector',\n",
       "                                                 ItemSelector(key=['population',\n",
       "                                                                   'fertility',\n",
       "                                                                   'HIV', 'CO2',\n",
       "                                                                   'BMI_male',\n",
       "                                                                   'GDP',\n",
       "                                                                   'BMI_female',\n",
       "                                                                   'child_mortality'])),\n",
       "                                                ('scaling',\n",
       "                                                 StandardScaler(copy=True,\n",
       "                                                                with_mean=True,\n",
       "                                                                with_std=True))],\n",
       "                                         verbose=False)),\n",
       "                               ('ohe',\n",
       "                                Pipeline(memory=None,\n",
       "                                         steps=[('select',\n",
       "                                                 ItemSelector(key=['Region'])),\n",
       "                                                ('dummy',\n",
       "                                                 DummyTransformer(add_unseen_column=False,\n",
       "                                                                  columns_to_dummies=['Region'],\n",
       "                                                                  n_minus_one=False,\n",
       "                                                                  sep='=',\n",
       "                                                                  sparse=False,\n",
       "                                                                  unseen_name='unseen'))],\n",
       "                                         verbose=False))],\n",
       "             transformer_weights=None, verbose=False)"
      ]
     },
     "execution_count": 37,
     "metadata": {},
     "output_type": "execute_result"
    }
   ],
   "source": [
    "data_prep_pipe.fit(X_train)"
   ]
  },
  {
   "cell_type": "code",
   "execution_count": 27,
   "metadata": {},
   "outputs": [
    {
     "name": "stderr",
     "output_type": "stream",
     "text": [
      "/Users/nickkon/.local/share/virtualenvs/itea-intro-ds/lib/python3.7/site-packages/ipykernel_launcher.py:59: SettingWithCopyWarning: \n",
      "A value is trying to be set on a copy of a slice from a DataFrame.\n",
      "Try using .loc[row_indexer,col_indexer] = value instead\n",
      "\n",
      "See the caveats in the documentation: http://pandas.pydata.org/pandas-docs/stable/user_guide/indexing.html#returning-a-view-versus-a-copy\n"
     ]
    }
   ],
   "source": [
    "X_train_prep = data_prep_pipe.transform(X_train)"
   ]
  },
  {
   "cell_type": "code",
   "execution_count": 29,
   "metadata": {},
   "outputs": [
    {
     "data": {
      "text/plain": [
       "array([[-0.3115296 , -0.88261103, -0.18734712,  1.91368118,  0.79135547,\n",
       "         0.59948962,  0.72975617, -0.89467342,  1.        ,  0.        ,\n",
       "         0.        ,  0.        ,  0.        ,  0.        ]])"
      ]
     },
     "execution_count": 29,
     "metadata": {},
     "output_type": "execute_result"
    }
   ],
   "source": [
    "X_train_prep[:1]"
   ]
  },
  {
   "cell_type": "code",
   "execution_count": 51,
   "metadata": {},
   "outputs": [
    {
     "data": {
      "text/plain": [
       "['Region=Europe & Central Asia',\n",
       " 'Region=Sub-Saharan Africa',\n",
       " 'Region=America',\n",
       " 'Region=East Asia & Pacific',\n",
       " 'Region=Middle East & North Africa',\n",
       " 'Region=South Asia']"
      ]
     },
     "execution_count": 51,
     "metadata": {},
     "output_type": "execute_result"
    }
   ],
   "source": [
    "dummy_columns=list(dt.transform(X_train[['Region']].head()).columns)\n",
    "dummy_columns"
   ]
  },
  {
   "cell_type": "code",
   "execution_count": 53,
   "metadata": {},
   "outputs": [
    {
     "data": {
      "text/plain": [
       "['population',\n",
       " 'fertility',\n",
       " 'HIV',\n",
       " 'CO2',\n",
       " 'BMI_male',\n",
       " 'GDP',\n",
       " 'BMI_female',\n",
       " 'child_mortality',\n",
       " 'Region=Europe & Central Asia',\n",
       " 'Region=Sub-Saharan Africa',\n",
       " 'Region=America',\n",
       " 'Region=East Asia & Pacific',\n",
       " 'Region=Middle East & North Africa',\n",
       " 'Region=South Asia']"
      ]
     },
     "execution_count": 53,
     "metadata": {},
     "output_type": "execute_result"
    }
   ],
   "source": [
    "prepared_columns = num_col + dummy_columns\n",
    "prepared_columns"
   ]
  },
  {
   "cell_type": "code",
   "execution_count": 54,
   "metadata": {},
   "outputs": [
    {
     "data": {
      "text/html": [
       "<div>\n",
       "<style scoped>\n",
       "    .dataframe tbody tr th:only-of-type {\n",
       "        vertical-align: middle;\n",
       "    }\n",
       "\n",
       "    .dataframe tbody tr th {\n",
       "        vertical-align: top;\n",
       "    }\n",
       "\n",
       "    .dataframe thead th {\n",
       "        text-align: right;\n",
       "    }\n",
       "</style>\n",
       "<table border=\"1\" class=\"dataframe\">\n",
       "  <thead>\n",
       "    <tr style=\"text-align: right;\">\n",
       "      <th></th>\n",
       "      <th>population</th>\n",
       "      <th>fertility</th>\n",
       "      <th>HIV</th>\n",
       "      <th>CO2</th>\n",
       "      <th>BMI_male</th>\n",
       "      <th>GDP</th>\n",
       "      <th>BMI_female</th>\n",
       "      <th>child_mortality</th>\n",
       "      <th>Region=Europe &amp; Central Asia</th>\n",
       "      <th>Region=Sub-Saharan Africa</th>\n",
       "      <th>Region=America</th>\n",
       "      <th>Region=East Asia &amp; Pacific</th>\n",
       "      <th>Region=Middle East &amp; North Africa</th>\n",
       "      <th>Region=South Asia</th>\n",
       "    </tr>\n",
       "  </thead>\n",
       "  <tbody>\n",
       "    <tr>\n",
       "      <th>0</th>\n",
       "      <td>-0.311530</td>\n",
       "      <td>-0.882611</td>\n",
       "      <td>-0.187347</td>\n",
       "      <td>1.913681</td>\n",
       "      <td>0.791355</td>\n",
       "      <td>0.599490</td>\n",
       "      <td>0.729756</td>\n",
       "      <td>-0.894673</td>\n",
       "      <td>1.0</td>\n",
       "      <td>0.0</td>\n",
       "      <td>0.0</td>\n",
       "      <td>0.0</td>\n",
       "      <td>0.0</td>\n",
       "      <td>0.0</td>\n",
       "    </tr>\n",
       "    <tr>\n",
       "      <th>1</th>\n",
       "      <td>-0.235233</td>\n",
       "      <td>2.437518</td>\n",
       "      <td>0.303866</td>\n",
       "      <td>-0.781455</td>\n",
       "      <td>-1.364965</td>\n",
       "      <td>-0.840730</td>\n",
       "      <td>0.363430</td>\n",
       "      <td>2.641951</td>\n",
       "      <td>0.0</td>\n",
       "      <td>1.0</td>\n",
       "      <td>0.0</td>\n",
       "      <td>0.0</td>\n",
       "      <td>0.0</td>\n",
       "      <td>0.0</td>\n",
       "    </tr>\n",
       "    <tr>\n",
       "      <th>2</th>\n",
       "      <td>-0.300806</td>\n",
       "      <td>-0.390029</td>\n",
       "      <td>-0.075708</td>\n",
       "      <td>0.120198</td>\n",
       "      <td>-0.228535</td>\n",
       "      <td>-0.389808</td>\n",
       "      <td>-0.189906</td>\n",
       "      <td>-0.603038</td>\n",
       "      <td>0.0</td>\n",
       "      <td>0.0</td>\n",
       "      <td>1.0</td>\n",
       "      <td>0.0</td>\n",
       "      <td>0.0</td>\n",
       "      <td>0.0</td>\n",
       "    </tr>\n",
       "    <tr>\n",
       "      <th>3</th>\n",
       "      <td>0.195409</td>\n",
       "      <td>-0.972171</td>\n",
       "      <td>-0.165019</td>\n",
       "      <td>0.004709</td>\n",
       "      <td>-0.678041</td>\n",
       "      <td>-0.185271</td>\n",
       "      <td>-1.270104</td>\n",
       "      <td>-0.674859</td>\n",
       "      <td>0.0</td>\n",
       "      <td>0.0</td>\n",
       "      <td>0.0</td>\n",
       "      <td>1.0</td>\n",
       "      <td>0.0</td>\n",
       "      <td>0.0</td>\n",
       "    </tr>\n",
       "    <tr>\n",
       "      <th>4</th>\n",
       "      <td>-0.219858</td>\n",
       "      <td>1.842582</td>\n",
       "      <td>2.581311</td>\n",
       "      <td>-0.760460</td>\n",
       "      <td>-1.727067</td>\n",
       "      <td>-0.760168</td>\n",
       "      <td>1.380145</td>\n",
       "      <td>1.051014</td>\n",
       "      <td>0.0</td>\n",
       "      <td>1.0</td>\n",
       "      <td>0.0</td>\n",
       "      <td>0.0</td>\n",
       "      <td>0.0</td>\n",
       "      <td>0.0</td>\n",
       "    </tr>\n",
       "  </tbody>\n",
       "</table>\n",
       "</div>"
      ],
      "text/plain": [
       "   population  fertility       HIV       CO2  BMI_male       GDP  BMI_female  \\\n",
       "0   -0.311530  -0.882611 -0.187347  1.913681  0.791355  0.599490    0.729756   \n",
       "1   -0.235233   2.437518  0.303866 -0.781455 -1.364965 -0.840730    0.363430   \n",
       "2   -0.300806  -0.390029 -0.075708  0.120198 -0.228535 -0.389808   -0.189906   \n",
       "3    0.195409  -0.972171 -0.165019  0.004709 -0.678041 -0.185271   -1.270104   \n",
       "4   -0.219858   1.842582  2.581311 -0.760460 -1.727067 -0.760168    1.380145   \n",
       "\n",
       "   child_mortality  Region=Europe & Central Asia  Region=Sub-Saharan Africa  \\\n",
       "0        -0.894673                           1.0                        0.0   \n",
       "1         2.641951                           0.0                        1.0   \n",
       "2        -0.603038                           0.0                        0.0   \n",
       "3        -0.674859                           0.0                        0.0   \n",
       "4         1.051014                           0.0                        1.0   \n",
       "\n",
       "   Region=America  Region=East Asia & Pacific  \\\n",
       "0             0.0                         0.0   \n",
       "1             0.0                         0.0   \n",
       "2             1.0                         0.0   \n",
       "3             0.0                         1.0   \n",
       "4             0.0                         0.0   \n",
       "\n",
       "   Region=Middle East & North Africa  Region=South Asia  \n",
       "0                                0.0                0.0  \n",
       "1                                0.0                0.0  \n",
       "2                                0.0                0.0  \n",
       "3                                0.0                0.0  \n",
       "4                                0.0                0.0  "
      ]
     },
     "execution_count": 54,
     "metadata": {},
     "output_type": "execute_result"
    }
   ],
   "source": [
    "X_train_prep_df = pd.DataFrame(X_train_prep, columns=prepared_columns)\n",
    "X_train_prep_df.head()"
   ]
  },
  {
   "cell_type": "code",
   "execution_count": null,
   "metadata": {},
   "outputs": [],
   "source": []
  },
  {
   "cell_type": "markdown",
   "metadata": {},
   "source": [
    "### Train the model"
   ]
  },
  {
   "cell_type": "code",
   "execution_count": 58,
   "metadata": {},
   "outputs": [],
   "source": [
    "lr = LinearRegression()\n",
    "lasso = Lasso()\n",
    "ridge = Ridge()"
   ]
  },
  {
   "cell_type": "code",
   "execution_count": 76,
   "metadata": {},
   "outputs": [],
   "source": [
    "# choose any of lr, lasso, ridge\n",
    "estimator = lasso"
   ]
  },
  {
   "cell_type": "code",
   "execution_count": 77,
   "metadata": {},
   "outputs": [],
   "source": [
    "full_pipeline = Pipeline(steps=[\n",
    "    (\"prepare\", data_prep_pipe),\n",
    "    (\"predict\", estimator)\n",
    "])"
   ]
  },
  {
   "cell_type": "code",
   "execution_count": 78,
   "metadata": {},
   "outputs": [
    {
     "name": "stderr",
     "output_type": "stream",
     "text": [
      "/Users/nickkon/.local/share/virtualenvs/itea-intro-ds/lib/python3.7/site-packages/ipykernel_launcher.py:59: SettingWithCopyWarning: \n",
      "A value is trying to be set on a copy of a slice from a DataFrame.\n",
      "Try using .loc[row_indexer,col_indexer] = value instead\n",
      "\n",
      "See the caveats in the documentation: http://pandas.pydata.org/pandas-docs/stable/user_guide/indexing.html#returning-a-view-versus-a-copy\n"
     ]
    }
   ],
   "source": [
    "full_pipeline.fit(X_train, y_train);"
   ]
  },
  {
   "cell_type": "code",
   "execution_count": 79,
   "metadata": {},
   "outputs": [
    {
     "name": "stderr",
     "output_type": "stream",
     "text": [
      "/Users/nickkon/.local/share/virtualenvs/itea-intro-ds/lib/python3.7/site-packages/ipykernel_launcher.py:59: SettingWithCopyWarning: \n",
      "A value is trying to be set on a copy of a slice from a DataFrame.\n",
      "Try using .loc[row_indexer,col_indexer] = value instead\n",
      "\n",
      "See the caveats in the documentation: http://pandas.pydata.org/pandas-docs/stable/user_guide/indexing.html#returning-a-view-versus-a-copy\n"
     ]
    }
   ],
   "source": [
    "y_pred = full_pipeline.predict(X_test)"
   ]
  },
  {
   "cell_type": "code",
   "execution_count": null,
   "metadata": {},
   "outputs": [],
   "source": []
  },
  {
   "cell_type": "markdown",
   "metadata": {},
   "source": [
    "### Metrics"
   ]
  },
  {
   "cell_type": "code",
   "execution_count": 80,
   "metadata": {},
   "outputs": [],
   "source": [
    "from sklearn.metrics import mean_absolute_error, r2_score"
   ]
  },
  {
   "cell_type": "code",
   "execution_count": 81,
   "metadata": {},
   "outputs": [
    {
     "data": {
      "text/plain": [
       "2.273842506734322"
      ]
     },
     "execution_count": 81,
     "metadata": {},
     "output_type": "execute_result"
    }
   ],
   "source": [
    "mean_absolute_error(y_test, y_pred)"
   ]
  },
  {
   "cell_type": "code",
   "execution_count": 82,
   "metadata": {},
   "outputs": [
    {
     "name": "stdout",
     "output_type": "stream",
     "text": [
      "r2: 0.87\n"
     ]
    }
   ],
   "source": [
    "print(\"r2: {:.2f}\".format(r2_score(y_test, y_pred)))"
   ]
  },
  {
   "cell_type": "code",
   "execution_count": 83,
   "metadata": {},
   "outputs": [
    {
     "name": "stdout",
     "output_type": "stream",
     "text": [
      "[-0.         -0.         -2.54730985  0.          0.59981739  1.40776429\n",
      " -0.75327118 -4.41888409  0.         -0.          0.         -0.\n",
      "  0.          0.        ]\n"
     ]
    }
   ],
   "source": [
    "print(estimator.coef_)"
   ]
  },
  {
   "cell_type": "markdown",
   "metadata": {},
   "source": [
    "#### Notice the diff between lasso coefs and lr coefs"
   ]
  },
  {
   "cell_type": "code",
   "execution_count": 85,
   "metadata": {},
   "outputs": [
    {
     "data": {
      "text/plain": [
       "population                          -0.000000\n",
       "fertility                           -0.000000\n",
       "HIV                                 -2.547310\n",
       "CO2                                  0.000000\n",
       "BMI_male                             0.599817\n",
       "GDP                                  1.407764\n",
       "BMI_female                          -0.753271\n",
       "child_mortality                     -4.418884\n",
       "Region=Europe & Central Asia         0.000000\n",
       "Region=Sub-Saharan Africa           -0.000000\n",
       "Region=America                       0.000000\n",
       "Region=East Asia & Pacific          -0.000000\n",
       "Region=Middle East & North Africa    0.000000\n",
       "Region=South Asia                    0.000000\n",
       "dtype: float64"
      ]
     },
     "execution_count": 85,
     "metadata": {},
     "output_type": "execute_result"
    }
   ],
   "source": [
    "coefs = pd.Series(estimator.coef_, index=prepared_columns)\n",
    "coefs"
   ]
  },
  {
   "cell_type": "code",
   "execution_count": null,
   "metadata": {},
   "outputs": [],
   "source": []
  }
 ],
 "metadata": {
  "kernelspec": {
   "display_name": "Python 3",
   "language": "python",
   "name": "python3"
  },
  "language_info": {
   "codemirror_mode": {
    "name": "ipython",
    "version": 3
   },
   "file_extension": ".py",
   "mimetype": "text/x-python",
   "name": "python",
   "nbconvert_exporter": "python",
   "pygments_lexer": "ipython3",
   "version": "3.7.3"
  }
 },
 "nbformat": 4,
 "nbformat_minor": 2
}
